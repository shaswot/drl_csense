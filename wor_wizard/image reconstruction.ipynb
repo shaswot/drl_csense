{
 "cells": [
  {
   "cell_type": "code",
   "execution_count": null,
   "id": "32c2ca3f-b0c0-405b-b251-8e0c22d71e65",
   "metadata": {},
   "outputs": [],
   "source": [
    "from matplotlib.image import imread\n",
    "import matplotlib.pyplot as plt\n",
    "import numpy as np\n",
    "import cv2\n",
    "import sympy"
   ]
  },
  {
   "cell_type": "code",
   "execution_count": null,
   "id": "cf8a036b-7358-4b85-9dbd-d7445152d479",
   "metadata": {},
   "outputs": [],
   "source": [
    "import scipy.fftpack as spfft\n",
    "from scipy.linalg import hadamard\n",
    "from sklearn.linear_model import Lasso"
   ]
  },
  {
   "cell_type": "code",
   "execution_count": null,
   "id": "e211ace0-1aa5-4c79-85e4-b56027ad7a32",
   "metadata": {},
   "outputs": [],
   "source": [
    "alpha=1E-4\n",
    "max_iter=1E3"
   ]
  },
  {
   "cell_type": "code",
   "execution_count": null,
   "id": "82a6acf7-df5f-4842-ab58-19c51ea19db3",
   "metadata": {},
   "outputs": [],
   "source": [
    "def squarify(image):\n",
    "    org_height, org_width = image.shape\n",
    "    new_dim = max(org_height, org_width)\n",
    "    \n",
    "    delta_h = new_dim - org_height\n",
    "    delta_w = new_dim - org_width\n",
    "    \n",
    "    color = [0, 0, 0]\n",
    "    top, bottom = delta_h//2, delta_h-(delta_h//2)\n",
    "    left, right = delta_w//2, delta_w-(delta_w//2)\n",
    "    square_image = cv2.copyMakeBorder(image, top, bottom, left, right, cv2.BORDER_CONSTANT,value=color)\n",
    "\n",
    "    return square_image"
   ]
  },
  {
   "cell_type": "code",
   "execution_count": null,
   "id": "bc62359b-4270-4caa-81a2-2431071494e0",
   "metadata": {},
   "outputs": [],
   "source": [
    "def reconstruct_frame_hadamard(noisyframe, lasso):\n",
    "    if noisyframe.shape[0] != noisyframe[1]:\n",
    "        noisyframe = squarify(noisyframe)\n",
    "        \n",
    "    ny, nx = noisyframe.shape\n",
    "    A = hadamard(nx*ny)\n",
    "    flat_frame = frame.T.reshape(-1,1)\n",
    "    \n",
    "    idx_nonzero = np.where(flat_frame != 0)[0]\n",
    "    \n",
    "    # compressed sample\n",
    "    b = flat_frame[idx_nonzero]\n",
    "    # compression matrix @ transform matrix\n",
    "    Ac = A[idx_nonzero,:]\n",
    "    \n",
    "    # LASSO optimization\n",
    "    lasso.fit(Ac, b)\n",
    "    \n",
    "    # Reconstruct frame\n",
    "    coeff = np.array(lasso.coef_)\n",
    "    reconstructed_image = np.array(sympy.fwht(coeff)).astype(np.float32).reshape(width,height).T\n",
    "\n",
    "    return reconstructed_image"
   ]
  },
  {
   "cell_type": "code",
   "execution_count": null,
   "id": "9e4d6d91-ec5f-4332-a279-c897d756e2f3",
   "metadata": {},
   "outputs": [],
   "source": [
    "def reconstruct_frame_dct(frame, lasso):\n",
    "    ny, nx = frame.shape\n",
    "    A = np.kron(\n",
    "        spfft.idct(np.identity(nx), norm='ortho', axis=0),\n",
    "        spfft.idct(np.identity(ny), norm='ortho', axis=0)\n",
    "        )\n",
    "\n",
    "    flat_frame = frame.T.reshape(-1,1)\n",
    "    idx_nonzero = np.where(flat_frame != 0)[0]\n",
    "\n",
    "    # compressed sample\n",
    "    b = flat_frame[idx_nonzero]\n",
    "    # compression matrix @ transform matrix\n",
    "    Ac = A[idx_nonzero,:]\n",
    "\n",
    "    # LASSO optimization\n",
    "    lasso.fit(Ac, b)\n",
    "\n",
    "    # Reconstruct frame\n",
    "    Xat = np.array(lasso.coef_).reshape(nx, ny).T # stack columns\n",
    "\n",
    "    # Get the reconstructed frame\n",
    "    Xa = idct2(Xat)\n",
    "\n",
    "    return Xa"
   ]
  },
  {
   "cell_type": "code",
   "execution_count": null,
   "id": "f38c08cf-ad07-49e7-bc56-49c0d829705b",
   "metadata": {},
   "outputs": [],
   "source": []
  },
  {
   "cell_type": "code",
   "execution_count": null,
   "id": "b8d15695-05dc-4558-9a0b-20e5aabf3b84",
   "metadata": {},
   "outputs": [],
   "source": []
  },
  {
   "cell_type": "code",
   "execution_count": null,
   "id": "4a6e4d48-317b-4c20-bbd2-e4660564cfc4",
   "metadata": {},
   "outputs": [],
   "source": []
  },
  {
   "cell_type": "code",
   "execution_count": null,
   "id": "c3a9fa80-9ebc-4edf-b895-95cc3ae76732",
   "metadata": {},
   "outputs": [],
   "source": []
  },
  {
   "cell_type": "code",
   "execution_count": null,
   "id": "7b112476-d737-4026-bb91-6a4abc0ef3bb",
   "metadata": {},
   "outputs": [],
   "source": [
    "image = imread('../dog.jpg')\n",
    "bw_image = np.mean(image, -1); # Convert RGB to grayscale"
   ]
  },
  {
   "cell_type": "code",
   "execution_count": null,
   "id": "8a87f6da-a024-4c1b-a6a4-765cbdd71944",
   "metadata": {},
   "outputs": [],
   "source": []
  }
 ],
 "metadata": {
  "kernelspec": {
   "display_name": "Python 3 (ipykernel)",
   "language": "python",
   "name": "python3"
  },
  "language_info": {
   "codemirror_mode": {
    "name": "ipython",
    "version": 3
   },
   "file_extension": ".py",
   "mimetype": "text/x-python",
   "name": "python",
   "nbconvert_exporter": "python",
   "pygments_lexer": "ipython3",
   "version": "3.10.6"
  }
 },
 "nbformat": 4,
 "nbformat_minor": 5
}
