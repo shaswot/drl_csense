{
 "cells": [
  {
   "cell_type": "code",
   "execution_count": 1,
   "id": "c972fce5-71de-4894-a526-7754cd871eb6",
   "metadata": {},
   "outputs": [
    {
     "name": "stdout",
     "output_type": "stream",
     "text": [
      "Project Root Directory: /repos/drl_csense\n"
     ]
    }
   ],
   "source": [
    "import os\n",
    "import sys\n",
    "import git\n",
    "import pathlib\n",
    "\n",
    "os.environ['TF_CPP_MIN_LOG_LEVEL'] = '3' \n",
    "\n",
    "PROJ_ROOT_PATH = pathlib.Path(git.Repo('.', search_parent_directories=True).working_tree_dir)\n",
    "PROJ_ROOT =  str(PROJ_ROOT_PATH)\n",
    "if PROJ_ROOT not in sys.path:\n",
    "    sys.path.append(PROJ_ROOT)\n",
    "\n",
    "print(f\"Project Root Directory: {PROJ_ROOT}\")"
   ]
  },
  {
   "cell_type": "code",
   "execution_count": 2,
   "id": "ceb352a9-bb40-467d-8475-20028cd1499a",
   "metadata": {},
   "outputs": [],
   "source": [
    "import numpy as np\n",
    "import matplotlib.pyplot as plt"
   ]
  },
  {
   "cell_type": "code",
   "execution_count": 3,
   "id": "39c4456f-4228-4243-8de4-7511b0904571",
   "metadata": {},
   "outputs": [],
   "source": [
    "import scipy.fftpack as spfft\n",
    "from sklearn.linear_model import Lasso"
   ]
  },
  {
   "cell_type": "code",
   "execution_count": 4,
   "id": "4be800c2-dd53-4189-bb38-d9c790537a9d",
   "metadata": {},
   "outputs": [],
   "source": [
    "import imageio\n",
    "import ipyplot"
   ]
  },
  {
   "cell_type": "code",
   "execution_count": 5,
   "id": "11ddbc55-a572-4049-a719-9b49d55f3df2",
   "metadata": {},
   "outputs": [],
   "source": [
    "def idct2(x):\n",
    "        return spfft.idct(spfft.idct(x.T, norm='ortho', axis=0).T, norm='ortho', axis=0)\n",
    "\n",
    "alpha=1E-5\n",
    "max_iter=1E3\n"
   ]
  },
  {
   "cell_type": "code",
   "execution_count": 6,
   "id": "763e0985-a397-4410-85d2-dbb588f21881",
   "metadata": {},
   "outputs": [],
   "source": [
    "def reconstruct_frame(frame, lasso):\n",
    "    ny, nx = frame.shape\n",
    "    A = np.kron(\n",
    "        spfft.idct(np.identity(nx), norm='ortho', axis=0),\n",
    "        spfft.idct(np.identity(ny), norm='ortho', axis=0)\n",
    "        )\n",
    "\n",
    "    flat_frame = frame.T.reshape(-1,1)\n",
    "    idx_nonzero = np.where(flat_frame != 0)[0]\n",
    "\n",
    "    # compressed sample\n",
    "    b = flat_frame[idx_nonzero]\n",
    "    # compression matrix @ transform matrix\n",
    "    Ac = A[idx_nonzero,:]\n",
    "\n",
    "    # LASSO optimization\n",
    "    lasso.fit(Ac, b)\n",
    "\n",
    "    # Reconstruct frame\n",
    "    Xat = np.array(lasso.coef_).reshape(nx, ny).T # stack columns\n",
    "\n",
    "    # Get the reconstructed frame\n",
    "    Xa = idct2(Xat)\n",
    "\n",
    "    return Xa"
   ]
  },
  {
   "cell_type": "code",
   "execution_count": 7,
   "id": "d4746808-45a3-4960-af85-5b239c110e52",
   "metadata": {},
   "outputs": [],
   "source": [
    "# env_id = \"BreakoutNoFrameskip-v4\"\n",
    "# noise = 0.4\n",
    "\n",
    "ENV_LIST = [\"BreakoutNoFrameskip-v4\", \"BankHeistNoFrameskip-v4\", \"WizardOfWorNoFrameskip-v4\"]\n",
    "NOISE_LIST = [0.0, 0.1, 0.2, 0.3, 0.4]"
   ]
  },
  {
   "cell_type": "code",
   "execution_count": 8,
   "id": "22b4494d-6ed5-48a1-9a0f-98d5b10c584e",
   "metadata": {},
   "outputs": [
    {
     "name": "stdout",
     "output_type": "stream",
     "text": [
      "--------------------\n",
      "env_id='BreakoutNoFrameskip-v4'; noise=0.0\n",
      "Processing Frame: 9\u001b[1K\r"
     ]
    },
    {
     "name": "stderr",
     "output_type": "stream",
     "text": [
      "/usr/local/lib/python3.10/dist-packages/sklearn/linear_model/_coordinate_descent.py:631: ConvergenceWarning: Objective did not converge. You might want to increase the number of iterations, check the scale of the features or consider increasing regularisation. Duality gap: 3.714e-02, tolerance: 6.362e-03\n",
      "  model = cd_fast.enet_coordinate_descent(\n"
     ]
    },
    {
     "name": "stdout",
     "output_type": "stream",
     "text": [
      "Processing Frame: 16\u001b[1K\r"
     ]
    },
    {
     "name": "stderr",
     "output_type": "stream",
     "text": [
      "/usr/local/lib/python3.10/dist-packages/sklearn/linear_model/_coordinate_descent.py:631: ConvergenceWarning: Objective did not converge. You might want to increase the number of iterations, check the scale of the features or consider increasing regularisation. Duality gap: 1.005e-02, tolerance: 6.411e-03\n",
      "  model = cd_fast.enet_coordinate_descent(\n"
     ]
    },
    {
     "name": "stdout",
     "output_type": "stream",
     "text": [
      "Processing Frame: 17\u001b[1K\r"
     ]
    },
    {
     "name": "stderr",
     "output_type": "stream",
     "text": [
      "/usr/local/lib/python3.10/dist-packages/sklearn/linear_model/_coordinate_descent.py:631: ConvergenceWarning: Objective did not converge. You might want to increase the number of iterations, check the scale of the features or consider increasing regularisation. Duality gap: 1.511e-02, tolerance: 6.408e-03\n",
      "  model = cd_fast.enet_coordinate_descent(\n"
     ]
    },
    {
     "name": "stdout",
     "output_type": "stream",
     "text": [
      "Processing Frame: 35\u001b[1K\r"
     ]
    },
    {
     "name": "stderr",
     "output_type": "stream",
     "text": [
      "/usr/local/lib/python3.10/dist-packages/sklearn/linear_model/_coordinate_descent.py:631: ConvergenceWarning: Objective did not converge. You might want to increase the number of iterations, check the scale of the features or consider increasing regularisation. Duality gap: 2.854e-02, tolerance: 6.499e-03\n",
      "  model = cd_fast.enet_coordinate_descent(\n"
     ]
    },
    {
     "name": "stdout",
     "output_type": "stream",
     "text": [
      "--------------------\u001b[1K\n",
      "env_id='BreakoutNoFrameskip-v4'; noise=0.1\n",
      "Processing Frame: 4\u001b[1K\r"
     ]
    },
    {
     "name": "stderr",
     "output_type": "stream",
     "text": [
      "/usr/local/lib/python3.10/dist-packages/sklearn/linear_model/_coordinate_descent.py:631: ConvergenceWarning: Objective did not converge. You might want to increase the number of iterations, check the scale of the features or consider increasing regularisation. Duality gap: 2.039e-02, tolerance: 5.942e-03\n",
      "  model = cd_fast.enet_coordinate_descent(\n"
     ]
    },
    {
     "name": "stdout",
     "output_type": "stream",
     "text": [
      "Processing Frame: 11\u001b[1K\r"
     ]
    },
    {
     "name": "stderr",
     "output_type": "stream",
     "text": [
      "/usr/local/lib/python3.10/dist-packages/sklearn/linear_model/_coordinate_descent.py:631: ConvergenceWarning: Objective did not converge. You might want to increase the number of iterations, check the scale of the features or consider increasing regularisation. Duality gap: 1.186e-02, tolerance: 5.924e-03\n",
      "  model = cd_fast.enet_coordinate_descent(\n"
     ]
    },
    {
     "name": "stdout",
     "output_type": "stream",
     "text": [
      "Processing Frame: 18\u001b[1K\r"
     ]
    },
    {
     "name": "stderr",
     "output_type": "stream",
     "text": [
      "/usr/local/lib/python3.10/dist-packages/sklearn/linear_model/_coordinate_descent.py:631: ConvergenceWarning: Objective did not converge. You might want to increase the number of iterations, check the scale of the features or consider increasing regularisation. Duality gap: 8.215e-03, tolerance: 6.039e-03\n",
      "  model = cd_fast.enet_coordinate_descent(\n"
     ]
    },
    {
     "name": "stdout",
     "output_type": "stream",
     "text": [
      "Processing Frame: 20\u001b[1K\r"
     ]
    },
    {
     "name": "stderr",
     "output_type": "stream",
     "text": [
      "/usr/local/lib/python3.10/dist-packages/sklearn/linear_model/_coordinate_descent.py:631: ConvergenceWarning: Objective did not converge. You might want to increase the number of iterations, check the scale of the features or consider increasing regularisation. Duality gap: 2.439e-02, tolerance: 5.973e-03\n",
      "  model = cd_fast.enet_coordinate_descent(\n"
     ]
    },
    {
     "name": "stdout",
     "output_type": "stream",
     "text": [
      "Processing Frame: 42\u001b[1K\r"
     ]
    },
    {
     "name": "stderr",
     "output_type": "stream",
     "text": [
      "/usr/local/lib/python3.10/dist-packages/sklearn/linear_model/_coordinate_descent.py:631: ConvergenceWarning: Objective did not converge. You might want to increase the number of iterations, check the scale of the features or consider increasing regularisation. Duality gap: 1.138e-02, tolerance: 6.013e-03\n",
      "  model = cd_fast.enet_coordinate_descent(\n"
     ]
    },
    {
     "name": "stdout",
     "output_type": "stream",
     "text": [
      "--------------------\u001b[1K\n",
      "env_id='BreakoutNoFrameskip-v4'; noise=0.2\n",
      "Processing Frame: 10\u001b[1K\r"
     ]
    },
    {
     "name": "stderr",
     "output_type": "stream",
     "text": [
      "/usr/local/lib/python3.10/dist-packages/sklearn/linear_model/_coordinate_descent.py:631: ConvergenceWarning: Objective did not converge. You might want to increase the number of iterations, check the scale of the features or consider increasing regularisation. Duality gap: 1.623e-02, tolerance: 5.370e-03\n",
      "  model = cd_fast.enet_coordinate_descent(\n"
     ]
    },
    {
     "name": "stdout",
     "output_type": "stream",
     "text": [
      "Processing Frame: 17\u001b[1K\r"
     ]
    },
    {
     "name": "stderr",
     "output_type": "stream",
     "text": [
      "/usr/local/lib/python3.10/dist-packages/sklearn/linear_model/_coordinate_descent.py:631: ConvergenceWarning: Objective did not converge. You might want to increase the number of iterations, check the scale of the features or consider increasing regularisation. Duality gap: 1.382e-02, tolerance: 5.441e-03\n",
      "  model = cd_fast.enet_coordinate_descent(\n"
     ]
    },
    {
     "name": "stdout",
     "output_type": "stream",
     "text": [
      "Processing Frame: 21\u001b[1K\r"
     ]
    },
    {
     "name": "stderr",
     "output_type": "stream",
     "text": [
      "/usr/local/lib/python3.10/dist-packages/sklearn/linear_model/_coordinate_descent.py:631: ConvergenceWarning: Objective did not converge. You might want to increase the number of iterations, check the scale of the features or consider increasing regularisation. Duality gap: 2.737e-02, tolerance: 5.678e-03\n",
      "  model = cd_fast.enet_coordinate_descent(\n"
     ]
    },
    {
     "name": "stdout",
     "output_type": "stream",
     "text": [
      "Processing Frame: 45\u001b[1K\r"
     ]
    },
    {
     "name": "stderr",
     "output_type": "stream",
     "text": [
      "/usr/local/lib/python3.10/dist-packages/sklearn/linear_model/_coordinate_descent.py:631: ConvergenceWarning: Objective did not converge. You might want to increase the number of iterations, check the scale of the features or consider increasing regularisation. Duality gap: 1.429e-02, tolerance: 5.626e-03\n",
      "  model = cd_fast.enet_coordinate_descent(\n"
     ]
    },
    {
     "name": "stdout",
     "output_type": "stream",
     "text": [
      "--------------------\u001b[1K\n",
      "env_id='BreakoutNoFrameskip-v4'; noise=0.3\n",
      "Processing Frame: 45\u001b[1K\r"
     ]
    },
    {
     "name": "stderr",
     "output_type": "stream",
     "text": [
      "/usr/local/lib/python3.10/dist-packages/sklearn/linear_model/_coordinate_descent.py:631: ConvergenceWarning: Objective did not converge. You might want to increase the number of iterations, check the scale of the features or consider increasing regularisation. Duality gap: 1.966e-02, tolerance: 4.997e-03\n",
      "  model = cd_fast.enet_coordinate_descent(\n"
     ]
    },
    {
     "name": "stdout",
     "output_type": "stream",
     "text": [
      "--------------------\u001b[1K\n",
      "env_id='BreakoutNoFrameskip-v4'; noise=0.4\n",
      "--------------------\u001b[1K\n",
      "env_id='BankHeistNoFrameskip-v4'; noise=0.0\n",
      "--------------------\u001b[1K\n",
      "env_id='BankHeistNoFrameskip-v4'; noise=0.1\n",
      "--------------------\u001b[1K\n",
      "env_id='BankHeistNoFrameskip-v4'; noise=0.2\n",
      "--------------------\u001b[1K\n",
      "env_id='BankHeistNoFrameskip-v4'; noise=0.3\n",
      "--------------------\u001b[1K\n",
      "env_id='BankHeistNoFrameskip-v4'; noise=0.4\n",
      "--------------------\u001b[1K\n",
      "env_id='WizardOfWorNoFrameskip-v4'; noise=0.0\n",
      "--------------------\u001b[1K\n",
      "env_id='WizardOfWorNoFrameskip-v4'; noise=0.1\n",
      "--------------------\u001b[1K\n",
      "env_id='WizardOfWorNoFrameskip-v4'; noise=0.2\n",
      "--------------------\u001b[1K\n",
      "env_id='WizardOfWorNoFrameskip-v4'; noise=0.3\n",
      "--------------------\u001b[1K\n",
      "env_id='WizardOfWorNoFrameskip-v4'; noise=0.4\n",
      "Processing Frame: 49\u001b[1K\r"
     ]
    }
   ],
   "source": [
    "for env_id in ENV_LIST:\n",
    "    for noise in NOISE_LIST:\n",
    "        lasso = Lasso(alpha=alpha, max_iter=int(max_iter), warm_start=True, selection=\"random\")\n",
    "        print(\"--\"*10)\n",
    "        print(f\"{env_id=}; {noise=}\")    \n",
    "        obs_gif_file = f\"./gifs/{env_id}--noise_{noise}--obs.gif\"\n",
    "        obs_gif_frames = imageio.mimread(obs_gif_file)\n",
    "        \n",
    "        reconstructed_frame_list = []\n",
    "        for i,gif_frame in enumerate(obs_gif_frames[:50]):\n",
    "            print(f\"Processing Frame: {i}\", end='\\x1b[1K\\r')\n",
    "            # Take only one of the layers and normalize\n",
    "            frame = gif_frame[:,:,0]/255\n",
    "            reconstructed_frame = reconstruct_frame(frame, lasso)\n",
    "            # Denormalize\n",
    "            reconstructed_frame = 255 * (reconstructed_frame - np.min(reconstructed_frame))/(np.max(reconstructed_frame) - np.min(reconstructed_frame))\n",
    "            reconstructed_frame_list.append(reconstructed_frame)\n",
    "        # Convert obss to animation\n",
    "        reconstructed_gif_file = f\"./gifs/reconstructed/{env_id}--noise_{noise}--obs--reconstructed_v2.gif\"\n",
    "        imageio.mimsave(reconstructed_gif_file, \n",
    "                        [np.array(reconstructed_frame) for i, reconstructed_frame in enumerate(reconstructed_frame_list)], duration=100)"
   ]
  },
  {
   "cell_type": "code",
   "execution_count": null,
   "id": "75c1e464-ebc3-4dbf-84db-041dfb30b8b7",
   "metadata": {},
   "outputs": [],
   "source": []
  },
  {
   "cell_type": "code",
   "execution_count": 9,
   "id": "1360dd18-4afe-486d-8a7e-b20b430d9d90",
   "metadata": {},
   "outputs": [],
   "source": [
    "# for eval_param_value in reversed([0.0,0.1,0.2, 0.3, 0.4]):\n",
    "#     alpha = 1E-5\n",
    "#     print()\n",
    "#     print(f\"{eval_param_value=}\")\n",
    "#     # Get names and tags of experiment\n",
    "#     exp_name, exp_metaname, exp_tag = get_exp_name_tag(env_id, exp_param_type, exp_param_value)\n",
    "    \n",
    "#     # Get directories\n",
    "#     models_dir, log_dir, gif_dir, image_dir = makeget_logging_dir(exp_name)\n",
    "    \n",
    "#     # Load gif file\n",
    "#     obs_gif_file = f\"{gif_dir}/{exp_name}-run_{run_no}--eval_{model_type}-{eval_param_type}_{eval_param_value}--obs.gif\"\n",
    "    \n",
    "#     obs_gif_frames = imageio.mimread(obs_gif_file)\n",
    "    \n",
    "#     reconstructed_frame_list = []\n",
    "#     for i,gif_frame in enumerate(obs_gif_frames[:50]):\n",
    "#         print(f\"Processing Frame: {i}\", end='\\x1b[1K\\r')\n",
    "#         # Take only one of the layers and normalize\n",
    "#         frame = gif_frame[:,:,0]/255\n",
    "#         reconstructed_frame = reconstruct_frame(frame, alpha=alpha, max_iter=1E4)\n",
    "#         reconstructed_frame = 255 * (reconstructed_frame - np.min(reconstructed_frame))/(np.max(reconstructed_frame) - np.min(reconstructed_frame))\n",
    "#         reconstructed_frame_list.append(reconstructed_frame)\n",
    "#         # reconstructed_frame_list.append(frame*255)\n",
    "        \n",
    "    \n",
    "#     # Convert obss to animation\n",
    "#     reconstructed_gif_file = f\"{eval_param_type}_{eval_param_value}--reconstructed-alpha_1e-5.gif\"\n",
    "#     imageio.mimsave(reconstructed_gif_file, \n",
    "#                     [np.array(reconstructed_frame) for i, reconstructed_frame in enumerate(reconstructed_frame_list)], duration=100)"
   ]
  },
  {
   "cell_type": "code",
   "execution_count": 10,
   "id": "ce67474a-6390-4afa-8f77-3d52bde56e87",
   "metadata": {},
   "outputs": [],
   "source": [
    "# ENV_LIST = [\"BreakoutNoFrameskip-v4\", \"BankHeistNoFrameskip-v4\", \"WizardOfWorNoFrameskip-v4\"]\n",
    "\n",
    "\n",
    "\n",
    "# # env_id = \"BreakoutNoFrameskip-v4\"\n",
    "# # noise = 0.4\n",
    "# NOISE_LIST = [0.0, 0.1, 0.2, 0.3, 0.4]\n",
    "# for env_id in ENV_LIST:\n",
    "#     for noise in NOISE_LIST:\n",
    "#         wrapper = AtariWrapper_NoisyWarp\n",
    "#         wrapper_kwargs = {\"noise\":noise}\n",
    "        \n",
    "#         trial_env = make_atari_env_Custom_VecFrameStack(env_id=env_id,\n",
    "#                                                         n_envs=1,\n",
    "#                                                         monitor_dir=None,\n",
    "#                                                         seed=161803,\n",
    "#                                                         wrapper_class=wrapper,\n",
    "#                                                         wrapper_kwargs=wrapper_kwargs\n",
    "#                                                          )\n",
    "        \n",
    "        \n",
    "        \n",
    "#         # Generate frames\n",
    "#         duration = 5\n",
    "#         obss, images = generate_random_frames(trial_env, duration=duration, fps=200) # generates fps*duration*2 frames\n",
    "            \n",
    "        \n",
    "#         # Convert frames to animation\n",
    "#         img_gif_file = f\"{env_id}--noise_{noise}--img.gif\"\n",
    "#         imageio.mimsave(img_gif_file, \n",
    "#                         [np.array(img) for i, img in enumerate(images) if i%2 == 0], duration=duration)\n",
    "        \n",
    "#         # Convert obss to animation\n",
    "#         obs_gif_file = f\"{env_id}--noise_{noise}--obs.gif\"\n",
    "#         imageio.mimsave(obs_gif_file, \n",
    "#                         [np.array(obs) for i, obs in enumerate(obss) if i%2 == 0], duration=duration)\n",
    "        \n",
    "#         trial_env.close()"
   ]
  },
  {
   "cell_type": "code",
   "execution_count": null,
   "id": "6d4888d5-c6da-46a2-975e-b23a3378e0bf",
   "metadata": {},
   "outputs": [],
   "source": []
  }
 ],
 "metadata": {
  "kernelspec": {
   "display_name": "Python 3 (ipykernel)",
   "language": "python",
   "name": "python3"
  },
  "language_info": {
   "codemirror_mode": {
    "name": "ipython",
    "version": 3
   },
   "file_extension": ".py",
   "mimetype": "text/x-python",
   "name": "python",
   "nbconvert_exporter": "python",
   "pygments_lexer": "ipython3",
   "version": "3.10.6"
  }
 },
 "nbformat": 4,
 "nbformat_minor": 5
}
