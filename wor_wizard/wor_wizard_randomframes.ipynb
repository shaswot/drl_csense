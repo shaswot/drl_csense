{
 "cells": [
  {
   "cell_type": "code",
   "execution_count": 1,
   "id": "c972fce5-71de-4894-a526-7754cd871eb6",
   "metadata": {},
   "outputs": [
    {
     "name": "stdout",
     "output_type": "stream",
     "text": [
      "Project Root Directory: /repos/drl_csense\n"
     ]
    }
   ],
   "source": [
    "import os\n",
    "import sys\n",
    "import git\n",
    "import pathlib\n",
    "\n",
    "os.environ['TF_CPP_MIN_LOG_LEVEL'] = '3' \n",
    "\n",
    "PROJ_ROOT_PATH = pathlib.Path(git.Repo('.', search_parent_directories=True).working_tree_dir)\n",
    "PROJ_ROOT =  str(PROJ_ROOT_PATH)\n",
    "if PROJ_ROOT not in sys.path:\n",
    "    sys.path.append(PROJ_ROOT)\n",
    "\n",
    "print(f\"Project Root Directory: {PROJ_ROOT}\")"
   ]
  },
  {
   "cell_type": "code",
   "execution_count": 4,
   "id": "e48828e4-bfdb-4bb8-8f3a-037b6782ba73",
   "metadata": {},
   "outputs": [],
   "source": [
    "import gymnasium as gym"
   ]
  },
  {
   "cell_type": "code",
   "execution_count": 5,
   "id": "9bfa8bf1-12d0-40e9-8a3b-fd7c10917718",
   "metadata": {},
   "outputs": [],
   "source": [
    "from lib.env_utils import AtariWrapper_NoisyWarp, make_atari_env_Custom_VecFrameStack"
   ]
  },
  {
   "cell_type": "code",
   "execution_count": 7,
   "id": "4be800c2-dd53-4189-bb38-d9c790537a9d",
   "metadata": {},
   "outputs": [],
   "source": [
    "import imageio\n",
    "import ipyplot"
   ]
  },
  {
   "cell_type": "code",
   "execution_count": null,
   "id": "80a926a3-8330-49e8-b01e-e41ea40e302f",
   "metadata": {},
   "outputs": [],
   "source": [
    "def generate_random_frames(trial_env, duration=10, fps=120):\n",
    "    no_of_frames = duration*fps*2 #only every other frame is used for animation\n",
    "    \n",
    "    images = []\n",
    "    obss = []\n",
    "    obs = trial_env.reset()\n",
    "    img = trial_env.render(mode=\"rgb_array\")\n",
    "    for i in range(no_of_frames):\n",
    "        images.append(img)\n",
    "        obss.append(obs[0,:,:,-1])\n",
    "        action = trial_env.action_space.sample()\n",
    "        obs, reward, done, info = trial_env.step([action])\n",
    "        img = trial_env.render(mode=\"rgb_array\")\n",
    "    return obss, images"
   ]
  },
  {
   "cell_type": "code",
   "execution_count": 32,
   "id": "ce67474a-6390-4afa-8f77-3d52bde56e87",
   "metadata": {},
   "outputs": [
    {
     "name": "stderr",
     "output_type": "stream",
     "text": [
      "/usr/local/lib/python3.10/dist-packages/gymnasium/utils/passive_env_checker.py:364: UserWarning: \u001b[33mWARN: No render fps was declared in the environment (env.metadata['render_fps'] is None or not defined), rendering may occur at inconsistent fps.\u001b[0m\n",
      "  logger.warn(\n"
     ]
    }
   ],
   "source": [
    "ENV_LIST = [\"BreakoutNoFrameskip-v4\", \"BankHeistNoFrameskip-v4\", \"WizardOfWorNoFrameskip-v4\"]\n",
    "\n",
    "\n",
    "\n",
    "# env_id = \"BreakoutNoFrameskip-v4\"\n",
    "# noise = 0.4\n",
    "NOISE_LIST = [0.0, 0.1, 0.2, 0.3, 0.4]\n",
    "for env_id in ENV_LIST:\n",
    "    for noise in NOISE_LIST:\n",
    "        wrapper = AtariWrapper_NoisyWarp\n",
    "        wrapper_kwargs = {\"noise\":noise}\n",
    "        \n",
    "        trial_env = make_atari_env_Custom_VecFrameStack(env_id=env_id,\n",
    "                                                        n_envs=1,\n",
    "                                                        monitor_dir=None,\n",
    "                                                        seed=161803,\n",
    "                                                        wrapper_class=wrapper,\n",
    "                                                        wrapper_kwargs=wrapper_kwargs\n",
    "                                                         )\n",
    "        \n",
    "        \n",
    "        \n",
    "        # Generate frames\n",
    "        duration = 5\n",
    "        obss, images = generate_random_frames(trial_env, duration=duration, fps=200) # generates fps*duration*2 frames\n",
    "            \n",
    "        \n",
    "        # Convert frames to animation\n",
    "        img_gif_file = f\"./gifs/{env_id}--noise_{noise}--img.gif\"\n",
    "        imageio.mimsave(img_gif_file, \n",
    "                        [np.array(img) for i, img in enumerate(images) if i%2 == 0], duration=duration)\n",
    "        \n",
    "        # Convert obss to animation\n",
    "        obs_gif_file = f\"./gifs/{env_id}--noise_{noise}--obs.gif\"\n",
    "        imageio.mimsave(obs_gif_file, \n",
    "                        [np.array(obs) for i, obs in enumerate(obss) if i%2 == 0], duration=duration)\n",
    "        \n",
    "        trial_env.close()"
   ]
  },
  {
   "cell_type": "code",
   "execution_count": null,
   "id": "6d4888d5-c6da-46a2-975e-b23a3378e0bf",
   "metadata": {},
   "outputs": [],
   "source": []
  }
 ],
 "metadata": {
  "kernelspec": {
   "display_name": "Python 3 (ipykernel)",
   "language": "python",
   "name": "python3"
  },
  "language_info": {
   "codemirror_mode": {
    "name": "ipython",
    "version": 3
   },
   "file_extension": ".py",
   "mimetype": "text/x-python",
   "name": "python",
   "nbconvert_exporter": "python",
   "pygments_lexer": "ipython3",
   "version": "3.10.6"
  }
 },
 "nbformat": 4,
 "nbformat_minor": 5
}
