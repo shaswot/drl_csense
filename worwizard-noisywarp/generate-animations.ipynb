{
 "cells": [
  {
   "cell_type": "code",
   "execution_count": 1,
   "id": "5a5afbe6-d4b5-476f-b603-cdc7c9b1a69c",
   "metadata": {},
   "outputs": [],
   "source": [
    "import os\n",
    "import sys\n",
    "import git\n",
    "import pathlib\n",
    "\n",
    "os.environ['TF_CPP_MIN_LOG_LEVEL'] = '3'\n",
    "\n",
    "PROJ_ROOT_PATH = pathlib.Path(git.Repo('.', search_parent_directories=True).working_tree_dir)\n",
    "PROJ_ROOT =  str(PROJ_ROOT_PATH)\n",
    "if PROJ_ROOT not in sys.path:\n",
    "    sys.path.append(PROJ_ROOT)"
   ]
  },
  {
   "cell_type": "code",
   "execution_count": 2,
   "id": "c38e6c78-d77a-4cee-98f1-f9a9719e6cfb",
   "metadata": {},
   "outputs": [],
   "source": [
    "import numpy as np\n",
    "import imageio\n",
    "import ipyplot"
   ]
  },
  {
   "cell_type": "code",
   "execution_count": 3,
   "id": "a16f3583-1107-495b-9a29-6ec3c2f8c75c",
   "metadata": {},
   "outputs": [],
   "source": [
    "import gymnasium as gym"
   ]
  },
  {
   "cell_type": "code",
   "execution_count": 4,
   "id": "81215a36-7cfd-4e11-b2f1-9c52cce110ca",
   "metadata": {},
   "outputs": [],
   "source": [
    "from stable_baselines3.common.env_util import make_atari_env\n",
    "from stable_baselines3.common.vec_env import VecFrameStack\n",
    "from stable_baselines3 import A2C"
   ]
  },
  {
   "cell_type": "code",
   "execution_count": 5,
   "id": "ee837f84-7b21-4f2f-b37c-4c24abd266c2",
   "metadata": {},
   "outputs": [],
   "source": [
    "from IPython.display import Image"
   ]
  },
  {
   "cell_type": "code",
   "execution_count": 6,
   "id": "3cb5ef17-98f0-4db6-a878-6e7e28967394",
   "metadata": {},
   "outputs": [],
   "source": [
    "from lib.folder_paths import makeget_logging_dir, get_exp_name_tag, deconstruct_exp_name\n",
    "from lib.env_utils import AtariWrapper_NoisyFrame, AtariWrapper_Compressed, make_atari_env_Custom_VecFrameStack\n",
    "from lib.vizresults import generate_gif_single_run"
   ]
  },
  {
   "cell_type": "code",
   "execution_count": 7,
   "id": "8096676b-fdc0-4b44-8549-bcff5c3b18b0",
   "metadata": {},
   "outputs": [],
   "source": [
    "algorithm = A2C\n",
    "seed=161803"
   ]
  },
  {
   "cell_type": "code",
   "execution_count": 8,
   "id": "bf1e5bfc-6639-4411-b960-550eec40cd3e",
   "metadata": {},
   "outputs": [
    {
     "name": "stdout",
     "output_type": "stream",
     "text": [
      "WizardOfWorNoFrameskip-v4--noisywarp_0.0\n",
      "WizardOfWorNoFrameskip-v4--noisywarp_0.1\n",
      "WizardOfWorNoFrameskip-v4--noisywarp_0.2\n",
      "WizardOfWorNoFrameskip-v4--noisywarp_0.3\n",
      "WizardOfWorNoFrameskip-v4--noisywarp_0.4\n"
     ]
    }
   ],
   "source": [
    "env_id = \"WizardOfWorNoFrameskip-v4\"\n",
    "exp_param_type = \"noisywarp\"\n",
    "exp_param_value_LIST = [0.0, 0.1, 0.2, 0.3, 0.4]\n",
    "eval_param_value_LIST = [0.0, 0.1, 0.2, 0.3, 0.4]\n",
    "model_type_LIST = [\"best\", \"last\"]\n",
    "\n",
    "exp_name_LIST = []\n",
    "for exp_param_value in exp_param_value_LIST:\n",
    "    # Get names and tags of experiment\n",
    "    exp_name, exp_metaname, exp_tag = get_exp_name_tag(env_id, exp_param_type, exp_param_value)\n",
    "    print(exp_name)\n",
    "    exp_name_LIST.append(exp_name)"
   ]
  },
  {
   "cell_type": "code",
   "execution_count": null,
   "id": "22a2bd81-68d9-490b-97ad-8b4d40566d3a",
   "metadata": {},
   "outputs": [
    {
     "name": "stderr",
     "output_type": "stream",
     "text": [
      "A.L.E: Arcade Learning Environment (version 0.8.1+53f58b7)\n",
      "[Powered by Stella]\n",
      "/usr/local/lib/python3.10/dist-packages/gymnasium/utils/passive_env_checker.py:364: UserWarning: \u001b[33mWARN: No render fps was declared in the environment (env.metadata['render_fps'] is None or not defined), rendering may occur at inconsistent fps.\u001b[0m\n",
      "  logger.warn(\n"
     ]
    }
   ],
   "source": [
    "for exp_name in exp_name_LIST:\n",
    "    # Get names and tags of experiment\n",
    "    env_id, exp_param_type, exp_param_value, exp_metaname = deconstruct_exp_name(exp_name)\n",
    "    \n",
    "    # Get directories\n",
    "    models_dir, log_dir, gif_dir, image_dir = makeget_logging_dir(exp_name)\n",
    "        \n",
    "    # get all subfolders in log_dir\n",
    "    folder_list = [folder for folder in os.listdir(log_dir)]\n",
    "    \n",
    "    # list of folders with prefix \"run\"\n",
    "    runs = sorted([i for i in folder_list for j in [\"run\"] if j in i])\n",
    "    run_nos = [run[-1] for run in runs]\n",
    "    NO_OF_RUNS = len(runs)\n",
    "    \n",
    "    for run_no in run_nos:\n",
    "        for model_type in model_type_LIST:\n",
    "            for eval_param_value in eval_param_value_LIST:\n",
    "                generate_gif_single_run(# model_params\n",
    "                                        exp_name,\n",
    "                                        run_no,\n",
    "                                        model_type, \n",
    "                                        algorithm,\n",
    "                                    # env params\n",
    "                                        seed,  \n",
    "                                        eval_param_value,\n",
    "                                    # anim params\n",
    "                                        duration=10, \n",
    "                                        fps=120)"
   ]
  }
 ],
 "metadata": {
  "kernelspec": {
   "display_name": "Python 3 (ipykernel)",
   "language": "python",
   "name": "python3"
  },
  "language_info": {
   "codemirror_mode": {
    "name": "ipython",
    "version": 3
   },
   "file_extension": ".py",
   "mimetype": "text/x-python",
   "name": "python",
   "nbconvert_exporter": "python",
   "pygments_lexer": "ipython3",
   "version": "3.10.6"
  }
 },
 "nbformat": 4,
 "nbformat_minor": 5
}
