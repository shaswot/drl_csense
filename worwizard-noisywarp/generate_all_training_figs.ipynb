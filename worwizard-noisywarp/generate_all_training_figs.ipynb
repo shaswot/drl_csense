{
 "cells": [
  {
   "cell_type": "code",
   "execution_count": 1,
   "id": "b9758e97-4799-4126-9ae2-219bcb6f289c",
   "metadata": {},
   "outputs": [],
   "source": [
    "import os\n",
    "import sys\n",
    "import git\n",
    "import pathlib\n",
    "\n",
    "os.environ['TF_CPP_MIN_LOG_LEVEL'] = '3'\n",
    "\n",
    "PROJ_ROOT_PATH = pathlib.Path(git.Repo('.', search_parent_directories=True).working_tree_dir)\n",
    "PROJ_ROOT =  str(PROJ_ROOT_PATH)\n",
    "if PROJ_ROOT not in sys.path:\n",
    "    sys.path.append(PROJ_ROOT)"
   ]
  },
  {
   "cell_type": "code",
   "execution_count": 2,
   "id": "aeabfaea-478d-4df3-9cdc-72db25218437",
   "metadata": {},
   "outputs": [],
   "source": [
    "from lib.vizresults import plot_single_run_rewards,plot_all_run_rewards\n",
    "from lib.vizresults import plot_all_run_average_rewards\n",
    "from lib.vizresults import get_runs_in_exp_name"
   ]
  },
  {
   "cell_type": "code",
   "execution_count": 3,
   "id": "72122bf3-7f92-4870-a89c-ff292b5b88ba",
   "metadata": {},
   "outputs": [],
   "source": [
    "from lib.folder_paths import get_exp_name_tag, deconstruct_exp_name"
   ]
  },
  {
   "cell_type": "code",
   "execution_count": null,
   "id": "85df70e5-5623-4b4f-ba60-498ee3b6e30b",
   "metadata": {},
   "outputs": [],
   "source": []
  },
  {
   "cell_type": "code",
   "execution_count": 4,
   "id": "ec4b0ee4-513f-4b67-94ae-7b5a3f8c7b04",
   "metadata": {},
   "outputs": [
    {
     "name": "stdout",
     "output_type": "stream",
     "text": [
      "**********\n",
      "WizardOfWorNoFrameskip-v4--noisywarp_0.0\n",
      "**********\n",
      "WizardOfWorNoFrameskip-v4--noisywarp_0.1\n",
      "**********\n",
      "WizardOfWorNoFrameskip-v4--noisywarp_0.2\n",
      "**********\n",
      "WizardOfWorNoFrameskip-v4--noisywarp_0.3\n",
      "**********\n",
      "WizardOfWorNoFrameskip-v4--noisywarp_0.4\n"
     ]
    }
   ],
   "source": [
    "env_id = \"WizardOfWorNoFrameskip-v4\"\n",
    "exp_param_type = \"noisywarp\"\n",
    "NOISE_LIST = [0.0, 0.1, 0.2, 0.3, 0.4]\n",
    "\n",
    "window_size = 100\n",
    "for exp_param_value in NOISE_LIST:\n",
    "\n",
    "    # Get names and tags of experiment\n",
    "    exp_name, exp_metaname, exp_tag = get_exp_name_tag(env_id, exp_param_type, exp_param_value)\n",
    "    \n",
    "    print(\"*\"*10)\n",
    "    print(exp_name)\n",
    "    \n",
    "    plot_all_run_rewards(exp_name, window=window_size, savefig=True)\n",
    "    plot_all_run_average_rewards(exp_name, window=window_size, err_type=\"std\", color=\"green\", savefig=True)\n",
    "    plot_all_run_average_rewards(exp_name, window=window_size, err_type=\"range\", color=\"blue\", savefig=True)\n",
    "\n",
    "    runs = get_runs_in_exp_name(exp_name)\n",
    "    run_nos = [run[-1] for run in runs]\n",
    "    for run_no in run_nos:\n",
    "        plot_single_run_rewards(exp_name, run_no=run_no, window=window_size, savefig=True)"
   ]
  },
  {
   "cell_type": "code",
   "execution_count": null,
   "id": "1048a5ef-fb8a-425e-803d-06e59e546eb1",
   "metadata": {},
   "outputs": [],
   "source": []
  }
 ],
 "metadata": {
  "kernelspec": {
   "display_name": "Python 3 (ipykernel)",
   "language": "python",
   "name": "python3"
  },
  "language_info": {
   "codemirror_mode": {
    "name": "ipython",
    "version": 3
   },
   "file_extension": ".py",
   "mimetype": "text/x-python",
   "name": "python",
   "nbconvert_exporter": "python",
   "pygments_lexer": "ipython3",
   "version": "3.10.6"
  }
 },
 "nbformat": 4,
 "nbformat_minor": 5
}
