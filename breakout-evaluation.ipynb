{
 "cells": [
  {
   "cell_type": "code",
   "execution_count": 1,
   "id": "515a9cae-5b91-42f5-94a1-8c4453b453f0",
   "metadata": {
    "jupyter": {
     "source_hidden": true
    }
   },
   "outputs": [],
   "source": [
    "import os\n",
    "import sys\n",
    "import git\n",
    "import pathlib"
   ]
  },
  {
   "cell_type": "code",
   "execution_count": 2,
   "id": "eb1dd3f9-45a0-4541-87f6-c33219b4e1d6",
   "metadata": {
    "jupyter": {
     "source_hidden": true
    }
   },
   "outputs": [
    {
     "name": "stdout",
     "output_type": "stream",
     "text": [
      "Project Root Directory: /repos/drl_csense\n"
     ]
    }
   ],
   "source": [
    "os.environ['TF_CPP_MIN_LOG_LEVEL'] = '3' \n",
    "\n",
    "PROJ_ROOT_PATH = pathlib.Path(git.Repo('.', search_parent_directories=True).working_tree_dir)\n",
    "PROJ_ROOT =  str(PROJ_ROOT_PATH)\n",
    "if PROJ_ROOT not in sys.path:\n",
    "    sys.path.append(PROJ_ROOT)\n",
    "\n",
    "print(f\"Project Root Directory: {PROJ_ROOT}\")"
   ]
  },
  {
   "cell_type": "code",
   "execution_count": 3,
   "id": "ca0e0444-c5fa-4c79-83a5-98277ca2dd7e",
   "metadata": {
    "jupyter": {
     "source_hidden": true
    }
   },
   "outputs": [],
   "source": [
    "import numpy as np\n",
    "import pandas as pd\n",
    "import matplotlib.pyplot as plt"
   ]
  },
  {
   "cell_type": "code",
   "execution_count": 4,
   "id": "45bc3c27-1d17-4b0e-bc81-2b9a8a8ece75",
   "metadata": {
    "jupyter": {
     "source_hidden": true
    }
   },
   "outputs": [],
   "source": [
    "import gymnasium as gym"
   ]
  },
  {
   "cell_type": "code",
   "execution_count": 5,
   "id": "5264713e-7c16-43fe-9c1c-0f1e2791f7ad",
   "metadata": {
    "jupyter": {
     "source_hidden": true
    }
   },
   "outputs": [],
   "source": [
    "from stable_baselines3.common.env_util import make_atari_env\n",
    "from stable_baselines3.common.vec_env import VecFrameStack\n",
    "from stable_baselines3 import A2C\n",
    "from stable_baselines3.common.evaluation import evaluate_policy"
   ]
  },
  {
   "cell_type": "code",
   "execution_count": 6,
   "id": "26203512-900d-49b3-a9a5-274e26df676e",
   "metadata": {
    "jupyter": {
     "source_hidden": true
    }
   },
   "outputs": [],
   "source": [
    "env_id = \"BreakoutNoFrameskip-v4\"\n",
    "exp_tag = \"full_test\"\n",
    "exp_name = f\"{env_id}--{exp_tag}\""
   ]
  },
  {
   "cell_type": "code",
   "execution_count": 7,
   "id": "6ac469e1-ae4b-448b-bbb0-8b9006d0bd77",
   "metadata": {
    "jupyter": {
     "source_hidden": true
    }
   },
   "outputs": [],
   "source": [
    "logfolder_root = pathlib.Path(PROJ_ROOT_PATH / \"logging\")\n",
    "\n",
    "# Directory to save all training statistics\n",
    "log_dir = pathlib.Path(logfolder_root / exp_name)\n",
    "os.makedirs(log_dir, exist_ok=True)\n",
    "\n",
    "# Directory to save gif animations\n",
    "gif_dir = pathlib.Path(log_dir / \"gifs\" )\n",
    "os.makedirs(gif_dir, exist_ok=True)\n",
    "\n",
    "# Directory to save models\n",
    "models_dir = pathlib.Path(PROJ_ROOT_PATH / \"models\" / exp_name)\n",
    "os.makedirs(models_dir, exist_ok=True)"
   ]
  },
  {
   "cell_type": "code",
   "execution_count": 8,
   "id": "0487a89b-4939-4592-bc8a-5560db842398",
   "metadata": {
    "jupyter": {
     "source_hidden": true
    }
   },
   "outputs": [
    {
     "name": "stdout",
     "output_type": "stream",
     "text": [
      "Evaluating: run_0\n"
     ]
    },
    {
     "name": "stderr",
     "output_type": "stream",
     "text": [
      "A.L.E: Arcade Learning Environment (version 0.8.1+53f58b7)\n",
      "[Powered by Stella]\n"
     ]
    },
    {
     "name": "stdout",
     "output_type": "stream",
     "text": [
      "Evaluating: run_1\n",
      "Evaluating: run_2\n",
      "Evaluating: run_3\n"
     ]
    }
   ],
   "source": [
    "trial_mother_seed = 20230614\n",
    "NUM_EPISODES = 10\n",
    "NUM_ENVS = 5\n",
    "EXPERIMENT_NOS = [0,1,2,3]\n",
    "eval_results = {}\n",
    "\n",
    "for experiment in EXPERIMENT_NOS:\n",
    "    print(f\"Evaluating: run_{experiment}\")\n",
    "    eval_results[f\"run_{experiment}\"] = {}\n",
    "    # Make trial environment\n",
    "    trial_env = make_atari_env(env_id,\n",
    "                         n_envs=NUM_ENVS,\n",
    "                         seed=trial_mother_seed+experiment)\n",
    "    # Frame-stacking with 4 frames\n",
    "    trial_env = VecFrameStack(trial_env, n_stack=4)\n",
    "    \n",
    "    # Load RL model\n",
    "    model_file = f\"{models_dir}/{exp_name}-run_{experiment}\"\n",
    "    model = A2C.load(model_file)\n",
    "    mean_reward, std_reward = evaluate_policy(model, \n",
    "                                    trial_env, \n",
    "                                    n_eval_episodes=NUM_EPISODES, \n",
    "                                    deterministic=True, \n",
    "                                    render=False, \n",
    "                                    callback=None, \n",
    "                                    reward_threshold=None, \n",
    "                                    return_episode_rewards=False, \n",
    "                                    warn=True)\n",
    "    eval_results[f\"run_{experiment}\"][\"avg\"] = mean_reward\n",
    "    eval_results[f\"run_{experiment}\"][\"std\"] = std_reward"
   ]
  },
  {
   "cell_type": "code",
   "execution_count": 9,
   "id": "6a2892c1-fa5c-4edc-99f0-0997ce9d540f",
   "metadata": {
    "jupyter": {
     "source_hidden": true
    }
   },
   "outputs": [],
   "source": [
    "# If the keys of the passed dict should be the columns of the resulting DataFrame, pass ‘columns’ (default) Otherwise, if the keys should be rows, pass ‘index’. \n",
    "df = pd.DataFrame.from_dict(eval_results, orient='index')"
   ]
  },
  {
   "cell_type": "code",
   "execution_count": 10,
   "id": "d149cd01-af15-4174-b9c0-e34d805ad384",
   "metadata": {
    "jupyter": {
     "source_hidden": true
    }
   },
   "outputs": [
    {
     "data": {
      "image/png": "[encoded data removed]",
      "text/plain": [
       "<Figure size 640x480 with 1 Axes>"
      ]
     },
     "metadata": {},
     "output_type": "display_data"
    }
   ],
   "source": [
    "plt.bar(x=df.index,height=df[\"avg\"], yerr=df[\"std\"], capsize=5, color=\"blue\")\n",
    "plt.xlabel(\"Run\")\n",
    "plt.ylabel(\"Average\")\n",
    "plt.title(\"Barplot with Average and Errorbars\")\n",
    "plt.show()"
   ]
  },
  {
   "cell_type": "code",
   "execution_count": 11,
   "id": "81d593a3-f231-4195-84ec-28ebaf42bf6f",
   "metadata": {
    "jupyter": {
     "source_hidden": true
    }
   },
   "outputs": [
    {
     "name": "stdout",
     "output_type": "stream",
     "text": [
      "Average over all runs: 246.45 ± 39.11652464112833\n"
     ]
    }
   ],
   "source": [
    "global_avg = np.mean(df[\"avg\"])\n",
    "global_std = np.std(df[\"avg\"])\n",
    "print(f\"Average over all runs: {global_avg} \\u00B1 {global_std}\")"
   ]
  }
 ],
 "metadata": {
  "kernelspec": {
   "display_name": "Python 3 (ipykernel)",
   "language": "python",
   "name": "python3"
  },
  "language_info": {
   "codemirror_mode": {
    "name": "ipython",
    "version": 3
   },
   "file_extension": ".py",
   "mimetype": "text/x-python",
   "name": "python",
   "nbconvert_exporter": "python",
   "pygments_lexer": "ipython3",
   "version": "3.10.6"
  }
 },
 "nbformat": 4,
 "nbformat_minor": 5
}
