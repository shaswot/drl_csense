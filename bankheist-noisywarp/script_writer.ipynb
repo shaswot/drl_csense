{
 "cells": [
  {
   "cell_type": "code",
   "execution_count": 1,
   "id": "5c10c416-d340-42c3-861b-302cc9c1079f",
   "metadata": {},
   "outputs": [
    {
     "name": "stdout",
     "output_type": "stream",
     "text": [
      "Project Root Directory: /repos/drl_csense\n"
     ]
    }
   ],
   "source": [
    "import os\n",
    "import sys\n",
    "import git\n",
    "import pathlib\n",
    "\n",
    "os.environ['TF_CPP_MIN_LOG_LEVEL'] = '3' \n",
    "\n",
    "PROJ_ROOT_PATH = pathlib.Path(git.Repo('.', search_parent_directories=True).working_tree_dir)\n",
    "PROJ_ROOT =  str(PROJ_ROOT_PATH)\n",
    "if PROJ_ROOT not in sys.path:\n",
    "    sys.path.append(PROJ_ROOT)\n",
    "\n",
    "print(f\"Project Root Directory: {PROJ_ROOT}\")"
   ]
  },
  {
   "cell_type": "code",
   "execution_count": 2,
   "id": "0bf1af1a-e08a-47e2-8e4f-55ca565be567",
   "metadata": {},
   "outputs": [],
   "source": [
    "from lib.folder_paths import get_exp_name_tag, deconstruct_exp_name"
   ]
  },
  {
   "cell_type": "code",
   "execution_count": 3,
   "id": "f1d651a8-310e-4353-b9d0-e07930f6f013",
   "metadata": {},
   "outputs": [],
   "source": [
    "exp_param_type = \"noisywarp\""
   ]
  },
  {
   "cell_type": "code",
   "execution_count": 4,
   "id": "c5b342f5-4450-450f-a004-1da63f9f9e15",
   "metadata": {},
   "outputs": [],
   "source": [
    "experiment_set = f\"bankheist-{exp_param_type}\""
   ]
  },
  {
   "cell_type": "code",
   "execution_count": 5,
   "id": "3a3d94ab-133c-4e5d-ab74-0dcd5f7e68e2",
   "metadata": {},
   "outputs": [],
   "source": [
    "script_dir = pathlib.Path(PROJ_ROOT_PATH / experiment_set)\n",
    "script_file = pathlib.Path(script_dir/ f\"{experiment_set}.py\")"
   ]
  },
  {
   "cell_type": "code",
   "execution_count": 6,
   "id": "1b7882f1-bc32-43c2-896f-4da14cefa5bf",
   "metadata": {},
   "outputs": [],
   "source": [
    "mother_seed = 314159"
   ]
  },
  {
   "cell_type": "code",
   "execution_count": 7,
   "id": "c57a9a05-775a-4a04-89f0-3407ccc72c9b",
   "metadata": {},
   "outputs": [
    {
     "name": "stdout",
     "output_type": "stream",
     "text": [
      "python /repos/drl_csense/bankheist-noisywarp/bankheist-noisywarp.py --env_id BankHeistNoFrameskip-v4     --exp_param_type noisywarp     --exp_param_value 0.0     --run_no 0     --n_envs 12     --run_seed 314159     --trainsteps 30000000     --gpu_id 0     1> /repos/drl_csense/bankheist-noisywarp/job_logs/BankHeistNoFrameskip-v4--noisywarp_0.0/BankHeistNoFrameskip-v4--noisywarp_0.0-run_0.out 2>&1 &\n",
      "python /repos/drl_csense/bankheist-noisywarp/bankheist-noisywarp.py --env_id BankHeistNoFrameskip-v4     --exp_param_type noisywarp     --exp_param_value 0.1     --run_no 0     --n_envs 12     --run_seed 314159     --trainsteps 30000000     --gpu_id 1     1> /repos/drl_csense/bankheist-noisywarp/job_logs/BankHeistNoFrameskip-v4--noisywarp_0.1/BankHeistNoFrameskip-v4--noisywarp_0.1-run_0.out 2>&1 &\n",
      "python /repos/drl_csense/bankheist-noisywarp/bankheist-noisywarp.py --env_id BankHeistNoFrameskip-v4     --exp_param_type noisywarp     --exp_param_value 0.2     --run_no 0     --n_envs 12     --run_seed 314159     --trainsteps 30000000     --gpu_id 2     1> /repos/drl_csense/bankheist-noisywarp/job_logs/BankHeistNoFrameskip-v4--noisywarp_0.2/BankHeistNoFrameskip-v4--noisywarp_0.2-run_0.out 2>&1 &\n",
      "python /repos/drl_csense/bankheist-noisywarp/bankheist-noisywarp.py --env_id BankHeistNoFrameskip-v4     --exp_param_type noisywarp     --exp_param_value 0.3     --run_no 0     --n_envs 12     --run_seed 314159     --trainsteps 30000000     --gpu_id 3     1> /repos/drl_csense/bankheist-noisywarp/job_logs/BankHeistNoFrameskip-v4--noisywarp_0.3/BankHeistNoFrameskip-v4--noisywarp_0.3-run_0.out 2>&1 &\n",
      "python /repos/drl_csense/bankheist-noisywarp/bankheist-noisywarp.py --env_id BankHeistNoFrameskip-v4     --exp_param_type noisywarp     --exp_param_value 0.4     --run_no 0     --n_envs 12     --run_seed 314159     --trainsteps 30000000     --gpu_id 4     1> /repos/drl_csense/bankheist-noisywarp/job_logs/BankHeistNoFrameskip-v4--noisywarp_0.4/BankHeistNoFrameskip-v4--noisywarp_0.4-run_0.out 2>&1 &\n"
     ]
    }
   ],
   "source": [
    "env_id = \"BankHeistNoFrameskip-v4\"\n",
    "run_no = 0\n",
    "run_seed = mother_seed + run_no\n",
    "n_envs = 12\n",
    "trainsteps = int(3E7)\n",
    "\n",
    "exp_param_value_LIST = [0.0, 0.1, 0.2, 0.3, 0.4]\n",
    "for i, exp_param_value in enumerate(exp_param_value_LIST):\n",
    "    gpu_id = i\n",
    "    \n",
    "    # Get names and tags of experiment\n",
    "    exp_name, exp_metaname, exp_tag = get_exp_name_tag(env_id, exp_param_type, exp_param_value=exp_param_value)\n",
    "\n",
    "    job_output_dir = pathlib.Path(PROJ_ROOT_PATH / experiment_set / \"job_logs\" / exp_name)\n",
    "    os.makedirs(job_output_dir, exist_ok=True)\n",
    "    \n",
    "    print(f\"python {script_file} --env_id {env_id} \\\n",
    "    --exp_param_type {exp_param_type} \\\n",
    "    --exp_param_value {exp_param_value} \\\n",
    "    --run_no {run_no} \\\n",
    "    --n_envs {n_envs} \\\n",
    "    --run_seed {run_seed} \\\n",
    "    --trainsteps {trainsteps} \\\n",
    "    --gpu_id {gpu_id} \\\n",
    "    1> {job_output_dir}/{exp_name}-run_{run_no}.out 2>&1 &\")   \n",
    "    "
   ]
  },
  {
   "cell_type": "code",
   "execution_count": 8,
   "id": "2272a2e2-6c6e-44b0-9216-e395a60d00d4",
   "metadata": {},
   "outputs": [
    {
     "ename": "RuntimeError",
     "evalue": "No CUDA GPUs are available",
     "output_type": "error",
     "traceback": [
      "\u001b[0;31m---------------------------------------------------------------------------\u001b[0m",
      "\u001b[0;31mRuntimeError\u001b[0m                              Traceback (most recent call last)",
      "Cell \u001b[0;32mIn[8], line 2\u001b[0m\n\u001b[1;32m      1\u001b[0m \u001b[38;5;28;01mimport\u001b[39;00m \u001b[38;5;21;01mtorch\u001b[39;00m\n\u001b[0;32m----> 2\u001b[0m \u001b[43mtorch\u001b[49m\u001b[38;5;241;43m.\u001b[39;49m\u001b[43mcuda\u001b[49m\u001b[38;5;241;43m.\u001b[39;49m\u001b[43mset_device\u001b[49m\u001b[43m(\u001b[49m\u001b[38;5;241;43m0\u001b[39;49m\u001b[43m)\u001b[49m\n",
      "File \u001b[0;32m/usr/local/lib/python3.10/dist-packages/torch/cuda/__init__.py:350\u001b[0m, in \u001b[0;36mset_device\u001b[0;34m(device)\u001b[0m\n\u001b[1;32m    348\u001b[0m device \u001b[38;5;241m=\u001b[39m _get_device_index(device)\n\u001b[1;32m    349\u001b[0m \u001b[38;5;28;01mif\u001b[39;00m device \u001b[38;5;241m>\u001b[39m\u001b[38;5;241m=\u001b[39m \u001b[38;5;241m0\u001b[39m:\n\u001b[0;32m--> 350\u001b[0m     \u001b[43mtorch\u001b[49m\u001b[38;5;241;43m.\u001b[39;49m\u001b[43m_C\u001b[49m\u001b[38;5;241;43m.\u001b[39;49m\u001b[43m_cuda_setDevice\u001b[49m\u001b[43m(\u001b[49m\u001b[43mdevice\u001b[49m\u001b[43m)\u001b[49m\n",
      "File \u001b[0;32m/usr/local/lib/python3.10/dist-packages/torch/cuda/__init__.py:247\u001b[0m, in \u001b[0;36m_lazy_init\u001b[0;34m()\u001b[0m\n\u001b[1;32m    245\u001b[0m \u001b[38;5;28;01mif\u001b[39;00m \u001b[38;5;124m'\u001b[39m\u001b[38;5;124mCUDA_MODULE_LOADING\u001b[39m\u001b[38;5;124m'\u001b[39m \u001b[38;5;129;01mnot\u001b[39;00m \u001b[38;5;129;01min\u001b[39;00m os\u001b[38;5;241m.\u001b[39menviron:\n\u001b[1;32m    246\u001b[0m     os\u001b[38;5;241m.\u001b[39menviron[\u001b[38;5;124m'\u001b[39m\u001b[38;5;124mCUDA_MODULE_LOADING\u001b[39m\u001b[38;5;124m'\u001b[39m] \u001b[38;5;241m=\u001b[39m \u001b[38;5;124m'\u001b[39m\u001b[38;5;124mLAZY\u001b[39m\u001b[38;5;124m'\u001b[39m\n\u001b[0;32m--> 247\u001b[0m \u001b[43mtorch\u001b[49m\u001b[38;5;241;43m.\u001b[39;49m\u001b[43m_C\u001b[49m\u001b[38;5;241;43m.\u001b[39;49m\u001b[43m_cuda_init\u001b[49m\u001b[43m(\u001b[49m\u001b[43m)\u001b[49m\n\u001b[1;32m    248\u001b[0m \u001b[38;5;66;03m# Some of the queued calls may reentrantly call _lazy_init();\u001b[39;00m\n\u001b[1;32m    249\u001b[0m \u001b[38;5;66;03m# we need to just return without initializing in that case.\u001b[39;00m\n\u001b[1;32m    250\u001b[0m \u001b[38;5;66;03m# However, we must not let any *other* threads in!\u001b[39;00m\n\u001b[1;32m    251\u001b[0m _tls\u001b[38;5;241m.\u001b[39mis_initializing \u001b[38;5;241m=\u001b[39m \u001b[38;5;28;01mTrue\u001b[39;00m\n",
      "\u001b[0;31mRuntimeError\u001b[0m: No CUDA GPUs are available"
     ]
    }
   ],
   "source": [
    "import torch\n",
    "torch.cuda.set_device(0)"
   ]
  },
  {
   "cell_type": "code",
   "execution_count": 9,
   "id": "50ea4988-4fed-4bb5-bcb7-98f66fdb8a03",
   "metadata": {},
   "outputs": [],
   "source": [
    "torch.cuda.empty_cache()"
   ]
  },
  {
   "cell_type": "code",
   "execution_count": 10,
   "id": "8dbc8ab8-48ce-44be-a82b-14bd6c6ce951",
   "metadata": {},
   "outputs": [
    {
     "ename": "RuntimeError",
     "evalue": "No CUDA GPUs are available",
     "output_type": "error",
     "traceback": [
      "\u001b[0;31m---------------------------------------------------------------------------\u001b[0m",
      "\u001b[0;31mRuntimeError\u001b[0m                              Traceback (most recent call last)",
      "Cell \u001b[0;32mIn[10], line 1\u001b[0m\n\u001b[0;32m----> 1\u001b[0m \u001b[43mtorch\u001b[49m\u001b[38;5;241;43m.\u001b[39;49m\u001b[43mcuda\u001b[49m\u001b[38;5;241;43m.\u001b[39;49m\u001b[43mipc_collect\u001b[49m\u001b[43m(\u001b[49m\u001b[43m)\u001b[49m\n",
      "File \u001b[0;32m/usr/local/lib/python3.10/dist-packages/torch/cuda/__init__.py:700\u001b[0m, in \u001b[0;36mipc_collect\u001b[0;34m()\u001b[0m\n\u001b[1;32m    691\u001b[0m \u001b[38;5;28;01mdef\u001b[39;00m \u001b[38;5;21mipc_collect\u001b[39m():\n\u001b[1;32m    692\u001b[0m \u001b[38;5;250m    \u001b[39m\u001b[38;5;124mr\u001b[39m\u001b[38;5;124;03m\"\"\"Force collects GPU memory after it has been released by CUDA IPC.\u001b[39;00m\n\u001b[1;32m    693\u001b[0m \n\u001b[1;32m    694\u001b[0m \u001b[38;5;124;03m    .. note::\u001b[39;00m\n\u001b[0;32m   (...)\u001b[0m\n\u001b[1;32m    698\u001b[0m \u001b[38;5;124;03m        tensors and want to release unused memory.\u001b[39;00m\n\u001b[1;32m    699\u001b[0m \u001b[38;5;124;03m    \"\"\"\u001b[39;00m\n\u001b[0;32m--> 700\u001b[0m     \u001b[43m_lazy_init\u001b[49m\u001b[43m(\u001b[49m\u001b[43m)\u001b[49m\n\u001b[1;32m    701\u001b[0m     \u001b[38;5;28;01mreturn\u001b[39;00m torch\u001b[38;5;241m.\u001b[39m_C\u001b[38;5;241m.\u001b[39m_cuda_ipc_collect()\n",
      "File \u001b[0;32m/usr/local/lib/python3.10/dist-packages/torch/cuda/__init__.py:247\u001b[0m, in \u001b[0;36m_lazy_init\u001b[0;34m()\u001b[0m\n\u001b[1;32m    245\u001b[0m \u001b[38;5;28;01mif\u001b[39;00m \u001b[38;5;124m'\u001b[39m\u001b[38;5;124mCUDA_MODULE_LOADING\u001b[39m\u001b[38;5;124m'\u001b[39m \u001b[38;5;129;01mnot\u001b[39;00m \u001b[38;5;129;01min\u001b[39;00m os\u001b[38;5;241m.\u001b[39menviron:\n\u001b[1;32m    246\u001b[0m     os\u001b[38;5;241m.\u001b[39menviron[\u001b[38;5;124m'\u001b[39m\u001b[38;5;124mCUDA_MODULE_LOADING\u001b[39m\u001b[38;5;124m'\u001b[39m] \u001b[38;5;241m=\u001b[39m \u001b[38;5;124m'\u001b[39m\u001b[38;5;124mLAZY\u001b[39m\u001b[38;5;124m'\u001b[39m\n\u001b[0;32m--> 247\u001b[0m \u001b[43mtorch\u001b[49m\u001b[38;5;241;43m.\u001b[39;49m\u001b[43m_C\u001b[49m\u001b[38;5;241;43m.\u001b[39;49m\u001b[43m_cuda_init\u001b[49m\u001b[43m(\u001b[49m\u001b[43m)\u001b[49m\n\u001b[1;32m    248\u001b[0m \u001b[38;5;66;03m# Some of the queued calls may reentrantly call _lazy_init();\u001b[39;00m\n\u001b[1;32m    249\u001b[0m \u001b[38;5;66;03m# we need to just return without initializing in that case.\u001b[39;00m\n\u001b[1;32m    250\u001b[0m \u001b[38;5;66;03m# However, we must not let any *other* threads in!\u001b[39;00m\n\u001b[1;32m    251\u001b[0m _tls\u001b[38;5;241m.\u001b[39mis_initializing \u001b[38;5;241m=\u001b[39m \u001b[38;5;28;01mTrue\u001b[39;00m\n",
      "\u001b[0;31mRuntimeError\u001b[0m: No CUDA GPUs are available"
     ]
    }
   ],
   "source": [
    "torch.cuda.ipc_collect()"
   ]
  },
  {
   "cell_type": "code",
   "execution_count": null,
   "id": "d34812f8-120d-4871-af1f-3b18cc14e4c6",
   "metadata": {},
   "outputs": [],
   "source": []
  }
 ],
 "metadata": {
  "kernelspec": {
   "display_name": "Python 3 (ipykernel)",
   "language": "python",
   "name": "python3"
  },
  "language_info": {
   "codemirror_mode": {
    "name": "ipython",
    "version": 3
   },
   "file_extension": ".py",
   "mimetype": "text/x-python",
   "name": "python",
   "nbconvert_exporter": "python",
   "pygments_lexer": "ipython3",
   "version": "3.10.6"
  }
 },
 "nbformat": 4,
 "nbformat_minor": 5
}
