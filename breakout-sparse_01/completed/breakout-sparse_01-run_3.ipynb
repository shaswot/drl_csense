{
 "cells": [
  {
   "cell_type": "code",
   "execution_count": 1,
   "id": "57abcdce-14b6-4aa8-be11-e2474195099a",
   "metadata": {
    "execution": {
     "iopub.execute_input": "2023-06-14T09:07:29.173226Z",
     "iopub.status.busy": "2023-06-14T09:07:29.172870Z",
     "iopub.status.idle": "2023-06-14T09:07:34.167618Z",
     "shell.execute_reply": "2023-06-14T09:07:34.166974Z"
    }
   },
   "outputs": [],
   "source": [
    "exp_no = 3\n",
    "sparsity = 0.1\n",
    "gpu_id = 4\n",
    "\n",
    "import torch\n",
    "torch.cuda.set_device(gpu_id)"
   ]
  },
  {
   "cell_type": "code",
   "execution_count": 2,
   "id": "71417323-0e54-4c3f-809e-eaeadcf166a5",
   "metadata": {
    "execution": {
     "iopub.execute_input": "2023-06-14T09:07:34.170572Z",
     "iopub.status.busy": "2023-06-14T09:07:34.170058Z",
     "iopub.status.idle": "2023-06-14T09:07:34.201155Z",
     "shell.execute_reply": "2023-06-14T09:07:34.200705Z"
    },
    "jupyter": {
     "source_hidden": true
    }
   },
   "outputs": [],
   "source": [
    "import os\n",
    "import sys\n",
    "import git\n",
    "import pathlib"
   ]
  },
  {
   "cell_type": "code",
   "execution_count": 3,
   "id": "416f71ae-51f6-4b86-9169-77f427361cec",
   "metadata": {
    "execution": {
     "iopub.execute_input": "2023-06-14T09:07:34.203534Z",
     "iopub.status.busy": "2023-06-14T09:07:34.203106Z",
     "iopub.status.idle": "2023-06-14T09:07:34.208077Z",
     "shell.execute_reply": "2023-06-14T09:07:34.207633Z"
    },
    "jupyter": {
     "source_hidden": true
    }
   },
   "outputs": [
    {
     "name": "stdout",
     "output_type": "stream",
     "text": [
      "Project Root Directory: /repos/drl_csense\n"
     ]
    }
   ],
   "source": [
    "os.environ['TF_CPP_MIN_LOG_LEVEL'] = '3' \n",
    "\n",
    "PROJ_ROOT_PATH = pathlib.Path(git.Repo('.', search_parent_directories=True).working_tree_dir)\n",
    "PROJ_ROOT =  str(PROJ_ROOT_PATH)\n",
    "if PROJ_ROOT not in sys.path:\n",
    "    sys.path.append(PROJ_ROOT)\n",
    "\n",
    "print(f\"Project Root Directory: {PROJ_ROOT}\")"
   ]
  },
  {
   "cell_type": "code",
   "execution_count": 4,
   "id": "5dbbb1e6-9120-4d2f-ba32-36250d26df46",
   "metadata": {
    "execution": {
     "iopub.execute_input": "2023-06-14T09:07:34.209762Z",
     "iopub.status.busy": "2023-06-14T09:07:34.209399Z",
     "iopub.status.idle": "2023-06-14T09:07:34.427293Z",
     "shell.execute_reply": "2023-06-14T09:07:34.426775Z"
    },
    "jupyter": {
     "source_hidden": true
    }
   },
   "outputs": [],
   "source": [
    "import numpy as np\n",
    "import matplotlib.pyplot as plt"
   ]
  },
  {
   "cell_type": "code",
   "execution_count": 5,
   "id": "633062c2-2fed-4414-9894-c6e20024f786",
   "metadata": {
    "execution": {
     "iopub.execute_input": "2023-06-14T09:07:34.429701Z",
     "iopub.status.busy": "2023-06-14T09:07:34.429420Z",
     "iopub.status.idle": "2023-06-14T09:07:34.431989Z",
     "shell.execute_reply": "2023-06-14T09:07:34.431576Z"
    },
    "jupyter": {
     "source_hidden": true
    }
   },
   "outputs": [],
   "source": [
    "from typing import Any, Callable, Dict, Optional, Type, Union"
   ]
  },
  {
   "cell_type": "code",
   "execution_count": 6,
   "id": "778a6088-d210-4708-b675-1e259a58c697",
   "metadata": {
    "execution": {
     "iopub.execute_input": "2023-06-14T09:07:34.433533Z",
     "iopub.status.busy": "2023-06-14T09:07:34.433209Z",
     "iopub.status.idle": "2023-06-14T09:07:34.677278Z",
     "shell.execute_reply": "2023-06-14T09:07:34.676743Z"
    },
    "jupyter": {
     "source_hidden": true
    }
   },
   "outputs": [],
   "source": [
    "import gymnasium as gym\n",
    "from gymnasium import spaces"
   ]
  },
  {
   "cell_type": "code",
   "execution_count": 7,
   "id": "0b8d2c90-d08c-4040-8aa5-d7d9b1bea94d",
   "metadata": {
    "execution": {
     "iopub.execute_input": "2023-06-14T09:07:34.679589Z",
     "iopub.status.busy": "2023-06-14T09:07:34.679444Z",
     "iopub.status.idle": "2023-06-14T09:07:36.656545Z",
     "shell.execute_reply": "2023-06-14T09:07:36.655973Z"
    },
    "jupyter": {
     "source_hidden": true
    }
   },
   "outputs": [],
   "source": [
    "# from stable_baselines3.common.env_util import make_atari_env\n",
    "from stable_baselines3.common.env_util import make_vec_env\n",
    "from stable_baselines3.common.vec_env import DummyVecEnv, VecEnv, SubprocVecEnv\n",
    "from stable_baselines3.common.atari_wrappers import StickyActionEnv, NoopResetEnv, MaxAndSkipEnv, EpisodicLifeEnv, FireResetEnv, WarpFrame, ClipRewardEnv\n",
    "from stable_baselines3.common.vec_env import VecFrameStack\n",
    "\n",
    "from stable_baselines3 import A2C\n",
    "from stable_baselines3.common.callbacks import BaseCallback\n",
    "from stable_baselines3.common.results_plotter import load_results, ts2xy"
   ]
  },
  {
   "cell_type": "code",
   "execution_count": 8,
   "id": "117401e2-e8d5-4def-b187-89ebdbd5225e",
   "metadata": {
    "execution": {
     "iopub.execute_input": "2023-06-14T09:07:36.659559Z",
     "iopub.status.busy": "2023-06-14T09:07:36.658943Z",
     "iopub.status.idle": "2023-06-14T09:07:36.664540Z",
     "shell.execute_reply": "2023-06-14T09:07:36.664108Z"
    },
    "jupyter": {
     "source_hidden": true
    }
   },
   "outputs": [],
   "source": [
    "class SaveOnBestTrainingRewardCallback(BaseCallback):\n",
    "    \"\"\"\n",
    "    Callback for saving a model (the check is done every ``check_freq`` steps)\n",
    "    based on the training reward (in practice, we recommend using ``EvalCallback``).\n",
    "\n",
    "    :param check_freq: (int)\n",
    "    :param log_dir: (str) Path to the folder where the model will be saved.\n",
    "      It must contains the file created by the ``Monitor`` wrapper.\n",
    "    :param verbose: (int)\n",
    "    \"\"\"\n",
    "\n",
    "    def __init__(self, check_freq: int, log_dir: str, verbose=1):\n",
    "        super().__init__(verbose)\n",
    "        self.check_freq = check_freq\n",
    "        self.log_dir = log_dir\n",
    "        self.save_path = os.path.join(log_dir, \"best_model\")\n",
    "        self.best_mean_reward = -np.inf\n",
    "\n",
    "    def _init_callback(self) -> None:\n",
    "        # Create folder if needed\n",
    "        if self.save_path is not None:\n",
    "            os.makedirs(self.save_path, exist_ok=True)\n",
    "\n",
    "    def _on_step(self) -> bool:\n",
    "        if self.n_calls % self.check_freq == 0:\n",
    "\n",
    "            # Retrieve training reward\n",
    "            x, y = ts2xy(load_results(self.log_dir), \"timesteps\")\n",
    "            if len(x) > 0:\n",
    "                # Mean training reward over the last 100 episodes\n",
    "                mean_reward = np.mean(y[-100:])\n",
    "                if self.verbose > 0:\n",
    "                    print(f\"Num timesteps: {self.num_timesteps}\")\n",
    "                    print(\n",
    "                        f\"Best mean reward: {self.best_mean_reward:.2f} - Last mean reward per episode: {mean_reward:.2f}\"\n",
    "                    )\n",
    "\n",
    "                # New best model, you could save the agent here\n",
    "                if mean_reward > self.best_mean_reward:\n",
    "                    self.best_mean_reward = mean_reward\n",
    "                    # Example for saving best model\n",
    "                    if self.verbose > 0:\n",
    "                        print(f\"Saving new best model to {self.save_path}.zip\")\n",
    "                    self.model.save(self.save_path)\n",
    "\n",
    "        return True"
   ]
  },
  {
   "cell_type": "code",
   "execution_count": 9,
   "id": "1a2bf1c5-e5ae-45d9-90c3-240c000497e1",
   "metadata": {
    "execution": {
     "iopub.execute_input": "2023-06-14T09:07:36.666202Z",
     "iopub.status.busy": "2023-06-14T09:07:36.665854Z",
     "iopub.status.idle": "2023-06-14T09:07:36.668985Z",
     "shell.execute_reply": "2023-06-14T09:07:36.668584Z"
    },
    "jupyter": {
     "source_hidden": true
    }
   },
   "outputs": [],
   "source": [
    "class SparseView(gym.ObservationWrapper[np.ndarray, int, np.ndarray]):\n",
    "    def __init__(self, env: gym.Env, sparsity: float) -> None:\n",
    "        super().__init__(env)\n",
    "    def observation(self, frame: np.ndarray) -> np.ndarray:\n",
    "        mask = self.np_random.choice(a=[False, True], size=frame.shape, p=[sparsity, 1.0-sparsity])\n",
    "        sparse_frame = mask * frame\n",
    "        return np.flipud(sparse_frame)"
   ]
  },
  {
   "cell_type": "code",
   "execution_count": 10,
   "id": "cf6bb198-3287-4ea1-8326-68f592b781dd",
   "metadata": {
    "execution": {
     "iopub.execute_input": "2023-06-14T09:07:36.670582Z",
     "iopub.status.busy": "2023-06-14T09:07:36.670273Z",
     "iopub.status.idle": "2023-06-14T09:07:36.674823Z",
     "shell.execute_reply": "2023-06-14T09:07:36.674423Z"
    },
    "jupyter": {
     "source_hidden": true
    }
   },
   "outputs": [],
   "source": [
    "class MyAtariWrapper(gym.Wrapper[np.ndarray, int, np.ndarray, int]):\n",
    "    \"\"\"\n",
    "    Atari 2600 preprocessings\n",
    "\n",
    "    Specifically:\n",
    "\n",
    "    * Noop reset: obtain initial state by taking random number of no-ops on reset.\n",
    "    * Frame skipping: 4 by default\n",
    "    * Max-pooling: most recent two observations\n",
    "    * Termination signal when a life is lost.\n",
    "    * Resize to a square image: 84x84 by default\n",
    "    * Grayscale observation\n",
    "    * Clip reward to {-1, 0, 1}\n",
    "    * Sticky actions: disabled by default\n",
    "    * Sparse image: some random pixels are blacked out\n",
    "\n",
    "    See https://danieltakeshi.github.io/2016/11/25/frame-skipping-and-preprocessing-for-deep-q-networks-on-atari-2600-games/\n",
    "    for a visual explanation.\n",
    "\n",
    "    .. warning::\n",
    "        Use this wrapper only with Atari v4 without frame skip: ``env_id = \"*NoFrameskip-v4\"``.\n",
    "\n",
    "    :param env: Environment to wrap\n",
    "    :param noop_max: Max number of no-ops\n",
    "    :param frame_skip: Frequency at which the agent experiences the game.\n",
    "        This correspond to repeating the action ``frame_skip`` times.\n",
    "    :param screen_size: Resize Atari frame\n",
    "    :param terminal_on_life_loss: If True, then step() returns done=True whenever a life is lost.\n",
    "    :param clip_reward: If True (default), the reward is clip to {-1, 0, 1} depending on its sign.\n",
    "    :param action_repeat_probability: Probability of repeating the last action\n",
    "    \"\"\"\n",
    "\n",
    "    def __init__(\n",
    "        self,\n",
    "        env: gym.Env,\n",
    "        noop_max: int = 30,\n",
    "        frame_skip: int = 4,\n",
    "        screen_size: int = 84,\n",
    "        terminal_on_life_loss: bool = True,\n",
    "        clip_reward: bool = True,\n",
    "        action_repeat_probability: float = 0.0,\n",
    "        sparsity = 0.0\n",
    "    ) -> None:\n",
    "        if action_repeat_probability > 0.0:\n",
    "            env = StickyActionEnv(env, action_repeat_probability)\n",
    "        if noop_max > 0:\n",
    "            env = NoopResetEnv(env, noop_max=noop_max)\n",
    "        # frame_skip=1 is the same as no frame-skip (action repeat)\n",
    "        if frame_skip > 1:\n",
    "            env = MaxAndSkipEnv(env, skip=frame_skip)\n",
    "        if terminal_on_life_loss:\n",
    "            env = EpisodicLifeEnv(env)\n",
    "        if \"FIRE\" in env.unwrapped.get_action_meanings():  # type: ignore[attr-defined]\n",
    "            env = FireResetEnv(env)\n",
    "        env = WarpFrame(env, width=screen_size, height=screen_size)\n",
    "        env = SparseView(env, sparsity=sparsity)\n",
    "        if clip_reward:\n",
    "            env = ClipRewardEnv(env)\n",
    "\n",
    "        super().__init__(env)"
   ]
  },
  {
   "cell_type": "code",
   "execution_count": 11,
   "id": "b3ebbc2d-f7ab-4f5b-b1d3-7f714b804531",
   "metadata": {
    "execution": {
     "iopub.execute_input": "2023-06-14T09:07:36.676244Z",
     "iopub.status.busy": "2023-06-14T09:07:36.676110Z",
     "iopub.status.idle": "2023-06-14T09:07:36.680225Z",
     "shell.execute_reply": "2023-06-14T09:07:36.679806Z"
    },
    "jupyter": {
     "source_hidden": true
    }
   },
   "outputs": [],
   "source": [
    "def make_my_atari_env(\n",
    "    env_id: Union[str, Callable[..., gym.Env]],\n",
    "    n_envs: int = 1,\n",
    "    seed: Optional[int] = None,\n",
    "    start_index: int = 0,\n",
    "    monitor_dir: Optional[str] = None,\n",
    "    wrapper_kwargs: Optional[Dict[str, Any]] = None,\n",
    "    env_kwargs: Optional[Dict[str, Any]] = None,\n",
    "    vec_env_cls: Optional[Union[Type[DummyVecEnv], Type[SubprocVecEnv]]] = None,\n",
    "    vec_env_kwargs: Optional[Dict[str, Any]] = None,\n",
    "    monitor_kwargs: Optional[Dict[str, Any]] = None,\n",
    "    sparsity: Optional[float] = 0.0,\n",
    "    ) -> VecEnv:\n",
    "    \"\"\"\n",
    "    Create a wrapped, monitored VecEnv for Atari.\n",
    "    It is a wrapper around ``make_vec_env`` that includes common preprocessing for Atari games.\n",
    "\n",
    "    :param env_id: either the env ID, the env class or a callable returning an env\n",
    "    :param n_envs: the number of environments you wish to have in parallel\n",
    "    :param seed: the initial seed for the random number generator\n",
    "    :param start_index: start rank index\n",
    "    :param monitor_dir: Path to a folder where the monitor files will be saved.\n",
    "        If None, no file will be written, however, the env will still be wrapped\n",
    "        in a Monitor wrapper to provide additional information about training.\n",
    "    :param wrapper_kwargs: Optional keyword argument to pass to the ``AtariWrapper``\n",
    "    :param env_kwargs: Optional keyword argument to pass to the env constructor\n",
    "    :param vec_env_cls: A custom ``VecEnv`` class constructor. Default: None.\n",
    "    :param vec_env_kwargs: Keyword arguments to pass to the ``VecEnv`` class constructor.\n",
    "    :param monitor_kwargs: Keyword arguments to pass to the ``Monitor`` class constructor.\n",
    "    :return: The wrapped environment\n",
    "    \"\"\"\n",
    "    return make_vec_env(\n",
    "        env_id,\n",
    "        n_envs=n_envs,\n",
    "        seed=seed,\n",
    "        start_index=start_index,\n",
    "        monitor_dir=monitor_dir,\n",
    "        wrapper_class=MyAtariWrapper,\n",
    "        env_kwargs=env_kwargs,\n",
    "        vec_env_cls=vec_env_cls,\n",
    "        vec_env_kwargs=vec_env_kwargs,\n",
    "        monitor_kwargs=monitor_kwargs,\n",
    "        wrapper_kwargs=wrapper_kwargs,\n",
    "    )"
   ]
  },
  {
   "cell_type": "code",
   "execution_count": 12,
   "id": "cec5173a-e047-474d-ad32-50e10aa5389f",
   "metadata": {
    "execution": {
     "iopub.execute_input": "2023-06-14T09:07:36.681545Z",
     "iopub.status.busy": "2023-06-14T09:07:36.681422Z",
     "iopub.status.idle": "2023-06-14T09:07:36.683618Z",
     "shell.execute_reply": "2023-06-14T09:07:36.683212Z"
    },
    "jupyter": {
     "source_hidden": true
    }
   },
   "outputs": [],
   "source": [
    "env_id = \"BreakoutNoFrameskip-v4\"\n",
    "exp_tag = f\"sparse_{sparsity}\"\n",
    "exp_name = f\"{env_id}--{exp_tag}\""
   ]
  },
  {
   "cell_type": "code",
   "execution_count": 13,
   "id": "167ad488-d0ba-4c60-bdf5-e4be929c7bf8",
   "metadata": {
    "execution": {
     "iopub.execute_input": "2023-06-14T09:07:36.684919Z",
     "iopub.status.busy": "2023-06-14T09:07:36.684797Z",
     "iopub.status.idle": "2023-06-14T09:07:36.687918Z",
     "shell.execute_reply": "2023-06-14T09:07:36.687479Z"
    },
    "jupyter": {
     "source_hidden": true
    }
   },
   "outputs": [],
   "source": [
    "logfolder_root = pathlib.Path(PROJ_ROOT_PATH / \"logging\")\n",
    "\n",
    "# Directory to save all training statistics\n",
    "log_dir = pathlib.Path(logfolder_root / exp_name)\n",
    "os.makedirs(log_dir, exist_ok=True)\n",
    "\n",
    "# Directory to save gif animations\n",
    "gif_dir = pathlib.Path(log_dir / \"gifs\" / exp_name)\n",
    "os.makedirs(gif_dir, exist_ok=True)\n",
    "\n",
    "# Directory to save models\n",
    "models_dir = pathlib.Path(PROJ_ROOT_PATH / \"models\" / exp_name)\n",
    "os.makedirs(models_dir, exist_ok=True)"
   ]
  },
  {
   "cell_type": "code",
   "execution_count": 14,
   "id": "19471b8a-750f-41d9-9748-9137cacef36b",
   "metadata": {
    "execution": {
     "iopub.execute_input": "2023-06-14T09:07:36.689260Z",
     "iopub.status.busy": "2023-06-14T09:07:36.689130Z",
     "iopub.status.idle": "2023-06-14T09:07:36.691279Z",
     "shell.execute_reply": "2023-06-14T09:07:36.690881Z"
    },
    "jupyter": {
     "source_hidden": true
    }
   },
   "outputs": [],
   "source": [
    "# The different number of processes that will be used\n",
    "NUM_ENVS = 16\n",
    "TRAIN_STEPS = 5E7\n",
    "# Number of episodes for evaluation\n",
    "ALGO = A2C"
   ]
  },
  {
   "cell_type": "code",
   "execution_count": 15,
   "id": "6e2add64-f00c-4951-9048-5041764ed017",
   "metadata": {
    "execution": {
     "iopub.execute_input": "2023-06-14T09:07:36.692649Z",
     "iopub.status.busy": "2023-06-14T09:07:36.692413Z",
     "iopub.status.idle": "2023-06-14T09:07:36.694453Z",
     "shell.execute_reply": "2023-06-14T09:07:36.694077Z"
    },
    "jupyter": {
     "source_hidden": true
    }
   },
   "outputs": [],
   "source": [
    "mother_seed = 2023"
   ]
  },
  {
   "cell_type": "code",
   "execution_count": 16,
   "id": "96fe7498-1566-4940-aacf-400493998b64",
   "metadata": {
    "execution": {
     "iopub.execute_input": "2023-06-14T09:07:36.695911Z",
     "iopub.status.busy": "2023-06-14T09:07:36.695614Z",
     "shell.execute_reply": "2023-06-15T02:24:56.557585Z"
    },
    "jupyter": {
     "source_hidden": true
    }
   },
   "outputs": [
    {
     "name": "stdout",
     "output_type": "stream",
     "text": [
      "-------\n",
      "RUN: 3\n"
     ]
    },
    {
     "name": "stderr",
     "output_type": "stream",
     "text": [
      "A.L.E: Arcade Learning Environment (version 0.8.1+53f58b7)\n",
      "[Powered by Stella]\n"
     ]
    },
    {
     "data": {
      "application/vnd.jupyter.widget-view+json": {
       "model_id": "6343e87c1c574b9bb4551920792ae300",
       "version_major": 2,
       "version_minor": 0
      },
      "text/plain": [
       "Output()"
      ]
     },
     "metadata": {},
     "output_type": "display_data"
    }
   ],
   "source": [
    "# for experiment in range(NUM_EXPERIMENTS):\n",
    "for experiment in [exp_no]:\n",
    "    print(\"-------\")\n",
    "    print(f\"RUN: {experiment}\")\n",
    "    # Log directory for each run of the experiment\n",
    "    run_log_dir = f\"{log_dir}/run_{experiment}\"\n",
    "\n",
    "    # Create the callback: check every 1000 steps\n",
    "    callback = SaveOnBestTrainingRewardCallback(check_freq=1E4, \n",
    "                                                log_dir=run_log_dir,\n",
    "                                                verbose=0)\n",
    "    \n",
    "    # Make vector environment\n",
    "    env = make_my_atari_env(env_id,\n",
    "                         n_envs=NUM_ENVS,\n",
    "                         monitor_dir=run_log_dir,\n",
    "                         seed=mother_seed+experiment,\n",
    "                           sparsity = sparsity)\n",
    "    \n",
    "    # Frame-stacking with 4 frames\n",
    "    env = VecFrameStack(env, n_stack=4)\n",
    "\n",
    "    # Create RL model\n",
    "    model = A2C(\"CnnPolicy\", env, verbose=0)\n",
    "\n",
    "    # Train the agent\n",
    "    model.learn(total_timesteps=TRAIN_STEPS, \n",
    "                progress_bar=True, \n",
    "                callback=callback)\n",
    "\n",
    "    # Save the final agent\n",
    "    model.save(f\"{models_dir}/{exp_name}-run_{experiment}\")"
   ]
  },
  {
   "cell_type": "code",
   "execution_count": 17,
   "id": "28008c80-0bef-44ed-881d-6de4bdf7f3f9",
   "metadata": {
    "execution": {
     "iopub.execute_input": "2023-06-15T02:25:01.852358Z",
     "iopub.status.busy": "2023-06-15T02:25:01.852228Z",
     "iopub.status.idle": "2023-06-15T02:25:01.854787Z",
     "shell.execute_reply": "2023-06-15T02:25:01.854350Z"
    },
    "jupyter": {
     "source_hidden": true
    }
   },
   "outputs": [],
   "source": [
    "# Visualizing Results"
   ]
  },
  {
   "cell_type": "code",
   "execution_count": 18,
   "id": "b2fa220a-bbd4-476f-a2dd-a8f64a4569f2",
   "metadata": {
    "execution": {
     "iopub.execute_input": "2023-06-15T02:25:01.856663Z",
     "iopub.status.busy": "2023-06-15T02:25:01.856535Z",
     "iopub.status.idle": "2023-06-15T02:25:01.859134Z",
     "shell.execute_reply": "2023-06-15T02:25:01.858710Z"
    },
    "jupyter": {
     "source_hidden": true
    }
   },
   "outputs": [],
   "source": [
    "def moving_average(values, window):\n",
    "    \"\"\"\n",
    "    Smooth values by doing a moving average\n",
    "    :param values: (numpy array)\n",
    "    :param window: (int)\n",
    "    :return: (numpy array)\n",
    "    \"\"\"\n",
    "    weights = np.repeat(1.0, window) / window\n",
    "    return np.convolve(values, weights, \"valid\")"
   ]
  },
  {
   "cell_type": "code",
   "execution_count": 19,
   "id": "bc471f87-7359-476b-955e-aa9ee568c4fa",
   "metadata": {
    "execution": {
     "iopub.execute_input": "2023-06-15T02:25:01.860598Z",
     "iopub.status.busy": "2023-06-15T02:25:01.860463Z",
     "iopub.status.idle": "2023-06-15T02:25:02.016555Z",
     "shell.execute_reply": "2023-06-15T02:25:02.016028Z"
    },
    "jupyter": {
     "source_hidden": true
    }
   },
   "outputs": [
    {
     "data": {
      "image/png": "[encoded data removed]",
      "text/plain": [
       "<Figure size 640x480 with 1 Axes>"
      ]
     },
     "metadata": {},
     "output_type": "display_data"
    }
   ],
   "source": [
    "fig = plt.figure()\n",
    "plt.xlabel(\"Number of Timesteps\")\n",
    "plt.ylabel(\"Rewards\")\n",
    "title = env_id\n",
    "plt.title(title + \" (moving avg, window=50)\")\n",
    "# for experiment in range(NUM_EXPERIMENTS):\n",
    "for experiment in [exp_no]:\n",
    "    run_log_dir = f\"{log_dir}/run_{experiment}\"\n",
    "    x, y = ts2xy(load_results(run_log_dir), \"timesteps\")\n",
    "    y = moving_average(y, window=50)\n",
    "    # Truncate x\n",
    "    x = x[len(x) - len(y) :]    \n",
    "    plt.plot(x, y)  \n",
    "plt.show()    "
   ]
  }
 ],
 "metadata": {
  "kernelspec": {
   "display_name": "Python 3 (ipykernel)",
   "language": "python",
   "name": "python3"
  },
  "language_info": {
   "codemirror_mode": {
    "name": "ipython",
    "version": 3
   },
   "file_extension": ".py",
   "mimetype": "text/x-python",
   "name": "python",
   "nbconvert_exporter": "python",
   "pygments_lexer": "ipython3",
   "version": "3.10.6"
  },
  "widgets": {
   "application/vnd.jupyter.widget-state+json": {
    "state": {
     "164b7bdc0d734036a81d1a76cb61b2fb": {
      "model_module": "@jupyter-widgets/base",
      "model_module_version": "2.0.0",
      "model_name": "LayoutModel",
      "state": {
       "_model_module": "@jupyter-widgets/base",
       "_model_module_version": "2.0.0",
       "_model_name": "LayoutModel",
       "_view_count": null,
       "_view_module": "@jupyter-widgets/base",
       "_view_module_version": "2.0.0",
       "_view_name": "LayoutView",
       "align_content": null,
       "align_items": null,
       "align_self": null,
       "border_bottom": null,
       "border_left": null,
       "border_right": null,
       "border_top": null,
       "bottom": null,
       "display": null,
       "flex": null,
       "flex_flow": null,
       "grid_area": null,
       "grid_auto_columns": null,
       "grid_auto_flow": null,
       "grid_auto_rows": null,
       "grid_column": null,
       "grid_gap": null,
       "grid_row": null,
       "grid_template_areas": null,
       "grid_template_columns": null,
       "grid_template_rows": null,
       "height": null,
       "justify_content": null,
       "justify_items": null,
       "left": null,
       "margin": null,
       "max_height": null,
       "max_width": null,
       "min_height": null,
       "min_width": null,
       "object_fit": null,
       "object_position": null,
       "order": null,
       "overflow": null,
       "padding": null,
       "right": null,
       "top": null,
       "visibility": null,
       "width": null
      }
     },
     "6343e87c1c574b9bb4551920792ae300": {
      "model_module": "@jupyter-widgets/output",
      "model_module_version": "1.0.0",
      "model_name": "OutputModel",
      "state": {
       "_dom_classes": [],
       "_model_module": "@jupyter-widgets/output",
       "_model_module_version": "1.0.0",
       "_model_name": "OutputModel",
       "_view_count": null,
       "_view_module": "@jupyter-widgets/output",
       "_view_module_version": "1.0.0",
       "_view_name": "OutputView",
       "layout": "IPY_MODEL_164b7bdc0d734036a81d1a76cb61b2fb",
       "msg_id": "e84451fe-8439df5f50883a9cb25aff64_111116_17",
       "outputs": [
        {
         "data": {
          "text/html": "<pre style=\"white-space:pre;overflow-x:auto;line-height:normal;font-family:Menlo,'DejaVu Sans Mono',consolas,'Courier New',monospace\"><span style=\"color: #800080; text-decoration-color: #800080\">   1%</span> <span style=\"color: #3a3a3a; text-decoration-color: #3a3a3a\">━━━━━━━━━━━━━━━━━━━━━━━━━━━━━━━━━━━━━━━━━━━━━━━━━━━━━━━</span> <span style=\"color: #008000; text-decoration-color: #008000\">327,888/50,000,000 </span> [ <span style=\"color: #808000; text-decoration-color: #808000\">0:06:50</span> &lt; <span style=\"color: #008080; text-decoration-color: #008080\">16:45:25</span> , <span style=\"color: #800000; text-decoration-color: #800000\">823 it/s</span> ]\n</pre>\n",
          "text/plain": "\u001b[35m   1%\u001b[0m \u001b[38;5;237m━━━━━━━━━━━━━━━━━━━━━━━━━━━━━━━━━━━━━━━━━━━━━━━━━━━━━━━\u001b[0m \u001b[32m327,888/50,000,000 \u001b[0m [ \u001b[33m0:06:50\u001b[0m < \u001b[36m16:45:25\u001b[0m , \u001b[31m823 it/s\u001b[0m ]\n"
         },
         "metadata": {},
         "output_type": "display_data"
        }
       ],
       "tabbable": null,
       "tooltip": null
      }
     }
    },
    "version_major": 2,
    "version_minor": 0
   }
  }
 },
 "nbformat": 4,
 "nbformat_minor": 5
}
