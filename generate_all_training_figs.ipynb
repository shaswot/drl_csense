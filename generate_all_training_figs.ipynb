{
 "cells": [
  {
   "cell_type": "code",
   "execution_count": 1,
   "id": "b9758e97-4799-4126-9ae2-219bcb6f289c",
   "metadata": {},
   "outputs": [],
   "source": [
    "import os\n",
    "import sys\n",
    "import git\n",
    "import pathlib\n",
    "\n",
    "os.environ['TF_CPP_MIN_LOG_LEVEL'] = '3'\n",
    "\n",
    "PROJ_ROOT_PATH = pathlib.Path(git.Repo('.', search_parent_directories=True).working_tree_dir)\n",
    "PROJ_ROOT =  str(PROJ_ROOT_PATH)\n",
    "if PROJ_ROOT not in sys.path:\n",
    "    sys.path.append(PROJ_ROOT)"
   ]
  },
  {
   "cell_type": "code",
   "execution_count": 2,
   "id": "aeabfaea-478d-4df3-9cdc-72db25218437",
   "metadata": {},
   "outputs": [],
   "source": [
    "from lib.resultsviz import plot_single_run_rewards,plot_all_run_rewards\n",
    "from lib.resultsviz import plot_all_run_average_rewards\n",
    "from lib.resultsviz import get_runs_in_exp_name"
   ]
  },
  {
   "cell_type": "code",
   "execution_count": 3,
   "id": "ec4b0ee4-513f-4b67-94ae-7b5a3f8c7b04",
   "metadata": {},
   "outputs": [
    {
     "name": "stdout",
     "output_type": "stream",
     "text": [
      "**********\n",
      "BreakoutNoFrameskip-v4--vanilla\n",
      "**********\n",
      "BreakoutNoFrameskip-v4--sparse_0.1\n",
      "**********\n",
      "BreakoutNoFrameskip-v4--sparse_0.2\n",
      "**********\n",
      "BreakoutNoFrameskip-v4--sparse_0.3\n",
      "**********\n",
      "BreakoutNoFrameskip-v4--sparse_0.5\n"
     ]
    }
   ],
   "source": [
    "env_id = \"BreakoutNoFrameskip-v4\"\n",
    "\n",
    "for sparsity in [0.0, 0.1, 0.2, 0.3, 0.5]:\n",
    "    if sparsity ==0.0:\n",
    "        exp_tag = f\"vanilla\"\n",
    "    else:\n",
    "        exp_tag = f\"sparse_{sparsity}\"\n",
    "        \n",
    "    exp_name = f\"{env_id}--{exp_tag}\"\n",
    "    \n",
    "    print(\"*\"*10)\n",
    "    print(exp_name)\n",
    "    \n",
    "    plot_all_run_rewards(exp_name, window=50, savefig=True)\n",
    "    plot_all_run_average_rewards(exp_name, window=50, err_type=\"std\", color=\"green\", savefig=True)\n",
    "    plot_all_run_average_rewards(exp_name, window=50, err_type=\"range\", color=\"blue\", savefig=True)\n",
    "\n",
    "    runs = get_runs_in_exp_name(exp_name)\n",
    "    run_nos = [run[-1] for run in runs]\n",
    "    for run_no in run_nos:\n",
    "        plot_single_run_rewards(exp_name, run_no=run_no, window=50, savefig=True)"
   ]
  },
  {
   "cell_type": "code",
   "execution_count": null,
   "id": "1048a5ef-fb8a-425e-803d-06e59e546eb1",
   "metadata": {},
   "outputs": [],
   "source": []
  }
 ],
 "metadata": {
  "kernelspec": {
   "display_name": "Python 3 (ipykernel)",
   "language": "python",
   "name": "python3"
  },
  "language_info": {
   "codemirror_mode": {
    "name": "ipython",
    "version": 3
   },
   "file_extension": ".py",
   "mimetype": "text/x-python",
   "name": "python",
   "nbconvert_exporter": "python",
   "pygments_lexer": "ipython3",
   "version": "3.10.6"
  }
 },
 "nbformat": 4,
 "nbformat_minor": 5
}
