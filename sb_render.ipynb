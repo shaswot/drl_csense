{
 "cells": [
  {
   "cell_type": "code",
   "execution_count": 1,
   "id": "df69c39a-8408-4f06-92c6-f7ab0372add9",
   "metadata": {},
   "outputs": [
    {
     "name": "stderr",
     "output_type": "stream",
     "text": [
      "2023-06-12 07:58:33.300102: I tensorflow/core/util/port.cc:110] oneDNN custom operations are on. You may see slightly different numerical results due to floating-point round-off errors from different computation orders. To turn them off, set the environment variable `TF_ENABLE_ONEDNN_OPTS=0`.\n",
      "2023-06-12 07:58:33.358180: I tensorflow/core/platform/cpu_feature_guard.cc:182] This TensorFlow binary is optimized to use available CPU instructions in performance-critical operations.\n",
      "To enable the following instructions: AVX2 AVX512F AVX512_VNNI FMA, in other operations, rebuild TensorFlow with the appropriate compiler flags.\n",
      "2023-06-12 07:58:34.384968: W tensorflow/compiler/tf2tensorrt/utils/py_utils.cc:38] TF-TRT Warning: Could not find TensorRT\n"
     ]
    }
   ],
   "source": [
    "import gymnasium as gym\n",
    "from stable_baselines3.common.vec_env import VecVideoRecorder, DummyVecEnv"
   ]
  },
  {
   "cell_type": "code",
   "execution_count": 2,
   "id": "4903388b-3868-4b71-9d8f-9125c44a82ca",
   "metadata": {},
   "outputs": [],
   "source": [
    "env_id = \"CartPole-v1\"\n",
    "video_folder = \"logfiles/videos/\"\n",
    "video_length = 100"
   ]
  },
  {
   "cell_type": "code",
   "execution_count": 3,
   "id": "335c6860-6efa-4e00-b2b0-389a7ebd9b4e",
   "metadata": {},
   "outputs": [],
   "source": [
    "vec_env = DummyVecEnv([lambda: gym.make(env_id, render_mode=\"rgb_array\")])"
   ]
  },
  {
   "cell_type": "code",
   "execution_count": 4,
   "id": "7b267bbc-de60-4e93-9087-2bd663e2ab6c",
   "metadata": {},
   "outputs": [
    {
     "data": {
      "text/plain": [
       "array([[-0.04606   ,  0.01253056,  0.02333807, -0.01144628]],\n",
       "      dtype=float32)"
      ]
     },
     "execution_count": 4,
     "metadata": {},
     "output_type": "execute_result"
    }
   ],
   "source": [
    "obs = vec_env.reset()\n",
    "\n",
    "# Record the video starting at the first step\n",
    "vec_env = VecVideoRecorder(vec_env, \n",
    "                           video_folder,\n",
    "                           record_video_trigger=lambda x: x == 0, \n",
    "                           video_length=video_length,\n",
    "                           name_prefix=f\"random-agent-{env_id}\")\n",
    "\n",
    "vec_env.reset()"
   ]
  },
  {
   "cell_type": "code",
   "execution_count": 5,
   "id": "e78dfdc4-4d95-465b-b084-18c144e20e33",
   "metadata": {},
   "outputs": [
    {
     "name": "stdout",
     "output_type": "stream",
     "text": [
      "Saving video to /repos/drl_csense/logfiles/videos/random-agent-CartPole-v1-step-0-to-step-100.mp4\n",
      "Moviepy - Building video /repos/drl_csense/logfiles/videos/random-agent-CartPole-v1-step-0-to-step-100.mp4.\n",
      "Moviepy - Writing video /repos/drl_csense/logfiles/videos/random-agent-CartPole-v1-step-0-to-step-100.mp4\n",
      "\n"
     ]
    },
    {
     "name": "stderr",
     "output_type": "stream",
     "text": [
      "                                                                                                                                                                                                                                                                                              "
     ]
    },
    {
     "name": "stdout",
     "output_type": "stream",
     "text": [
      "Moviepy - Done !\n",
      "Moviepy - video ready /repos/drl_csense/logfiles/videos/random-agent-CartPole-v1-step-0-to-step-100.mp4\n"
     ]
    },
    {
     "name": "stderr",
     "output_type": "stream",
     "text": [
      "\r"
     ]
    }
   ],
   "source": [
    "for _ in range(video_length + 1):\n",
    "  action = [vec_env.action_space.sample()]\n",
    "  obs, _, _, _ = vec_env.step(action)\n",
    "    "
   ]
  },
  {
   "cell_type": "code",
   "execution_count": 6,
   "id": "38cd73f8-722f-435d-aa3e-9830304afe6c",
   "metadata": {},
   "outputs": [],
   "source": [
    "# Save the video\n",
    "vec_env.close()"
   ]
  }
 ],
 "metadata": {
  "kernelspec": {
   "display_name": "Python 3 (ipykernel)",
   "language": "python",
   "name": "python3"
  },
  "language_info": {
   "codemirror_mode": {
    "name": "ipython",
    "version": 3
   },
   "file_extension": ".py",
   "mimetype": "text/x-python",
   "name": "python",
   "nbconvert_exporter": "python",
   "pygments_lexer": "ipython3",
   "version": "3.10.6"
  }
 },
 "nbformat": 4,
 "nbformat_minor": 5
}
