{
 "cells": [
  {
   "cell_type": "code",
   "execution_count": 1,
   "id": "874b6fd7-0b48-423a-be3d-c206ce726829",
   "metadata": {},
   "outputs": [
    {
     "name": "stderr",
     "output_type": "stream",
     "text": [
      "2023-06-12 08:00:40.794013: I tensorflow/core/util/port.cc:110] oneDNN custom operations are on. You may see slightly different numerical results due to floating-point round-off errors from different computation orders. To turn them off, set the environment variable `TF_ENABLE_ONEDNN_OPTS=0`.\n",
      "2023-06-12 08:00:40.851099: I tensorflow/core/platform/cpu_feature_guard.cc:182] This TensorFlow binary is optimized to use available CPU instructions in performance-critical operations.\n",
      "To enable the following instructions: AVX2 AVX512F AVX512_VNNI FMA, in other operations, rebuild TensorFlow with the appropriate compiler flags.\n",
      "2023-06-12 08:00:41.856507: W tensorflow/compiler/tf2tensorrt/utils/py_utils.cc:38] TF-TRT Warning: Could not find TensorRT\n"
     ]
    }
   ],
   "source": [
    "import imageio\n",
    "import numpy as np\n",
    "\n",
    "from stable_baselines3 import A2C"
   ]
  },
  {
   "cell_type": "code",
   "execution_count": 2,
   "id": "f433a68e-cae8-4825-aa53-06f30c612c3e",
   "metadata": {},
   "outputs": [],
   "source": [
    "env_id = \"LunarLander-v2\"\n",
    "gif_folder = \"logfiles/gifs/\""
   ]
  },
  {
   "cell_type": "code",
   "execution_count": 3,
   "id": "f2871b1f-dab5-48c8-b3ce-2d4b60f0054b",
   "metadata": {},
   "outputs": [],
   "source": [
    "model = A2C(\"MlpPolicy\", env_id).learn(100_000)"
   ]
  },
  {
   "cell_type": "code",
   "execution_count": 11,
   "id": "85c0a913-c6be-4bed-a5ae-b59daa97a416",
   "metadata": {},
   "outputs": [],
   "source": [
    "images = []\n",
    "obs = model.env.reset()\n",
    "img = model.env.render(mode=\"rgb_array\")\n",
    "for i in range(500):\n",
    "    images.append(img)\n",
    "    action, _ = model.predict(obs)\n",
    "    obs, _, _ ,_ = model.env.step(action)\n",
    "    img = model.env.render(mode=\"rgb_array\")"
   ]
  },
  {
   "cell_type": "code",
   "execution_count": 14,
   "id": "8b24a3f0-b79a-4a32-80aa-aa8c213fb319",
   "metadata": {},
   "outputs": [],
   "source": [
    "fps=29\n",
    "frames = len(images)\n",
    "duration = frames*fps\n",
    "imageio.mimsave(f\"{gif_folder}/lander_a2c.gif\", [np.array(img) for i, img in enumerate(images) if i%2 == 0], duration=50)"
   ]
  },
  {
   "cell_type": "code",
   "execution_count": null,
   "id": "dbf74f31-6fc6-4eb8-8f3f-31cd04d69f8b",
   "metadata": {},
   "outputs": [],
   "source": []
  }
 ],
 "metadata": {
  "kernelspec": {
   "display_name": "Python 3 (ipykernel)",
   "language": "python",
   "name": "python3"
  },
  "language_info": {
   "codemirror_mode": {
    "name": "ipython",
    "version": 3
   },
   "file_extension": ".py",
   "mimetype": "text/x-python",
   "name": "python",
   "nbconvert_exporter": "python",
   "pygments_lexer": "ipython3",
   "version": "3.10.6"
  }
 },
 "nbformat": 4,
 "nbformat_minor": 5
}
