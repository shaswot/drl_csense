{
 "cells": [
  {
   "cell_type": "code",
   "execution_count": 1,
   "id": "5c10c416-d340-42c3-861b-302cc9c1079f",
   "metadata": {},
   "outputs": [
    {
     "name": "stdout",
     "output_type": "stream",
     "text": [
      "Project Root Directory: /repos/drl_csense\n"
     ]
    }
   ],
   "source": [
    "import os\n",
    "import sys\n",
    "import git\n",
    "import pathlib\n",
    "\n",
    "os.environ['TF_CPP_MIN_LOG_LEVEL'] = '3' \n",
    "\n",
    "PROJ_ROOT_PATH = pathlib.Path(git.Repo('.', search_parent_directories=True).working_tree_dir)\n",
    "PROJ_ROOT =  str(PROJ_ROOT_PATH)\n",
    "if PROJ_ROOT not in sys.path:\n",
    "    sys.path.append(PROJ_ROOT)\n",
    "\n",
    "print(f\"Project Root Directory: {PROJ_ROOT}\")"
   ]
  },
  {
   "cell_type": "code",
   "execution_count": 2,
   "id": "0bf1af1a-e08a-47e2-8e4f-55ca565be567",
   "metadata": {},
   "outputs": [],
   "source": [
    "from lib.folder_paths import get_exp_name_tag, deconstruct_exp_name"
   ]
  },
  {
   "cell_type": "code",
   "execution_count": 3,
   "id": "c5b342f5-4450-450f-a004-1da63f9f9e15",
   "metadata": {},
   "outputs": [],
   "source": [
    "experiment_set = \"breakout-compress\""
   ]
  },
  {
   "cell_type": "code",
   "execution_count": 4,
   "id": "3a3d94ab-133c-4e5d-ab74-0dcd5f7e68e2",
   "metadata": {},
   "outputs": [],
   "source": [
    "script_dir = pathlib.Path(PROJ_ROOT_PATH / experiment_set)\n",
    "script_file = pathlib.Path(script_dir/ f\"{experiment_set}.py\")\n",
    "\n",
    "job_output_dir = pathlib.Path(PROJ_ROOT_PATH / experiment_set / \"job_logs\")\n",
    "os.makedirs(job_output_dir, exist_ok=True)"
   ]
  },
  {
   "cell_type": "code",
   "execution_count": 5,
   "id": "a0e882a1-3f63-4900-b733-7c477cb5f513",
   "metadata": {},
   "outputs": [
    {
     "data": {
      "text/plain": [
       "PosixPath('/repos/drl_csense/breakout-compress/breakout-compress.py')"
      ]
     },
     "execution_count": 5,
     "metadata": {},
     "output_type": "execute_result"
    }
   ],
   "source": [
    "script_file"
   ]
  },
  {
   "cell_type": "code",
   "execution_count": 6,
   "id": "1b7882f1-bc32-43c2-896f-4da14cefa5bf",
   "metadata": {},
   "outputs": [],
   "source": [
    "mother_seed = 20230618"
   ]
  },
  {
   "cell_type": "code",
   "execution_count": 11,
   "id": "c57a9a05-775a-4a04-89f0-3407ccc72c9b",
   "metadata": {},
   "outputs": [
    {
     "name": "stdout",
     "output_type": "stream",
     "text": [
      "python /repos/drl_csense/breakout-compress/breakout-compress.py --env_id BreakoutNoFrameskip-v4     --exp_param_type compress     --exp_param_value 0.0     --run_no 4     --n_envs 12     --run_seed 20230622     --trainsteps 30000000     --gpu_id 0     1> /repos/drl_csense/breakout-compress/job_logs/BreakoutNoFrameskip-v4--compress_0.0-run_4.out 2>&1 &\n",
      "python /repos/drl_csense/breakout-compress/breakout-compress.py --env_id BreakoutNoFrameskip-v4     --exp_param_type compress     --exp_param_value 0.1     --run_no 4     --n_envs 12     --run_seed 20230622     --trainsteps 30000000     --gpu_id 1     1> /repos/drl_csense/breakout-compress/job_logs/BreakoutNoFrameskip-v4--compress_0.1-run_4.out 2>&1 &\n",
      "python /repos/drl_csense/breakout-compress/breakout-compress.py --env_id BreakoutNoFrameskip-v4     --exp_param_type compress     --exp_param_value 0.2     --run_no 4     --n_envs 12     --run_seed 20230622     --trainsteps 30000000     --gpu_id 2     1> /repos/drl_csense/breakout-compress/job_logs/BreakoutNoFrameskip-v4--compress_0.2-run_4.out 2>&1 &\n",
      "python /repos/drl_csense/breakout-compress/breakout-compress.py --env_id BreakoutNoFrameskip-v4     --exp_param_type compress     --exp_param_value 0.3     --run_no 4     --n_envs 12     --run_seed 20230622     --trainsteps 30000000     --gpu_id 3     1> /repos/drl_csense/breakout-compress/job_logs/BreakoutNoFrameskip-v4--compress_0.3-run_4.out 2>&1 &\n",
      "python /repos/drl_csense/breakout-compress/breakout-compress.py --env_id BreakoutNoFrameskip-v4     --exp_param_type compress     --exp_param_value 0.4     --run_no 4     --n_envs 12     --run_seed 20230622     --trainsteps 30000000     --gpu_id 4     1> /repos/drl_csense/breakout-compress/job_logs/BreakoutNoFrameskip-v4--compress_0.4-run_4.out 2>&1 &\n"
     ]
    }
   ],
   "source": [
    "env_id = \"BreakoutNoFrameskip-v4\"\n",
    "exp_param_type = \"compress\"\n",
    "run_no =4\n",
    "run_seed = mother_seed + run_no\n",
    "n_envs = 12\n",
    "trainsteps = int(3E7)\n",
    "\n",
    "CR_LIST = [0.0, 0.1, 0.2, 0.3, 0.4]\n",
    "for i, compress_ratio in enumerate(CR_LIST):\n",
    "    gpu_id = i\n",
    "    exp_param_value = compress_ratio\n",
    "    \n",
    "    # Get names and tags of experiment\n",
    "    exp_name, exp_metaname, exp_tag = get_exp_name_tag(env_id, exp_param_type, exp_param_value=compress_ratio)\n",
    "\n",
    "    # print(f\"python {script_file} --env_id {env_id} \\\n",
    "    #     1> {job_output_dir}/{exp_name}-run_{run_no}.out 2>&1 &\") \n",
    "    \n",
    "    print(f\"python {script_file} --env_id {env_id} \\\n",
    "    --exp_param_type {exp_param_type} \\\n",
    "    --exp_param_value {exp_param_value} \\\n",
    "    --run_no {run_no} \\\n",
    "    --n_envs {n_envs} \\\n",
    "    --run_seed {run_seed} \\\n",
    "    --trainsteps {trainsteps} \\\n",
    "    --gpu_id {gpu_id} \\\n",
    "    1> {job_output_dir}/{exp_name}-run_{run_no}.out 2>&1 &\")   \n",
    "    "
   ]
  },
  {
   "cell_type": "code",
   "execution_count": null,
   "id": "e450eb48-e96d-4a34-86cb-8ec6d8b6f349",
   "metadata": {},
   "outputs": [],
   "source": []
  }
 ],
 "metadata": {
  "kernelspec": {
   "display_name": "Python 3 (ipykernel)",
   "language": "python",
   "name": "python3"
  },
  "language_info": {
   "codemirror_mode": {
    "name": "ipython",
    "version": 3
   },
   "file_extension": ".py",
   "mimetype": "text/x-python",
   "name": "python",
   "nbconvert_exporter": "python",
   "pygments_lexer": "ipython3",
   "version": "3.10.6"
  }
 },
 "nbformat": 4,
 "nbformat_minor": 5
}
