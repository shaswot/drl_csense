{
 "cells": [
  {
   "cell_type": "code",
   "execution_count": 1,
   "id": "5a5afbe6-d4b5-476f-b603-cdc7c9b1a69c",
   "metadata": {},
   "outputs": [],
   "source": [
    "import os\n",
    "import sys\n",
    "import git\n",
    "import pathlib\n",
    "\n",
    "os.environ['TF_CPP_MIN_LOG_LEVEL'] = '3'\n",
    "\n",
    "PROJ_ROOT_PATH = pathlib.Path(git.Repo('.', search_parent_directories=True).working_tree_dir)\n",
    "PROJ_ROOT =  str(PROJ_ROOT_PATH)\n",
    "if PROJ_ROOT not in sys.path:\n",
    "    sys.path.append(PROJ_ROOT)"
   ]
  },
  {
   "cell_type": "code",
   "execution_count": 2,
   "id": "c38e6c78-d77a-4cee-98f1-f9a9719e6cfb",
   "metadata": {},
   "outputs": [],
   "source": [
    "import numpy as np\n",
    "import imageio\n",
    "import ipyplot"
   ]
  },
  {
   "cell_type": "code",
   "execution_count": 3,
   "id": "a16f3583-1107-495b-9a29-6ec3c2f8c75c",
   "metadata": {},
   "outputs": [],
   "source": [
    "import gymnasium as gym"
   ]
  },
  {
   "cell_type": "code",
   "execution_count": null,
   "id": "81215a36-7cfd-4e11-b2f1-9c52cce110ca",
   "metadata": {},
   "outputs": [],
   "source": [
    "from stable_baselines3.common.env_util import make_atari_env\n",
    "from stable_baselines3.common.vec_env import VecFrameStack\n",
    "from stable_baselines3 import A2C"
   ]
  },
  {
   "cell_type": "code",
   "execution_count": null,
   "id": "ee837f84-7b21-4f2f-b37c-4c24abd266c2",
   "metadata": {},
   "outputs": [],
   "source": [
    "from IPython.display import Image"
   ]
  },
  {
   "cell_type": "code",
   "execution_count": null,
   "id": "3cb5ef17-98f0-4db6-a878-6e7e28967394",
   "metadata": {},
   "outputs": [],
   "source": [
    "from lib.folder_paths import makeget_logging_dir, get_exp_name_tag, deconstruct_exp_name\n",
    "from lib.env_utils import AtariWrapper_NoisyFrame, AtariWrapper_Compressed, make_atari_env_Custom_VecFrameStack"
   ]
  },
  {
   "cell_type": "code",
   "execution_count": null,
   "id": "8096676b-fdc0-4b44-8549-bcff5c3b18b0",
   "metadata": {},
   "outputs": [],
   "source": [
    "algorithm = A2C"
   ]
  },
  {
   "cell_type": "code",
   "execution_count": null,
   "id": "bf1e5bfc-6639-4411-b960-550eec40cd3e",
   "metadata": {},
   "outputs": [],
   "source": [
    "env_id = \"BreakoutNoFrameskip-v4\"\n",
    "exp_param_type = \"compress\"\n",
    "exp_param_value_LIST = [0.0, 0.1, 0.2, 0.3, 0.4]\n",
    "eval_param_value_LIST = [0.0, 0.1, 0.2, 0.3, 0.4]\n",
    "model_type_LIST = [\"best\", \"last\"]\n",
    "\n",
    "exp_name_LIST = []\n",
    "for exp_param_value in exp_param_value_LIST:\n",
    "    # Get names and tags of experiment\n",
    "    exp_name, exp_metaname, exp_tag = get_exp_name_tag(env_id, exp_param_type, exp_param_value)\n",
    "    print(exp_name)\n",
    "    exp_name_LIST.append(exp_name)"
   ]
  },
  {
   "cell_type": "code",
   "execution_count": null,
   "id": "464a6211-6cd0-4825-8ea3-1709348bb3b0",
   "metadata": {},
   "outputs": [],
   "source": [
    "for exp_name in exp_name_LIST:\n",
    "    # Get names and tags of experiment\n",
    "    env_id, exp_param_type, exp_param_value, exp_metaname = deconstruct_exp_name(exp_name)\n",
    "    \n",
    "    # Get directories\n",
    "    models_dir, log_dir, gif_dir, image_dir = makeget_logging_dir(exp_name)\n",
    "        \n",
    "    # get all subfolders in log_dir\n",
    "    folder_list = [folder for folder in os.listdir(log_dir)]\n",
    "    \n",
    "    # list of folders with prefix \"run\"\n",
    "    runs = sorted([i for i in folder_list for j in [\"run\"] if j in i])\n",
    "    run_nos = [run[-1] for run in runs]\n",
    "    NO_OF_RUNS = len(runs)\n",
    "    \n",
    "    for run_no in run_nos:\n",
    "        for model_type in model_type_LIST:\n",
    "            for eval_param_value in eval_param_value_LIST:\n",
    "                # Make vector environment\n",
    "                if exp_param_type == \"compress\":\n",
    "                    wrapper = AtariWrapper_Compressed\n",
    "                    wrapper_kwargs = {\"compress_ratio\":float(eval_param_value)}\n",
    "                elif exp_param_type == \"noisy\":\n",
    "                    wrapper = AtariWrapper_NoisyFrame\n",
    "                    wrapper_kwargs = {\"noise\":float(eval_param_value)}\n",
    "                else:\n",
    "                    wrapper = AtariWrapper\n",
    "                    wrapper_kwargs = None\n",
    "                    \n",
    "                trial_env = make_atari_env_Custom_VecFrameStack(env_id=env_id,\n",
    "                                                        n_envs=1,\n",
    "                                                        monitor_dir=None,\n",
    "                                                        seed=161803,\n",
    "                                                        wrapper_class=wrapper,\n",
    "                                                        wrapper_kwargs=wrapper_kwargs\n",
    "                                                         )\n",
    "                           \n",
    "                # Load RL model\n",
    "                if model_type == \"best\":\n",
    "                    model_file = f\"{models_dir}/{exp_name}-run_{run_no}-best\"\n",
    "                else:\n",
    "                    model_file = f\"{models_dir}/{exp_name}-run_{run_no}\"\n",
    "                model = algorithm.load(model_file)\n",
    "                \n",
    "                # Create animation\n",
    "                duration = 10 #sec\n",
    "                fps = 240 #fps\n",
    "                no_of_frames = duration*fps*2 #only every other frame is used for animation\n",
    "                \n",
    "                images = []\n",
    "                obs = trial_env.reset()\n",
    "                img = trial_env.render(mode=\"rgb_array\")\n",
    "                for i in range(no_of_frames):\n",
    "                    images.append(img)\n",
    "                    action, _ = model.predict(obs)\n",
    "                    obs, reward, done, info = trial_env.step(action)\n",
    "                    img = trial_env.render(mode=\"rgb_array\")\n",
    "                \n",
    "                # Convert frames to animation\n",
    "                eval_param_type = exp_param_type\n",
    "                gif_file = f\"{gif_dir}/{exp_name}-run_{run_no}--eval_{model_type}-{eval_param_type}_{eval_param_value}.gif\"\n",
    "                imageio.mimsave(gif_file, \n",
    "                                [np.array(img) for i, img in enumerate(images) if i%2 == 0], duration=duration)\n",
    "                trial_env.close()"
   ]
  },
  {
   "cell_type": "code",
   "execution_count": null,
   "id": "16ad571c-0720-4bb3-a22d-c3051bb1f0ac",
   "metadata": {},
   "outputs": [],
   "source": []
  },
  {
   "cell_type": "code",
   "execution_count": null,
   "id": "c6f7e1d6-13e9-45f1-8a9c-886720761756",
   "metadata": {},
   "outputs": [],
   "source": []
  }
 ],
 "metadata": {
  "kernelspec": {
   "display_name": "Python 3 (ipykernel)",
   "language": "python",
   "name": "python3"
  },
  "language_info": {
   "codemirror_mode": {
    "name": "ipython",
    "version": 3
   },
   "file_extension": ".py",
   "mimetype": "text/x-python",
   "name": "python",
   "nbconvert_exporter": "python",
   "pygments_lexer": "ipython3",
   "version": "3.10.6"
  }
 },
 "nbformat": 4,
 "nbformat_minor": 5
}
