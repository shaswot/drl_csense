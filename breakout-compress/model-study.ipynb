{
 "cells": [
  {
   "cell_type": "code",
   "execution_count": 1,
   "id": "ac50a2a0-4709-45ce-b738-1eb3b429f6d0",
   "metadata": {},
   "outputs": [],
   "source": [
    "import os\n",
    "import sys\n",
    "import git\n",
    "import pathlib\n",
    "\n",
    "os.environ['TF_CPP_MIN_LOG_LEVEL'] = '3'\n",
    "\n",
    "PROJ_ROOT_PATH = pathlib.Path(git.Repo('.', search_parent_directories=True).working_tree_dir)\n",
    "PROJ_ROOT =  str(PROJ_ROOT_PATH)\n",
    "if PROJ_ROOT not in sys.path:\n",
    "    sys.path.append(PROJ_ROOT)"
   ]
  },
  {
   "cell_type": "code",
   "execution_count": 2,
   "id": "bb569241-4a58-4f7a-b8ef-7ba2ff243a7a",
   "metadata": {},
   "outputs": [],
   "source": [
    "from stable_baselines3 import A2C\n",
    "algorithm = A2C"
   ]
  },
  {
   "cell_type": "code",
   "execution_count": 3,
   "id": "733f7620-4d23-433a-bffe-321bbaad8c5b",
   "metadata": {},
   "outputs": [],
   "source": [
    "from lib.folder_paths import makeget_logging_dir, get_exp_name_tag, deconstruct_exp_name"
   ]
  },
  {
   "cell_type": "code",
   "execution_count": 4,
   "id": "7386ab39-4fc9-4ff2-9360-0fec7c8e625a",
   "metadata": {},
   "outputs": [],
   "source": [
    "env_id = \"BreakoutNoFrameskip-v4\"\n",
    "exp_param_type = \"compress\"\n",
    "exp_param_value = 0.1\n",
    "model_type = \"best\"\n",
    "run_no = 0"
   ]
  },
  {
   "cell_type": "code",
   "execution_count": 5,
   "id": "cf865fad-1a20-4883-ad7c-25a73602722b",
   "metadata": {},
   "outputs": [],
   "source": [
    "exp_name, exp_metaname, exp_tag = get_exp_name_tag(env_id, exp_param_type, exp_param_value)"
   ]
  },
  {
   "cell_type": "code",
   "execution_count": 6,
   "id": "c3fa24c3-5f2b-40b1-bbb8-dc4983944ff7",
   "metadata": {},
   "outputs": [],
   "source": [
    "# Get names and tags of experiment\n",
    "env_id, exp_param_type, exp_param_value, exp_metaname = deconstruct_exp_name(exp_name)\n",
    "\n",
    "# Get directories\n",
    "models_dir, log_dir, gif_dir, image_dir = makeget_logging_dir(exp_name)"
   ]
  },
  {
   "cell_type": "code",
   "execution_count": null,
   "id": "bef85798-0857-4c32-9b8a-6c0802622848",
   "metadata": {},
   "outputs": [],
   "source": [
    "if model_type == \"best\":\n",
    "    model_file = f\"{models_dir}/{exp_name}-run_{run_no}-best\"\n",
    "else:\n",
    "    model_file = f\"{models_dir}/{exp_name}-run_{run_no}\""
   ]
  },
  {
   "cell_type": "code",
   "execution_count": 8,
   "id": "00761fa2-a82e-4aef-89d4-c320bb9fd9f6",
   "metadata": {},
   "outputs": [
    {
     "name": "stdout",
     "output_type": "stream",
     "text": [
      "== CURRENT SYSTEM INFO ==\n",
      "- OS: Linux-5.15.0-1025-nvidia-x86_64-with-glibc2.35 # 25-Ubuntu SMP Fri Apr 21 21:46:57 UTC 2023\n",
      "- Python: 3.10.6\n",
      "- Stable-Baselines3: 2.0.0a13\n",
      "- PyTorch: 2.0.1+cu118\n",
      "- GPU Enabled: True\n",
      "- Numpy: 1.23.5\n",
      "- Cloudpickle: 2.2.1\n",
      "- Gymnasium: 0.28.1\n",
      "\n",
      "== SAVED MODEL SYSTEM INFO ==\n",
      "- OS: Linux-5.15.0-1025-nvidia-x86_64-with-glibc2.35 # 25-Ubuntu SMP Fri Apr 21 21:46:57 UTC 2023\n",
      "- Python: 3.10.6\n",
      "- Stable-Baselines3: 2.0.0a13\n",
      "- PyTorch: 2.0.1+cu118\n",
      "- GPU Enabled: True\n",
      "- Numpy: 1.23.5\n",
      "- Cloudpickle: 2.2.1\n",
      "- Gymnasium: 0.28.1\n",
      "\n"
     ]
    }
   ],
   "source": [
    "model = algorithm.load(model_file,print_system_info=True)"
   ]
  },
  {
   "cell_type": "code",
   "execution_count": 9,
   "id": "3ad6b352-fd22-46db-be69-55bc29a0ffca",
   "metadata": {},
   "outputs": [
    {
     "name": "stdout",
     "output_type": "stream",
     "text": [
      "ActorCriticCnnPolicy(\n",
      "  (features_extractor): NatureCNN(\n",
      "    (cnn): Sequential(\n",
      "      (0): Conv2d(4, 32, kernel_size=(8, 8), stride=(4, 4))\n",
      "      (1): ReLU()\n",
      "      (2): Conv2d(32, 64, kernel_size=(4, 4), stride=(2, 2))\n",
      "      (3): ReLU()\n",
      "      (4): Conv2d(64, 64, kernel_size=(3, 3), stride=(1, 1))\n",
      "      (5): ReLU()\n",
      "      (6): Flatten(start_dim=1, end_dim=-1)\n",
      "    )\n",
      "    (linear): Sequential(\n",
      "      (0): Linear(in_features=3136, out_features=512, bias=True)\n",
      "      (1): ReLU()\n",
      "    )\n",
      "  )\n",
      "  (pi_features_extractor): NatureCNN(\n",
      "    (cnn): Sequential(\n",
      "      (0): Conv2d(4, 32, kernel_size=(8, 8), stride=(4, 4))\n",
      "      (1): ReLU()\n",
      "      (2): Conv2d(32, 64, kernel_size=(4, 4), stride=(2, 2))\n",
      "      (3): ReLU()\n",
      "      (4): Conv2d(64, 64, kernel_size=(3, 3), stride=(1, 1))\n",
      "      (5): ReLU()\n",
      "      (6): Flatten(start_dim=1, end_dim=-1)\n",
      "    )\n",
      "    (linear): Sequential(\n",
      "      (0): Linear(in_features=3136, out_features=512, bias=True)\n",
      "      (1): ReLU()\n",
      "    )\n",
      "  )\n",
      "  (vf_features_extractor): NatureCNN(\n",
      "    (cnn): Sequential(\n",
      "      (0): Conv2d(4, 32, kernel_size=(8, 8), stride=(4, 4))\n",
      "      (1): ReLU()\n",
      "      (2): Conv2d(32, 64, kernel_size=(4, 4), stride=(2, 2))\n",
      "      (3): ReLU()\n",
      "      (4): Conv2d(64, 64, kernel_size=(3, 3), stride=(1, 1))\n",
      "      (5): ReLU()\n",
      "      (6): Flatten(start_dim=1, end_dim=-1)\n",
      "    )\n",
      "    (linear): Sequential(\n",
      "      (0): Linear(in_features=3136, out_features=512, bias=True)\n",
      "      (1): ReLU()\n",
      "    )\n",
      "  )\n",
      "  (mlp_extractor): MlpExtractor(\n",
      "    (policy_net): Sequential()\n",
      "    (value_net): Sequential()\n",
      "  )\n",
      "  (action_net): Linear(in_features=512, out_features=4, bias=True)\n",
      "  (value_net): Linear(in_features=512, out_features=1, bias=True)\n",
      ")\n"
     ]
    }
   ],
   "source": [
    "print(model.policy)"
   ]
  },
  {
   "cell_type": "code",
   "execution_count": null,
   "id": "f835a25d-0a5a-4423-96d1-461c4ae67164",
   "metadata": {},
   "outputs": [],
   "source": []
  }
 ],
 "metadata": {
  "kernelspec": {
   "display_name": "Python 3 (ipykernel)",
   "language": "python",
   "name": "python3"
  },
  "language_info": {
   "codemirror_mode": {
    "name": "ipython",
    "version": 3
   },
   "file_extension": ".py",
   "mimetype": "text/x-python",
   "name": "python",
   "nbconvert_exporter": "python",
   "pygments_lexer": "ipython3",
   "version": "3.10.6"
  }
 },
 "nbformat": 4,
 "nbformat_minor": 5
}
