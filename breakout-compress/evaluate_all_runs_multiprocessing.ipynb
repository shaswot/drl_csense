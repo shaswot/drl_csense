{
 "cells": [
  {
   "cell_type": "code",
   "execution_count": 1,
   "id": "cd74839d-02bc-41bd-b85f-416ea1309970",
   "metadata": {
    "jupyter": {
     "source_hidden": true
    }
   },
   "outputs": [],
   "source": [
    "import os\n",
    "import sys\n",
    "import git\n",
    "import pathlib\n",
    "\n",
    "os.environ['TF_CPP_MIN_LOG_LEVEL'] = '3'\n",
    "\n",
    "PROJ_ROOT_PATH = pathlib.Path(git.Repo('.', search_parent_directories=True).working_tree_dir)\n",
    "PROJ_ROOT =  str(PROJ_ROOT_PATH)\n",
    "if PROJ_ROOT not in sys.path:\n",
    "    sys.path.append(PROJ_ROOT)"
   ]
  },
  {
   "cell_type": "code",
   "execution_count": 2,
   "id": "25e6ef5a-4a66-438f-b1cc-bcbdad61adb3",
   "metadata": {
    "jupyter": {
     "source_hidden": true
    }
   },
   "outputs": [],
   "source": [
    "from lib.folder_paths import makeget_logging_dir, get_exp_name_tag, deconstruct_exp_name\n",
    "from lib.vizresults import evaluate_all_runs\n",
    "from stable_baselines3 import A2C"
   ]
  },
  {
   "cell_type": "code",
   "execution_count": 3,
   "id": "3a356031-302e-438b-b3e3-9a86fa57ceeb",
   "metadata": {
    "jupyter": {
     "source_hidden": true
    }
   },
   "outputs": [],
   "source": [
    "import multiprocessing"
   ]
  },
  {
   "cell_type": "code",
   "execution_count": 4,
   "id": "1d2f4089-a427-4689-bfef-a6eea7cb085b",
   "metadata": {
    "jupyter": {
     "source_hidden": true
    }
   },
   "outputs": [],
   "source": [
    "def parallel_wrapper(args):\n",
    "    exp_name, model_type, eval_param_value, kwargs = args\n",
    "    evaluate_all_runs(# model_params\n",
    "                exp_name=exp_name, \n",
    "                model_type=model_type,\n",
    "                algorithm=kwargs['algorithm'],\n",
    "                # env_params\n",
    "                n_envs=kwargs['n_envs'], \n",
    "                seed=kwargs['seed'], \n",
    "                eval_param_value=eval_param_value,\n",
    "                # eval_params\n",
    "                NUM_EPISODES=kwargs['NUM_EPISODES'])\n",
    "    # , \n",
    "    #             # fig params\n",
    "    #             savefig=kwargs['savefig'])"
   ]
  },
  {
   "cell_type": "code",
   "execution_count": 5,
   "id": "fb9d6f8f-9791-494a-abc2-fa7ff1a6ebd2",
   "metadata": {
    "jupyter": {
     "source_hidden": true
    }
   },
   "outputs": [
    {
     "name": "stderr",
     "output_type": "stream",
     "text": [
      "A.L.E: Arcade Learning Environment (version 0.8.1+53f58b7)\n",
      "[Powered by Stella]A.L.E: Arcade Learning Environment (version 0.8.1+53f58b7)\n",
      "[Powered by Stella]\n",
      "\n",
      "A.L.E: Arcade Learning Environment (version 0.8.1+53f58b7)\n",
      "[Powered by Stella]\n",
      "A.L.E: Arcade Learning Environment (version 0.8.1+53f58b7)\n",
      "[Powered by Stella]\n",
      "A.L.E: Arcade Learning Environment (version 0.8.1+53f58b7)\n",
      "[Powered by Stella]\n",
      "A.L.E: Arcade Learning Environment (version 0.8.1+53f58b7)\n",
      "[Powered by Stella]\n",
      "A.L.E: Arcade Learning Environment (version 0.8.1+53f58b7)\n",
      "[Powered by Stella]\n",
      "A.L.E: Arcade Learning Environment (version 0.8.1+53f58b7)\n",
      "[Powered by Stella]\n",
      "A.L.E: Arcade Learning Environment (version 0.8.1+53f58b7)\n",
      "[Powered by Stella]\n",
      "A.L.E: Arcade Learning Environment (version 0.8.1+53f58b7)\n",
      "[Powered by Stella]\n",
      "A.L.E: Arcade Learning Environment (version 0.8.1+53f58b7)\n",
      "[Powered by Stella]\n",
      "A.L.E: Arcade Learning Environment (version 0.8.1+53f58b7)\n",
      "[Powered by Stella]\n",
      "A.L.E: Arcade Learning Environment (version 0.8.1+53f58b7)\n",
      "[Powered by Stella]\n",
      "A.L.E: Arcade Learning Environment (version 0.8.1+53f58b7)\n",
      "[Powered by Stella]A.L.E: Arcade Learning Environment (version 0.8.1+53f58b7)\n",
      "[Powered by Stella]\n",
      "\n"
     ]
    }
   ],
   "source": [
    "# Get name of experiments (agents)\n",
    "env_id = \"BreakoutNoFrameskip-v4\"\n",
    "exp_param_type = \"compress\"\n",
    "exp_param_value_LIST = [0.0, 0.1, 0.2, 0.3, 0.4]\n",
    "\n",
    "exp_name_LIST = []\n",
    "for exp_param_value in exp_param_value_LIST:\n",
    "    # Get names and tags of experiment\n",
    "    exp_name, exp_metaname, exp_tag = get_exp_name_tag(env_id, exp_param_type, exp_param_value)\n",
    "    exp_name_LIST.append(exp_name)\n",
    "\n",
    "# Evaluation environment parameters\n",
    "eval_param_value_LIST = [0.0, 0.1, 0.2, 0.3, 0.4]\n",
    "\n",
    "# Types of models\n",
    "model_type_LIST = [\"best\", \"last\"]\n",
    "\n",
    "\n",
    "kwargs={#'exp_name':exp_name,\n",
    "        # 'model_type':model_type,\n",
    "        'algorithm':A2C,\n",
    "        'n_envs':5, \n",
    "        'seed':271828, \n",
    "        # 'eval_param_value':eval_param_value,\n",
    "        'NUM_EPISODES':3, \n",
    "        'savefig':True}\n",
    "\n",
    "# Create a multiprocessing pool\n",
    "pool = multiprocessing.Pool(15) \n",
    "   \n",
    "arglist = [(exp_name, model_type, eval_param_value, kwargs) for eval_param_value in eval_param_value_LIST for model_type in model_type_LIST for exp_name in exp_name_LIST]\n",
    "# print(arglist)\n",
    "results = pool.map(parallel_wrapper, arglist)\n",
    "# print(results)"
   ]
  },
  {
   "cell_type": "code",
   "execution_count": 6,
   "id": "24c9dbe8-2db5-4be0-b1ff-fd0bd0000fc4",
   "metadata": {
    "jupyter": {
     "source_hidden": true
    }
   },
   "outputs": [
    {
     "data": {
      "text/plain": [
       "50"
      ]
     },
     "execution_count": 6,
     "metadata": {},
     "output_type": "execute_result"
    }
   ],
   "source": [
    "len(arglist)"
   ]
  },
  {
   "cell_type": "code",
   "execution_count": 7,
   "id": "55b971f4-822a-4e2d-aa75-9979d23860b7",
   "metadata": {
    "jupyter": {
     "source_hidden": true
    }
   },
   "outputs": [
    {
     "data": {
      "text/plain": [
       "50"
      ]
     },
     "execution_count": 7,
     "metadata": {},
     "output_type": "execute_result"
    }
   ],
   "source": [
    "len(results)"
   ]
  },
  {
   "cell_type": "code",
   "execution_count": 8,
   "id": "4e8caad9-b162-4bb1-ab3e-c7de239fd249",
   "metadata": {
    "jupyter": {
     "source_hidden": true
    }
   },
   "outputs": [],
   "source": [
    "# 90% GPU max, 55GB GPU max, 10% CPU max - 15 workers * 5env/worker"
   ]
  }
 ],
 "metadata": {
  "kernelspec": {
   "display_name": "Python 3 (ipykernel)",
   "language": "python",
   "name": "python3"
  },
  "language_info": {
   "codemirror_mode": {
    "name": "ipython",
    "version": 3
   },
   "file_extension": ".py",
   "mimetype": "text/x-python",
   "name": "python",
   "nbconvert_exporter": "python",
   "pygments_lexer": "ipython3",
   "version": "3.10.6"
  }
 },
 "nbformat": 4,
 "nbformat_minor": 5
}
