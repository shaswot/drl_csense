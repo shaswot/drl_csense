{
 "cells": [
  {
   "cell_type": "code",
   "execution_count": 1,
   "id": "a18a9033-e734-4ec5-b921-9fc2f73192fa",
   "metadata": {},
   "outputs": [],
   "source": [
    "exp_no = 0\n",
    "gpu_id = 7\n",
    "\n",
    "import torch\n",
    "torch.cuda.set_device(gpu_id)"
   ]
  },
  {
   "cell_type": "code",
   "execution_count": 2,
   "id": "0a03fed9-fbff-4d45-af9c-eac42e673735",
   "metadata": {},
   "outputs": [
    {
     "name": "stdout",
     "output_type": "stream",
     "text": [
      "Project Root Directory: /repos/drl_csense\n"
     ]
    }
   ],
   "source": [
    "import os\n",
    "import sys\n",
    "import git\n",
    "import pathlib\n",
    "\n",
    "os.environ['TF_CPP_MIN_LOG_LEVEL'] = '3' \n",
    "\n",
    "PROJ_ROOT_PATH = pathlib.Path(git.Repo('.', search_parent_directories=True).working_tree_dir)\n",
    "PROJ_ROOT =  str(PROJ_ROOT_PATH)\n",
    "if PROJ_ROOT not in sys.path:\n",
    "    sys.path.append(PROJ_ROOT)\n",
    "\n",
    "print(f\"Project Root Directory: {PROJ_ROOT}\")"
   ]
  },
  {
   "cell_type": "code",
   "execution_count": 3,
   "id": "7deb4afb-5d03-4163-b3ce-1c61af4f9b64",
   "metadata": {},
   "outputs": [],
   "source": [
    "import numpy as np\n",
    "import matplotlib.pyplot as plt"
   ]
  },
  {
   "cell_type": "code",
   "execution_count": 4,
   "id": "c600a96b-8068-4057-adc7-1fde3ce30389",
   "metadata": {},
   "outputs": [],
   "source": [
    "import gymnasium as gym"
   ]
  },
  {
   "cell_type": "code",
   "execution_count": 5,
   "id": "344fcd4e-d861-4b3e-9a5a-53cc08d5bbb3",
   "metadata": {},
   "outputs": [],
   "source": [
    "from lib.folder_paths import get_logging_dir\n",
    "from lib.env_utils import AtariWrapper_NoisyFrame, AtariWrapper_Compressed, make_atari_env_Custom_VecFrameStack"
   ]
  },
  {
   "cell_type": "code",
   "execution_count": 6,
   "id": "a1f8a324-0040-455a-ba18-57c9acc2c46b",
   "metadata": {},
   "outputs": [],
   "source": [
    "from lib.folder_paths import get_exp_name_tag, deconstruct_exp_name"
   ]
  },
  {
   "cell_type": "code",
   "execution_count": 7,
   "id": "67d23236-e009-41e7-a078-870b4201e395",
   "metadata": {},
   "outputs": [],
   "source": [
    "env_id = \"BreakoutNoFrameskip-v4\"\n",
    "\n",
    "# exp_param_type = \"compress\" \n",
    "exp_param_type = \"noisy\"\n",
    "\n",
    "exp_param_value = 0.5\n",
    "\n",
    "# Get names and tags of experiment\n",
    "exp_name, exp_metaname, exp_tag = get_exp_name_tag(env_id, exp_param_type, exp_param_value)"
   ]
  },
  {
   "cell_type": "code",
   "execution_count": 8,
   "id": "e3f6af8d-b98a-4d5d-99fe-77bcc18dcc86",
   "metadata": {},
   "outputs": [],
   "source": [
    "# Get directories\n",
    "models_dir, log_dir, gif_dir, image_dir = get_logging_dir(exp_name)"
   ]
  },
  {
   "cell_type": "code",
   "execution_count": 9,
   "id": "5967d71b-c5c7-4171-8f6c-edb0a3e47441",
   "metadata": {},
   "outputs": [],
   "source": [
    "NUM_ENVS = 1\n",
    "mother_seed = 2023"
   ]
  },
  {
   "cell_type": "code",
   "execution_count": 10,
   "id": "8e2fe3f8-0b2c-483d-be62-e0c7a0320ac7",
   "metadata": {},
   "outputs": [
    {
     "name": "stderr",
     "output_type": "stream",
     "text": [
      "A.L.E: Arcade Learning Environment (version 0.8.1+53f58b7)\n",
      "[Powered by Stella]\n"
     ]
    }
   ],
   "source": [
    "# Make vector environment\n",
    "if exp_param_type == \"compress\":\n",
    "    wrapper = AtariWrapper_Compressed\n",
    "    wrapper_kwargs = {\"compress_ratio\":exp_param_value}\n",
    "elif exp_param_type == \"noisy\":\n",
    "    wrapper = AtariWrapper_NoisyFrame\n",
    "    wrapper_kwargs = {\"noise\":exp_param_value}\n",
    "else:\n",
    "    wrapper = AtariWrapper\n",
    "    wrapper_kwargs = None\n",
    "\n",
    "env = make_atari_env_Custom_VecFrameStack(env_id,\n",
    "                                        n_envs=NUM_ENVS,\n",
    "                                        seed=mother_seed+exp_no,\n",
    "                                        wrapper_class=wrapper,\n",
    "                                        wrapper_kwargs = wrapper_kwargs\n",
    "                                         )"
   ]
  },
  {
   "cell_type": "code",
   "execution_count": 11,
   "id": "1c39a169-9062-4043-a6aa-bf813e361fc1",
   "metadata": {},
   "outputs": [
    {
     "name": "stderr",
     "output_type": "stream",
     "text": [
      "/usr/local/lib/python3.10/dist-packages/gymnasium/utils/passive_env_checker.py:364: UserWarning: \u001b[33mWARN: No render fps was declared in the environment (env.metadata['render_fps'] is None or not defined), rendering may occur at inconsistent fps.\u001b[0m\n",
      "  logger.warn(\n"
     ]
    },
    {
     "data": {
      "text/plain": [
       "<matplotlib.image.AxesImage at 0x7ff32180e2f0>"
      ]
     },
     "execution_count": 11,
     "metadata": {},
     "output_type": "execute_result"
    },
    {
     "data": {
      "image/png": "[encoded data removed]",
      "text/plain": [
       "<Figure size 640x480 with 1 Axes>"
      ]
     },
     "metadata": {},
     "output_type": "display_data"
    },
    {
     "data": {
      "image/png": "[encoded data removed]",
      "text/plain": [
       "<Figure size 640x480 with 1 Axes>"
      ]
     },
     "metadata": {},
     "output_type": "display_data"
    }
   ],
   "source": [
    "images = []\n",
    "obss = []\n",
    "obs = env.reset()\n",
    "img = env.render(mode=\"rgb_array\")\n",
    "# for i in range(no_of_frames):\n",
    "# images.append(img)\n",
    "# obss.append(obs)\n",
    "# # action, _ = model.predict(obs)\n",
    "action = env.action_space.sample() \n",
    "obs, reward, done, info = env.step([action])\n",
    "img = env.render(mode=\"rgb_array\")\n",
    "\n",
    "plt.figure(0)\n",
    "plt.imshow(img)\n",
    "\n",
    "plt.figure(1)\n",
    "plt.imshow(obs[0,:,:,-1], cmap=\"gray\")"
   ]
  },
  {
   "cell_type": "code",
   "execution_count": null,
   "id": "761edae1-8b4d-4e01-82e6-bbe39727cc6b",
   "metadata": {},
   "outputs": [],
   "source": [
    "import datetime"
   ]
  },
  {
   "cell_type": "code",
   "execution_count": 29,
   "id": "5f836f96-aadd-45d6-a728-b6556b17aba3",
   "metadata": {},
   "outputs": [],
   "source": [
    "now = datetime.datetime.now()"
   ]
  },
  {
   "cell_type": "code",
   "execution_count": 30,
   "id": "f402dd71-7b3d-432e-9c21-5eac67a2fd5f",
   "metadata": {},
   "outputs": [],
   "source": [
    "end = datetime.datetime.now()"
   ]
  },
  {
   "cell_type": "code",
   "execution_count": 31,
   "id": "e4cb6add-093e-49da-8cbd-4e52dfbf4939",
   "metadata": {},
   "outputs": [
    {
     "ename": "AttributeError",
     "evalue": "'datetime.timedelta' object has no attribute 'strftime'",
     "output_type": "error",
     "traceback": [
      "\u001b[0;31m---------------------------------------------------------------------------\u001b[0m",
      "\u001b[0;31mAttributeError\u001b[0m                            Traceback (most recent call last)",
      "Cell \u001b[0;32mIn[31], line 3\u001b[0m\n\u001b[1;32m      1\u001b[0m end \u001b[38;5;241m=\u001b[39m datetime\u001b[38;5;241m.\u001b[39mdatetime\u001b[38;5;241m.\u001b[39mnow()\n\u001b[1;32m      2\u001b[0m runtime \u001b[38;5;241m=\u001b[39m end \u001b[38;5;241m-\u001b[39m now\n\u001b[0;32m----> 3\u001b[0m \u001b[38;5;28mprint\u001b[39m(\u001b[38;5;124mf\u001b[39m\u001b[38;5;124m\"\u001b[39m\u001b[38;5;124mExperiment Finished. Runtime: \u001b[39m\u001b[38;5;132;01m{\u001b[39;00m\u001b[43mruntime\u001b[49m\u001b[38;5;241;43m.\u001b[39;49m\u001b[43mstrftime\u001b[49m(\u001b[38;5;124m'\u001b[39m\u001b[38;5;124m%\u001b[39m\u001b[38;5;124mH:\u001b[39m\u001b[38;5;124m%\u001b[39m\u001b[38;5;124mM:\u001b[39m\u001b[38;5;124m%\u001b[39m\u001b[38;5;124mS\u001b[39m\u001b[38;5;124m'\u001b[39m)\u001b[38;5;132;01m}\u001b[39;00m\u001b[38;5;124m\"\u001b[39m)\n",
      "\u001b[0;31mAttributeError\u001b[0m: 'datetime.timedelta' object has no attribute 'strftime'"
     ]
    }
   ],
   "source": [
    "end = datetime.datetime.now()\n",
    "runtime = end - now\n",
    "print(f\"Experiment Finished. Runtime: {runtime)}\")"
   ]
  },
  {
   "cell_type": "code",
   "execution_count": null,
   "id": "6f10e27e-ee4a-47f4-b0f1-0fbb9cd8709c",
   "metadata": {},
   "outputs": [],
   "source": []
  }
 ],
 "metadata": {
  "kernelspec": {
   "display_name": "Python 3 (ipykernel)",
   "language": "python",
   "name": "python3"
  },
  "language_info": {
   "codemirror_mode": {
    "name": "ipython",
    "version": 3
   },
   "file_extension": ".py",
   "mimetype": "text/x-python",
   "name": "python",
   "nbconvert_exporter": "python",
   "pygments_lexer": "ipython3",
   "version": "3.10.6"
  }
 },
 "nbformat": 4,
 "nbformat_minor": 5
}
