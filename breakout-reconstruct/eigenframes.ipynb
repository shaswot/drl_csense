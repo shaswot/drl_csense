{
 "cells": [
  {
   "cell_type": "code",
   "execution_count": 1,
   "id": "47a39ef1-e62f-4404-afe8-a5e40affb4ae",
   "metadata": {},
   "outputs": [
    {
     "name": "stdout",
     "output_type": "stream",
     "text": [
      "Project Root Directory: /repos/drl_csense\n"
     ]
    }
   ],
   "source": [
    "import os\n",
    "import sys\n",
    "import git\n",
    "import pathlib\n",
    "\n",
    "os.environ['TF_CPP_MIN_LOG_LEVEL'] = '3' \n",
    "\n",
    "PROJ_ROOT_PATH = pathlib.Path(git.Repo('.', search_parent_directories=True).working_tree_dir)\n",
    "PROJ_ROOT =  str(PROJ_ROOT_PATH)\n",
    "if PROJ_ROOT not in sys.path:\n",
    "    sys.path.append(PROJ_ROOT)\n",
    "\n",
    "print(f\"Project Root Directory: {PROJ_ROOT}\")"
   ]
  },
  {
   "cell_type": "code",
   "execution_count": 2,
   "id": "02ff9539-8942-4bb0-88a7-7a1c82c9973a",
   "metadata": {},
   "outputs": [],
   "source": [
    "import numpy as np\n",
    "import matplotlib.pyplot as plt\n",
    "import imageio"
   ]
  },
  {
   "cell_type": "code",
   "execution_count": 3,
   "id": "d2605d88-ad9d-4035-bfa7-945aa3354f1f",
   "metadata": {},
   "outputs": [],
   "source": [
    "from lib.folder_paths import makeget_logging_dir, get_exp_name_tag"
   ]
  },
  {
   "cell_type": "code",
   "execution_count": 4,
   "id": "8dfb0497-b99c-43e1-ab6c-5569db339b2c",
   "metadata": {},
   "outputs": [],
   "source": [
    "def myimshow(frame):\n",
    "    plt.figure()\n",
    "    plt.imshow(frame, cmap=\"gray\")\n",
    "    plt.axis(\"off\")"
   ]
  },
  {
   "cell_type": "code",
   "execution_count": 5,
   "id": "ed1ef38f-8978-41e3-8df0-fe9038e53531",
   "metadata": {},
   "outputs": [],
   "source": [
    "env_id = \"BreakoutNoFrameskip-v4\"\n",
    "exp_param_type = \"noisy\"\n",
    "exp_param_value = 0.0\n",
    "run_no = 0\n",
    "model_type = \"best\"\n",
    "eval_param_type = exp_param_type"
   ]
  },
  {
   "cell_type": "code",
   "execution_count": 155,
   "id": "6697f1ac-eb74-4338-888b-43046772b70c",
   "metadata": {},
   "outputs": [],
   "source": [
    "eval_param_value = 0.0\n",
    "\n",
    "# Get names and tags of experiment\n",
    "exp_name, exp_metaname, exp_tag = get_exp_name_tag(env_id, exp_param_type, exp_param_value)\n",
    "\n",
    "# Get directories\n",
    "models_dir, log_dir, gif_dir, image_dir = makeget_logging_dir(exp_name)\n",
    "\n",
    "# Load gif file\n",
    "obs_gif_file = f\"{gif_dir}/{exp_name}-run_{run_no}--eval_{model_type}-{eval_param_type}_{eval_param_value}--obs.gif\"\n",
    "\n",
    "obs_gif_frames = imageio.mimread(obs_gif_file)"
   ]
  },
  {
   "cell_type": "code",
   "execution_count": 156,
   "id": "c4da7a7b-6a75-4a15-ae75-70959eeabd98",
   "metadata": {},
   "outputs": [],
   "source": [
    "obs_gif_frames_np = np.array(obs_gif_frames)[:,:,:,1]"
   ]
  },
  {
   "cell_type": "code",
   "execution_count": 157,
   "id": "f143a898-59c5-46ee-8d6c-dfea57ee0f9b",
   "metadata": {},
   "outputs": [
    {
     "data": {
      "text/plain": [
       "(1198, 84, 84)"
      ]
     },
     "execution_count": 157,
     "metadata": {},
     "output_type": "execute_result"
    }
   ],
   "source": [
    "obs_gif_frames_np.shape"
   ]
  },
  {
   "cell_type": "code",
   "execution_count": 158,
   "id": "9fe8d693-2680-458c-ba92-194cc85b1407",
   "metadata": {},
   "outputs": [
    {
     "data": {
      "image/png": "[encoded data removed]",
      "text/plain": [
       "<Figure size 640x480 with 1 Axes>"
      ]
     },
     "metadata": {},
     "output_type": "display_data"
    }
   ],
   "source": [
    "myimshow(obs_gif_frames_np[0,:,:])"
   ]
  },
  {
   "cell_type": "code",
   "execution_count": 228,
   "id": "0cf63482-f643-45c4-81ce-efdf17fcda53",
   "metadata": {},
   "outputs": [],
   "source": [
    "no_of_training_frames = 30\n",
    "idxs = np.arange(0,obs_gif_frames_np.shape[0])\n",
    "np.random.shuffle(idxs)\n",
    "frame_idxs = idxs[:no_of_training_frames]"
   ]
  },
  {
   "cell_type": "code",
   "execution_count": 229,
   "id": "8c1fcf2a-c8dd-4eb6-959b-c9a95725a594",
   "metadata": {},
   "outputs": [],
   "source": [
    "np.sort(frame_idxs);"
   ]
  },
  {
   "cell_type": "code",
   "execution_count": 230,
   "id": "08468580-5c89-48b8-978c-67daf304b4b2",
   "metadata": {},
   "outputs": [],
   "source": [
    "training_frames = obs_gif_frames_np[frame_idxs,:,:]"
   ]
  },
  {
   "cell_type": "code",
   "execution_count": 231,
   "id": "921d6870-30a9-4b25-ba67-2dde25cf74ca",
   "metadata": {},
   "outputs": [
    {
     "data": {
      "text/plain": [
       "(30, 84, 84)"
      ]
     },
     "execution_count": 231,
     "metadata": {},
     "output_type": "execute_result"
    }
   ],
   "source": [
    "training_frames.shape"
   ]
  },
  {
   "cell_type": "code",
   "execution_count": 232,
   "id": "358a2ec1-a7b7-4f85-b29a-3ab763524eac",
   "metadata": {},
   "outputs": [],
   "source": [
    "training_frames_flat = training_frames.reshape(no_of_training_frames,-1).T"
   ]
  },
  {
   "cell_type": "code",
   "execution_count": 233,
   "id": "a85ad878-4cbb-44f0-91ea-2aa7ccc326a3",
   "metadata": {},
   "outputs": [
    {
     "data": {
      "text/plain": [
       "(7056, 30)"
      ]
     },
     "execution_count": 233,
     "metadata": {},
     "output_type": "execute_result"
    }
   ],
   "source": [
    "training_frames_flat.shape"
   ]
  },
  {
   "cell_type": "code",
   "execution_count": 234,
   "id": "2d8fe020-d3fe-49b5-b8de-723f568bd750",
   "metadata": {},
   "outputs": [],
   "source": [
    "avgFrame = np.mean(training_frames_flat,axis=1).reshape(-1,1)"
   ]
  },
  {
   "cell_type": "code",
   "execution_count": 235,
   "id": "7a6bdb52-5df4-45e9-ba88-7da927be0a25",
   "metadata": {},
   "outputs": [
    {
     "data": {
      "text/plain": [
       "(7056, 1)"
      ]
     },
     "execution_count": 235,
     "metadata": {},
     "output_type": "execute_result"
    }
   ],
   "source": [
    "avgFrame.shape"
   ]
  },
  {
   "cell_type": "code",
   "execution_count": 236,
   "id": "fbef2f1a-efc7-4087-8bf3-a6114591d3e8",
   "metadata": {},
   "outputs": [
    {
     "data": {
      "image/png": "[encoded data removed]",
      "text/plain": [
       "<Figure size 640x480 with 1 Axes>"
      ]
     },
     "metadata": {},
     "output_type": "display_data"
    }
   ],
   "source": [
    "myimshow(avgFrame.reshape(84,84))"
   ]
  },
  {
   "cell_type": "code",
   "execution_count": 237,
   "id": "f784c540-07e6-4116-9567-4fa505fbffbd",
   "metadata": {},
   "outputs": [],
   "source": [
    "X = training_frames_flat - avgFrame"
   ]
  },
  {
   "cell_type": "code",
   "execution_count": 238,
   "id": "3ef6509d-12fc-4072-9ac9-e8b844c3f23b",
   "metadata": {},
   "outputs": [],
   "source": [
    "U, S, VT = np.linalg.svd(X,full_matrices=0)"
   ]
  },
  {
   "cell_type": "code",
   "execution_count": 239,
   "id": "b4f97696-50d5-44ad-a179-0ed3e3a85544",
   "metadata": {},
   "outputs": [
    {
     "data": {
      "image/png": "[encoded data removed]",
      "text/plain": [
       "<Figure size 640x480 with 1 Axes>"
      ]
     },
     "metadata": {},
     "output_type": "display_data"
    }
   ],
   "source": [
    "myimshow(U[:,3].reshape(84,84))"
   ]
  },
  {
   "cell_type": "code",
   "execution_count": null,
   "id": "7e6fbf8e-8f87-4eff-bccb-429d62080afc",
   "metadata": {},
   "outputs": [],
   "source": []
  },
  {
   "cell_type": "code",
   "execution_count": 240,
   "id": "a5a94df2-52d9-447c-b478-ff311dcd04c6",
   "metadata": {},
   "outputs": [],
   "source": [
    "test_frame = obs_gif_frames_np[0,:,:].reshape(-1,1)"
   ]
  },
  {
   "cell_type": "code",
   "execution_count": 246,
   "id": "587fac40-6517-4243-bcf5-6a016ad4b5cd",
   "metadata": {},
   "outputs": [
    {
     "data": {
      "image/png": "[encoded data removed]",
      "text/plain": [
       "<Figure size 640x480 with 1 Axes>"
      ]
     },
     "metadata": {},
     "output_type": "display_data"
    }
   ],
   "source": [
    "myimshow(test_frame.reshape(84,84))"
   ]
  },
  {
   "cell_type": "code",
   "execution_count": 241,
   "id": "9a3a59ea-5ee9-4abc-9353-64205610de20",
   "metadata": {},
   "outputs": [],
   "source": [
    "test_frame_MS = test_frame - avgFrame"
   ]
  },
  {
   "cell_type": "code",
   "execution_count": 242,
   "id": "5a900818-fda9-4866-ab59-cbd4051c8d16",
   "metadata": {},
   "outputs": [],
   "source": [
    "r = 1"
   ]
  },
  {
   "cell_type": "code",
   "execution_count": 243,
   "id": "334112d3-9aa0-48f4-9c5a-2e7f3cca58a5",
   "metadata": {},
   "outputs": [],
   "source": [
    "# temp = U[:,:r].T @ test_frame_MS\n",
    "recon_frame = avgFrame + U[:,:r] @ U[:,:r].T @ test_frame_MS"
   ]
  },
  {
   "cell_type": "code",
   "execution_count": 244,
   "id": "7c76854d-3b1e-426b-ac7c-48314158def3",
   "metadata": {},
   "outputs": [
    {
     "data": {
      "image/png": "[encoded data removed]",
      "text/plain": [
       "<Figure size 640x480 with 1 Axes>"
      ]
     },
     "metadata": {},
     "output_type": "display_data"
    }
   ],
   "source": [
    "myimshow(recon_frame.reshape(84,84))"
   ]
  },
  {
   "cell_type": "code",
   "execution_count": null,
   "id": "49a6dbc4-7c37-415a-bdfb-d3087337f592",
   "metadata": {},
   "outputs": [],
   "source": []
  }
 ],
 "metadata": {
  "kernelspec": {
   "display_name": "Python 3 (ipykernel)",
   "language": "python",
   "name": "python3"
  },
  "language_info": {
   "codemirror_mode": {
    "name": "ipython",
    "version": 3
   },
   "file_extension": ".py",
   "mimetype": "text/x-python",
   "name": "python",
   "nbconvert_exporter": "python",
   "pygments_lexer": "ipython3",
   "version": "3.10.6"
  }
 },
 "nbformat": 4,
 "nbformat_minor": 5
}
