{
 "cells": [
  {
   "cell_type": "code",
   "execution_count": 1,
   "id": "78227cbe-c642-448b-b484-c04a79ba2e0a",
   "metadata": {},
   "outputs": [
    {
     "name": "stdout",
     "output_type": "stream",
     "text": [
      "Project Root Directory: /repos/drl_csense\n"
     ]
    }
   ],
   "source": [
    "import os\n",
    "import sys\n",
    "import git\n",
    "import pathlib\n",
    "\n",
    "os.environ['TF_CPP_MIN_LOG_LEVEL'] = '3' \n",
    "\n",
    "PROJ_ROOT_PATH = pathlib.Path(git.Repo('.', search_parent_directories=True).working_tree_dir)\n",
    "PROJ_ROOT =  str(PROJ_ROOT_PATH)\n",
    "if PROJ_ROOT not in sys.path:\n",
    "    sys.path.append(PROJ_ROOT)\n",
    "\n",
    "print(f\"Project Root Directory: {PROJ_ROOT}\")"
   ]
  },
  {
   "cell_type": "code",
   "execution_count": 2,
   "id": "f61d4a1e-1ee5-446d-9b0f-54f788b11e3a",
   "metadata": {},
   "outputs": [],
   "source": [
    "import numpy as np\n",
    "import matplotlib.pyplot as plt"
   ]
  },
  {
   "cell_type": "code",
   "execution_count": 3,
   "id": "c14f080d-b76d-4c82-8bc7-506b2adf6fdb",
   "metadata": {},
   "outputs": [],
   "source": [
    "import scipy.fftpack as spfft\n",
    "from sklearn.linear_model import Lasso"
   ]
  },
  {
   "cell_type": "code",
   "execution_count": 4,
   "id": "3b641bf0-c659-4876-94cb-1e7075210a98",
   "metadata": {},
   "outputs": [],
   "source": [
    "import gymnasium as gym"
   ]
  },
  {
   "cell_type": "code",
   "execution_count": 5,
   "id": "65b8967e-fd28-44ea-8652-c079375395ae",
   "metadata": {},
   "outputs": [],
   "source": [
    "from lib.folder_paths import makeget_logging_dir\n",
    "from lib.env_utils import AtariWrapper_NoisyFrame, AtariWrapper_Compressed, make_atari_env_Custom_VecFrameStack"
   ]
  },
  {
   "cell_type": "code",
   "execution_count": 6,
   "id": "0bde5280-3222-4289-a36b-2394b3c77718",
   "metadata": {},
   "outputs": [],
   "source": [
    "from lib.folder_paths import get_exp_name_tag, deconstruct_exp_name"
   ]
  },
  {
   "cell_type": "code",
   "execution_count": 7,
   "id": "58f8c7f8-c2c6-4b8c-a633-0529bf6f5b2c",
   "metadata": {},
   "outputs": [],
   "source": [
    "import imageio\n",
    "import ipyplot"
   ]
  },
  {
   "cell_type": "code",
   "execution_count": 8,
   "id": "c82b823c-1390-4f44-b6a4-d13ee4416edd",
   "metadata": {},
   "outputs": [],
   "source": [
    "def idct2(x):\n",
    "        return spfft.idct(spfft.idct(x.T, norm='ortho', axis=0).T, norm='ortho', axis=0)\n",
    "nx = 84\n",
    "ny = 84\n",
    "A = np.kron(\n",
    "    spfft.idct(np.identity(nx), norm='ortho', axis=0),\n",
    "    spfft.idct(np.identity(ny), norm='ortho', axis=0)\n",
    "    )"
   ]
  },
  {
   "cell_type": "code",
   "execution_count": 9,
   "id": "91026d3c-b2aa-4fb2-b319-ea55d046b0e5",
   "metadata": {},
   "outputs": [],
   "source": [
    "def reconstruct_frame(frame, alpha, max_iter):\n",
    "    flat_frame = frame.T.reshape(-1,1)\n",
    "    idx_nonzero = np.where(flat_frame != 0)[0]\n",
    "\n",
    "    # compressed sample\n",
    "    b = flat_frame[idx_nonzero]\n",
    "    # compression matrix @ transform matrix\n",
    "    Ac = A[idx_nonzero,:]\n",
    "\n",
    "    # LASSO optimization\n",
    "    lasso = Lasso(alpha=alpha, max_iter=int(max_iter), warm_start=True, selection=\"random\")\n",
    "    lasso.fit(Ac, b)\n",
    "\n",
    "    # Reconstruct frame\n",
    "    Xat = np.array(lasso.coef_).reshape(nx, ny).T # stack columns\n",
    "\n",
    "    # Get the reconstructed frame\n",
    "    Xa = idct2(Xat)\n",
    "\n",
    "    return Xa"
   ]
  },
  {
   "cell_type": "code",
   "execution_count": 10,
   "id": "482bc0f5-82ed-4b83-8504-1b8278992826",
   "metadata": {},
   "outputs": [],
   "source": [
    "env_id = \"BreakoutNoFrameskip-v4\"\n",
    "exp_param_type = \"noisy\"\n",
    "exp_param_value = 0.0\n",
    "run_no = 0\n",
    "model_type = \"best\"\n",
    "eval_param_type = exp_param_type"
   ]
  },
  {
   "cell_type": "code",
   "execution_count": 11,
   "id": "7b759189-3e24-4c0a-9057-e1e5436fdffa",
   "metadata": {},
   "outputs": [],
   "source": [
    "# eval_param_value = 0.3\n",
    "\n",
    "# # Get names and tags of experiment\n",
    "# exp_name, exp_metaname, exp_tag = get_exp_name_tag(env_id, exp_param_type, exp_param_value)\n",
    "\n",
    "# # Get directories\n",
    "# models_dir, log_dir, gif_dir, image_dir = makeget_logging_dir(exp_name)\n",
    "\n",
    "# # Load gif file\n",
    "# obs_gif_file = f\"{gif_dir}/{exp_name}-run_{run_no}--eval_{model_type}-{eval_param_type}_{eval_param_value}--obs.gif\"\n",
    "\n",
    "# obs_gif_frames = imageio.mimread(obs_gif_file)\n",
    "\n",
    "# frame_no = 12\n",
    "# gif_frame = obs_gif_frames[frame_no]\n",
    "\n",
    "# frame = gif_frame[:,:,0]/255\n",
    "\n",
    "# plt.imshow(frame, cmap=\"gray\")\n",
    "# plt.axis(\"off\")\n",
    "\n",
    "# for i,alpha in enumerate([1E-5, 1E-6, 1E-7]):\n",
    "#     reconstructed_frame = reconstruct_frame(frame, alpha=alpha, max_iter=1E4)\n",
    "#     plt.figure(i)\n",
    "#     plt.title(f\"{alpha=}\")\n",
    "#     plt.axis(\"off\")\n",
    "#     plt.imshow(reconstructed_frame,cmap=\"gray\")"
   ]
  },
  {
   "cell_type": "code",
   "execution_count": null,
   "id": "9c91540b-e6a8-4d1a-a189-e8524501a5aa",
   "metadata": {},
   "outputs": [],
   "source": []
  },
  {
   "cell_type": "code",
   "execution_count": null,
   "id": "e3187961-1252-41b1-95d8-cd42062eb0fe",
   "metadata": {},
   "outputs": [],
   "source": []
  },
  {
   "cell_type": "code",
   "execution_count": 14,
   "id": "5e7b8911-5dbc-4207-a756-0bfdb40361cd",
   "metadata": {},
   "outputs": [
    {
     "name": "stdout",
     "output_type": "stream",
     "text": [
      "\n",
      "eval_param_value=0.4\n",
      "Processing Frame: 49\u001b[1K\n",
      "eval_param_value=0.3\n",
      "Processing Frame: 49\u001b[1K\n",
      "eval_param_value=0.2\n",
      "Processing Frame: 49\u001b[1K\n",
      "eval_param_value=0.1\n",
      "Processing Frame: 49\u001b[1K\n",
      "eval_param_value=0.0\n",
      "Processing Frame: 49\u001b[1K\r"
     ]
    }
   ],
   "source": [
    "# eval_param_value = 0.3\n",
    "for eval_param_value in reversed([0.0,0.1,0.2, 0.3, 0.4]):\n",
    "    alpha = 1E-5\n",
    "    print()\n",
    "    print(f\"{eval_param_value=}\")\n",
    "    # Get names and tags of experiment\n",
    "    exp_name, exp_metaname, exp_tag = get_exp_name_tag(env_id, exp_param_type, exp_param_value)\n",
    "    \n",
    "    # Get directories\n",
    "    models_dir, log_dir, gif_dir, image_dir = makeget_logging_dir(exp_name)\n",
    "    \n",
    "    # Load gif file\n",
    "    obs_gif_file = f\"{gif_dir}/{exp_name}-run_{run_no}--eval_{model_type}-{eval_param_type}_{eval_param_value}--obs.gif\"\n",
    "    \n",
    "    obs_gif_frames = imageio.mimread(obs_gif_file)\n",
    "    \n",
    "    reconstructed_frame_list = []\n",
    "    for i,gif_frame in enumerate(obs_gif_frames[:50]):\n",
    "        print(f\"Processing Frame: {i}\", end='\\x1b[1K\\r')\n",
    "        # Take only one of the layers and normalize\n",
    "        frame = gif_frame[:,:,0]/255\n",
    "        reconstructed_frame = reconstruct_frame(frame, alpha=alpha, max_iter=1E4)\n",
    "        reconstructed_frame = 255 * (reconstructed_frame - np.min(reconstructed_frame))/(np.max(reconstructed_frame) - np.min(reconstructed_frame))\n",
    "        reconstructed_frame_list.append(reconstructed_frame)\n",
    "        # reconstructed_frame_list.append(frame*255)\n",
    "        \n",
    "    \n",
    "    # Convert obss to animation\n",
    "    reconstructed_gif_file = f\"{eval_param_type}_{eval_param_value}--reconstructed-alpha_1e-5.gif\"\n",
    "    imageio.mimsave(reconstructed_gif_file, \n",
    "                    [np.array(reconstructed_frame) for i, reconstructed_frame in enumerate(reconstructed_frame_list)], duration=100)"
   ]
  },
  {
   "cell_type": "code",
   "execution_count": null,
   "id": "96043c48-53af-4d13-b1d4-eaaae861db38",
   "metadata": {},
   "outputs": [],
   "source": []
  },
  {
   "cell_type": "code",
   "execution_count": null,
   "id": "0be6633b-c8ee-4bf3-87fd-7dadb620b8a5",
   "metadata": {},
   "outputs": [],
   "source": []
  },
  {
   "cell_type": "code",
   "execution_count": null,
   "id": "c3640285-d1cd-4b59-adb2-5afc3e897b30",
   "metadata": {},
   "outputs": [],
   "source": []
  }
 ],
 "metadata": {
  "kernelspec": {
   "display_name": "Python 3 (ipykernel)",
   "language": "python",
   "name": "python3"
  },
  "language_info": {
   "codemirror_mode": {
    "name": "ipython",
    "version": 3
   },
   "file_extension": ".py",
   "mimetype": "text/x-python",
   "name": "python",
   "nbconvert_exporter": "python",
   "pygments_lexer": "ipython3",
   "version": "3.10.6"
  }
 },
 "nbformat": 4,
 "nbformat_minor": 5
}
