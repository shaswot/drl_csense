{
 "cells": [
  {
   "cell_type": "code",
   "execution_count": 1,
   "id": "422ce006-e064-4cb4-8441-f75edb05c861",
   "metadata": {
    "jupyter": {
     "source_hidden": true
    }
   },
   "outputs": [
    {
     "name": "stderr",
     "output_type": "stream",
     "text": [
      "2023-06-12 16:43:15.303834: I tensorflow/core/util/port.cc:110] oneDNN custom operations are on. You may see slightly different numerical results due to floating-point round-off errors from different computation orders. To turn them off, set the environment variable `TF_ENABLE_ONEDNN_OPTS=0`.\n",
      "2023-06-12 16:43:15.350017: I tensorflow/core/platform/cpu_feature_guard.cc:182] This TensorFlow binary is optimized to use available CPU instructions in performance-critical operations.\n",
      "To enable the following instructions: AVX2 AVX512F AVX512_VNNI FMA, in other operations, rebuild TensorFlow with the appropriate compiler flags.\n",
      "2023-06-12 16:43:16.106226: W tensorflow/compiler/tf2tensorrt/utils/py_utils.cc:38] TF-TRT Warning: Could not find TensorRT\n"
     ]
    }
   ],
   "source": [
    "from stable_baselines3 import A2C\n",
    "from stable_baselines3.common.env_util import make_atari_env\n",
    "from stable_baselines3.common.vec_env import VecFrameStack"
   ]
  },
  {
   "cell_type": "code",
   "execution_count": 2,
   "id": "e2e8c5a6-6721-4234-a57d-9f2cfd57a267",
   "metadata": {},
   "outputs": [
    {
     "name": "stderr",
     "output_type": "stream",
     "text": [
      "A.L.E: Arcade Learning Environment (version 0.8.1+53f58b7)\n",
      "[Powered by Stella]\n"
     ]
    }
   ],
   "source": [
    "env_id = \"Breakout-v4\"\n",
    "gif_folder = \"logfiles/gifs/\"\n",
    "models_folder = \"models\"\n",
    "\n",
    "# There already exists an environment generator that will make and wrap atari environments correctly.\n",
    "env = make_atari_env(env_id, n_envs=4, seed=0)\n",
    "# Stack 4 frames\n",
    "env = VecFrameStack(env, n_stack=4)"
   ]
  },
  {
   "cell_type": "code",
   "execution_count": 3,
   "id": "5d3e15c9-8686-4411-836a-c38bee3d1717",
   "metadata": {},
   "outputs": [
    {
     "name": "stdout",
     "output_type": "stream",
     "text": [
      "Using cuda device\n",
      "Wrapping the env in a VecTransposeImage.\n"
     ]
    },
    {
     "data": {
      "application/vnd.jupyter.widget-view+json": {
       "model_id": "4c40b4869dd9496495e5e543e9fba259",
       "version_major": 2,
       "version_minor": 0
      },
      "text/plain": [
       "Output()"
      ]
     },
     "metadata": {},
     "output_type": "display_data"
    },
    {
     "name": "stdout",
     "output_type": "stream",
     "text": [
      "-------------------------------------\n",
      "| rollout/              |           |\n",
      "|    ep_len_mean        | 313       |\n",
      "|    ep_rew_mean        | 2.11      |\n",
      "| time/                 |           |\n",
      "|    fps                | 197       |\n",
      "|    iterations         | 100000    |\n",
      "|    time_elapsed       | 10126     |\n",
      "|    total_timesteps    | 2000000   |\n",
      "| train/                |           |\n",
      "|    entropy_loss       | -1.54e-05 |\n",
      "|    explained_variance | -3.58e-07 |\n",
      "|    learning_rate      | 0.0007    |\n",
      "|    n_updates          | 99999     |\n",
      "|    policy_loss        | -7.08e-08 |\n",
      "|    value_loss         | 0.0226    |\n",
      "-------------------------------------\n",
      "-------------------------------------\n",
      "| rollout/              |           |\n",
      "|    ep_len_mean        | 294       |\n",
      "|    ep_rew_mean        | 1.77      |\n",
      "| time/                 |           |\n",
      "|    fps                | 200       |\n",
      "|    iterations         | 200000    |\n",
      "|    time_elapsed       | 19904     |\n",
      "|    total_timesteps    | 4000000   |\n",
      "| train/                |           |\n",
      "|    entropy_loss       | -8.37e-06 |\n",
      "|    explained_variance | 5.96e-08  |\n",
      "|    learning_rate      | 0.0007    |\n",
      "|    n_updates          | 199999    |\n",
      "|    policy_loss        | -7.59e-09 |\n",
      "|    value_loss         | 0.00956   |\n",
      "-------------------------------------\n",
      "-------------------------------------\n",
      "| rollout/              |           |\n",
      "|    ep_len_mean        | 309       |\n",
      "|    ep_rew_mean        | 2.03      |\n",
      "| time/                 |           |\n",
      "|    fps                | 202       |\n",
      "|    iterations         | 300000    |\n",
      "|    time_elapsed       | 29583     |\n",
      "|    total_timesteps    | 6000000   |\n",
      "| train/                |           |\n",
      "|    entropy_loss       | -6.09e-06 |\n",
      "|    explained_variance | 0         |\n",
      "|    learning_rate      | 0.0007    |\n",
      "|    n_updates          | 299999    |\n",
      "|    policy_loss        | -0        |\n",
      "|    value_loss         | 0.19      |\n",
      "-------------------------------------\n",
      "-------------------------------------\n",
      "| rollout/              |           |\n",
      "|    ep_len_mean        | 323       |\n",
      "|    ep_rew_mean        | 2.25      |\n",
      "| time/                 |           |\n",
      "|    fps                | 197       |\n",
      "|    iterations         | 400000    |\n",
      "|    time_elapsed       | 40510     |\n",
      "|    total_timesteps    | 8000000   |\n",
      "| train/                |           |\n",
      "|    entropy_loss       | -4.95e-06 |\n",
      "|    explained_variance | 0         |\n",
      "|    learning_rate      | 0.0007    |\n",
      "|    n_updates          | 399999    |\n",
      "|    policy_loss        | -0        |\n",
      "|    value_loss         | 0.015     |\n",
      "-------------------------------------\n",
      "------------------------------------\n",
      "| rollout/              |          |\n",
      "|    ep_len_mean        | 300      |\n",
      "|    ep_rew_mean        | 1.86     |\n",
      "| time/                 |          |\n",
      "|    fps                | 193      |\n",
      "|    iterations         | 500000   |\n",
      "|    time_elapsed       | 51608    |\n",
      "|    total_timesteps    | 10000000 |\n",
      "| train/                |          |\n",
      "|    entropy_loss       | -5e-06   |\n",
      "|    explained_variance | 0        |\n",
      "|    learning_rate      | 0.0007   |\n",
      "|    n_updates          | 499999   |\n",
      "|    policy_loss        | -0       |\n",
      "|    value_loss         | 0.2      |\n",
      "------------------------------------\n",
      "-------------------------------------\n",
      "| rollout/              |           |\n",
      "|    ep_len_mean        | 302       |\n",
      "|    ep_rew_mean        | 1.91      |\n",
      "| time/                 |           |\n",
      "|    fps                | 191       |\n",
      "|    iterations         | 600000    |\n",
      "|    time_elapsed       | 62679     |\n",
      "|    total_timesteps    | 12000000  |\n",
      "| train/                |           |\n",
      "|    entropy_loss       | -4.98e-06 |\n",
      "|    explained_variance | 0         |\n",
      "|    learning_rate      | 0.0007    |\n",
      "|    n_updates          | 599999    |\n",
      "|    policy_loss        | -0        |\n",
      "|    value_loss         | 0.0343    |\n",
      "-------------------------------------\n",
      "-------------------------------------\n",
      "| rollout/              |           |\n",
      "|    ep_len_mean        | 302       |\n",
      "|    ep_rew_mean        | 1.9       |\n",
      "| time/                 |           |\n",
      "|    fps                | 189       |\n",
      "|    iterations         | 700000    |\n",
      "|    time_elapsed       | 73746     |\n",
      "|    total_timesteps    | 14000000  |\n",
      "| train/                |           |\n",
      "|    entropy_loss       | -5.19e-06 |\n",
      "|    explained_variance | 2.38e-07  |\n",
      "|    learning_rate      | 0.0007    |\n",
      "|    n_updates          | 699999    |\n",
      "|    policy_loss        | -0        |\n",
      "|    value_loss         | 0.0547    |\n",
      "-------------------------------------\n",
      "-------------------------------------\n",
      "| rollout/              |           |\n",
      "|    ep_len_mean        | 298       |\n",
      "|    ep_rew_mean        | 1.84      |\n",
      "| time/                 |           |\n",
      "|    fps                | 188       |\n",
      "|    iterations         | 800000    |\n",
      "|    time_elapsed       | 84814     |\n",
      "|    total_timesteps    | 16000000  |\n",
      "| train/                |           |\n",
      "|    entropy_loss       | -2.91e-06 |\n",
      "|    explained_variance | -1.19e-07 |\n",
      "|    learning_rate      | 0.0007    |\n",
      "|    n_updates          | 799999    |\n",
      "|    policy_loss        | -0        |\n",
      "|    value_loss         | 0.241     |\n",
      "-------------------------------------\n",
      "-------------------------------------\n",
      "| rollout/              |           |\n",
      "|    ep_len_mean        | 296       |\n",
      "|    ep_rew_mean        | 1.77      |\n",
      "| time/                 |           |\n",
      "|    fps                | 188       |\n",
      "|    iterations         | 900000    |\n",
      "|    time_elapsed       | 95655     |\n",
      "|    total_timesteps    | 18000000  |\n",
      "| train/                |           |\n",
      "|    entropy_loss       | -2.97e-06 |\n",
      "|    explained_variance | 1.19e-07  |\n",
      "|    learning_rate      | 0.0007    |\n",
      "|    n_updates          | 899999    |\n",
      "|    policy_loss        | -0        |\n",
      "|    value_loss         | 0.193     |\n",
      "-------------------------------------\n",
      "-------------------------------------\n",
      "| rollout/              |           |\n",
      "|    ep_len_mean        | 301       |\n",
      "|    ep_rew_mean        | 1.88      |\n",
      "| time/                 |           |\n",
      "|    fps                | 187       |\n",
      "|    iterations         | 1000000   |\n",
      "|    time_elapsed       | 106636    |\n",
      "|    total_timesteps    | 20000000  |\n",
      "| train/                |           |\n",
      "|    entropy_loss       | -2.99e-06 |\n",
      "|    explained_variance | 1.02e-05  |\n",
      "|    learning_rate      | 0.0007    |\n",
      "|    n_updates          | 999999    |\n",
      "|    policy_loss        | -0        |\n",
      "|    value_loss         | 0.000139  |\n",
      "-------------------------------------\n"
     ]
    },
    {
     "data": {
      "text/html": [
       "<pre style=\"white-space:pre;overflow-x:auto;line-height:normal;font-family:Menlo,'DejaVu Sans Mono',consolas,'Courier New',monospace\"></pre>\n"
      ],
      "text/plain": []
     },
     "metadata": {},
     "output_type": "display_data"
    },
    {
     "data": {
      "text/html": [
       "<pre style=\"white-space:pre;overflow-x:auto;line-height:normal;font-family:Menlo,'DejaVu Sans Mono',consolas,'Courier New',monospace\">\n",
       "</pre>\n"
      ],
      "text/plain": [
       "\n"
      ]
     },
     "metadata": {},
     "output_type": "display_data"
    },
    {
     "data": {
      "text/plain": [
       "<stable_baselines3.a2c.a2c.A2C at 0x7fe0db25c1f0>"
      ]
     },
     "execution_count": 3,
     "metadata": {},
     "output_type": "execute_result"
    }
   ],
   "source": [
    "model = A2C(\"MlpPolicy\", env, verbose=1)\n",
    "model.learn(log_interval=1E5, total_timesteps=2E7, progress_bar=True)\n",
    "\n"
   ]
  },
  {
   "cell_type": "code",
   "execution_count": 4,
   "id": "9479b147-b68a-4044-900f-6263e340bb7a",
   "metadata": {},
   "outputs": [],
   "source": [
    "model.save(f\"{models_folder}/a2c_vec_{env_id}\")"
   ]
  },
  {
   "cell_type": "code",
   "execution_count": null,
   "id": "201459eb-94b5-48c9-b93f-50c34f8b490c",
   "metadata": {
    "jupyter": {
     "source_hidden": true
    }
   },
   "outputs": [],
   "source": []
  },
  {
   "cell_type": "code",
   "execution_count": 5,
   "id": "ba415014-fa23-4863-bd2f-c6450dc7dcec",
   "metadata": {},
   "outputs": [],
   "source": [
    "env = make_atari_env(env_id, n_envs=1, seed=0)\n",
    "env = VecFrameStack(env, n_stack=4)"
   ]
  },
  {
   "cell_type": "code",
   "execution_count": 6,
   "id": "87edcf3f-45af-4cc2-a90b-551a95c03634",
   "metadata": {},
   "outputs": [
    {
     "name": "stderr",
     "output_type": "stream",
     "text": [
      "/usr/local/lib/python3.10/dist-packages/gymnasium/utils/passive_env_checker.py:364: UserWarning: \u001b[33mWARN: No render fps was declared in the environment (env.metadata['render_fps'] is None or not defined), rendering may occur at inconsistent fps.\u001b[0m\n",
      "  logger.warn(\n"
     ]
    }
   ],
   "source": [
    "images = []\n",
    "obs = env.reset()\n",
    "img = env.render(mode=\"rgb_array\")\n",
    "for i in range(500):\n",
    "# done = False\n",
    "# while not done:\n",
    "    images.append(img)\n",
    "    action, _ = model.predict(obs)\n",
    "    obs, reward, done, info = env.step(action)\n",
    "    img = env.render(mode=\"rgb_array\")"
   ]
  },
  {
   "cell_type": "code",
   "execution_count": 7,
   "id": "3dc9eb68-d538-4161-ab8a-39d27ebbde6f",
   "metadata": {},
   "outputs": [],
   "source": [
    "import imageio\n",
    "import numpy as np"
   ]
  },
  {
   "cell_type": "code",
   "execution_count": 8,
   "id": "480f3323-f447-45f3-b297-4b394be38931",
   "metadata": {},
   "outputs": [],
   "source": [
    "# fps = 60*4\n",
    "# dur = len(images)/fps\n",
    "dur = 50\n",
    "imageio.mimsave(f\"{gif_folder}/{env_id}_vec.gif\", [np.array(img) for i, img in enumerate(images) if i%2 == 0], duration=dur)"
   ]
  },
  {
   "cell_type": "code",
   "execution_count": null,
   "id": "fa0095ae-6f33-4445-b5f3-70d7e88a7d30",
   "metadata": {},
   "outputs": [],
   "source": []
  },
  {
   "cell_type": "code",
   "execution_count": null,
   "id": "2ba6482e-8580-4245-a14e-bd1b72237360",
   "metadata": {},
   "outputs": [],
   "source": []
  }
 ],
 "metadata": {
  "kernelspec": {
   "display_name": "Python 3 (ipykernel)",
   "language": "python",
   "name": "python3"
  },
  "language_info": {
   "codemirror_mode": {
    "name": "ipython",
    "version": 3
   },
   "file_extension": ".py",
   "mimetype": "text/x-python",
   "name": "python",
   "nbconvert_exporter": "python",
   "pygments_lexer": "ipython3",
   "version": "3.10.6"
  }
 },
 "nbformat": 4,
 "nbformat_minor": 5
}
