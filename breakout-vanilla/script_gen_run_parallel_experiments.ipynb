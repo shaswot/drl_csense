{
 "cells": [
  {
   "cell_type": "code",
   "execution_count": 2,
   "id": "e9269514-5c22-42d0-b67a-db11dc873368",
   "metadata": {},
   "outputs": [],
   "source": [
    "nb_filename = \"breakout-train-run.ipynb\""
   ]
  },
  {
   "cell_type": "code",
   "execution_count": 3,
   "id": "1448d96d-9816-4a14-81e3-236acdfe7f58",
   "metadata": {},
   "outputs": [
    {
     "name": "stdout",
     "output_type": "stream",
     "text": [
      "Creating notebook for run_0\n",
      "Creating notebook for run_1\n",
      "Creating notebook for run_2\n",
      "Creating notebook for run_3\n",
      "Creating notebook for run_4\n"
     ]
    }
   ],
   "source": [
    "!python create_run_notebooks.py {nb_filename}"
   ]
  },
  {
   "cell_type": "code",
   "execution_count": 3,
   "id": "cef7238a-0d55-49b6-aa5f-3d66e6722e2d",
   "metadata": {},
   "outputs": [],
   "source": [
    "NUM_EXPERIMENTS = 5"
   ]
  },
  {
   "cell_type": "code",
   "execution_count": 4,
   "id": "c3d2def7-f14f-4307-a759-702c3c7b6d95",
   "metadata": {},
   "outputs": [
    {
     "name": "stdout",
     "output_type": "stream",
     "text": [
      "python execute_notebook.py breakout-sparse_05-run_0.ipynb &\n",
      "python execute_notebook.py breakout-sparse_05-run_1.ipynb &\n",
      "python execute_notebook.py breakout-sparse_05-run_2.ipynb &\n",
      "python execute_notebook.py breakout-sparse_05-run_3.ipynb &\n",
      "python execute_notebook.py breakout-sparse_05-run_4.ipynb &\n"
     ]
    }
   ],
   "source": [
    "for run_no in range(NUM_EXPERIMENTS):\n",
    "    new_nb_filename = f\"{nb_filename.split('.')[0]}-run_{run_no}.ipynb\"\n",
    "    print(f\"python execute_notebook.py {new_nb_filename} &\")"
   ]
  },
  {
   "cell_type": "code",
   "execution_count": null,
   "id": "0e169850-3999-4b2f-916b-d36871c5bc6f",
   "metadata": {},
   "outputs": [],
   "source": []
  }
 ],
 "metadata": {
  "kernelspec": {
   "display_name": "Python 3 (ipykernel)",
   "language": "python",
   "name": "python3"
  },
  "language_info": {
   "codemirror_mode": {
    "name": "ipython",
    "version": 3
   },
   "file_extension": ".py",
   "mimetype": "text/x-python",
   "name": "python",
   "nbconvert_exporter": "python",
   "pygments_lexer": "ipython3",
   "version": "3.10.6"
  }
 },
 "nbformat": 4,
 "nbformat_minor": 5
}
