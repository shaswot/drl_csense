{
 "cells": [
  {
   "cell_type": "code",
   "execution_count": 1,
   "id": "57abcdce-14b6-4aa8-be11-e2474195099a",
   "metadata": {
    "execution": {
     "iopub.execute_input": "2023-06-14T07:39:44.058260Z",
     "iopub.status.busy": "2023-06-14T07:39:44.058135Z",
     "iopub.status.idle": "2023-06-14T07:39:44.063013Z",
     "shell.execute_reply": "2023-06-14T07:39:44.062577Z"
    }
   },
   "outputs": [],
   "source": [
    "exp_no = 0"
   ]
  },
  {
   "cell_type": "code",
   "execution_count": 2,
   "id": "71417323-0e54-4c3f-809e-eaeadcf166a5",
   "metadata": {
    "execution": {
     "iopub.execute_input": "2023-06-14T07:39:44.064733Z",
     "iopub.status.busy": "2023-06-14T07:39:44.064408Z",
     "iopub.status.idle": "2023-06-14T07:39:44.091337Z",
     "shell.execute_reply": "2023-06-14T07:39:44.090876Z"
    }
   },
   "outputs": [],
   "source": [
    "import os\n",
    "import sys\n",
    "import git\n",
    "import pathlib"
   ]
  },
  {
   "cell_type": "code",
   "execution_count": 3,
   "id": "416f71ae-51f6-4b86-9169-77f427361cec",
   "metadata": {
    "execution": {
     "iopub.execute_input": "2023-06-14T07:39:44.093473Z",
     "iopub.status.busy": "2023-06-14T07:39:44.093333Z",
     "iopub.status.idle": "2023-06-14T07:39:44.098227Z",
     "shell.execute_reply": "2023-06-14T07:39:44.097716Z"
    }
   },
   "outputs": [
    {
     "name": "stdout",
     "output_type": "stream",
     "text": [
      "Project Root Directory: /repos/drl_csense\n"
     ]
    }
   ],
   "source": [
    "os.environ['TF_CPP_MIN_LOG_LEVEL'] = '3' \n",
    "\n",
    "PROJ_ROOT_PATH = pathlib.Path(git.Repo('.', search_parent_directories=True).working_tree_dir)\n",
    "PROJ_ROOT =  str(PROJ_ROOT_PATH)\n",
    "if PROJ_ROOT not in sys.path:\n",
    "    sys.path.append(PROJ_ROOT)\n",
    "\n",
    "print(f\"Project Root Directory: {PROJ_ROOT}\")"
   ]
  },
  {
   "cell_type": "code",
   "execution_count": 4,
   "id": "5dbbb1e6-9120-4d2f-ba32-36250d26df46",
   "metadata": {
    "execution": {
     "iopub.execute_input": "2023-06-14T07:39:44.099840Z",
     "iopub.status.busy": "2023-06-14T07:39:44.099695Z",
     "iopub.status.idle": "2023-06-14T07:39:44.556062Z",
     "shell.execute_reply": "2023-06-14T07:39:44.555478Z"
    }
   },
   "outputs": [],
   "source": [
    "import numpy as np\n",
    "import matplotlib.pyplot as plt"
   ]
  },
  {
   "cell_type": "code",
   "execution_count": 5,
   "id": "778a6088-d210-4708-b675-1e259a58c697",
   "metadata": {
    "execution": {
     "iopub.execute_input": "2023-06-14T07:39:44.558954Z",
     "iopub.status.busy": "2023-06-14T07:39:44.558592Z",
     "iopub.status.idle": "2023-06-14T07:39:44.731094Z",
     "shell.execute_reply": "2023-06-14T07:39:44.730567Z"
    }
   },
   "outputs": [],
   "source": [
    "import gymnasium as gym"
   ]
  },
  {
   "cell_type": "code",
   "execution_count": 6,
   "id": "0b8d2c90-d08c-4040-8aa5-d7d9b1bea94d",
   "metadata": {
    "execution": {
     "iopub.execute_input": "2023-06-14T07:39:44.733495Z",
     "iopub.status.busy": "2023-06-14T07:39:44.733349Z",
     "iopub.status.idle": "2023-06-14T07:39:47.694841Z",
     "shell.execute_reply": "2023-06-14T07:39:47.694084Z"
    }
   },
   "outputs": [],
   "source": [
    "from stable_baselines3.common.env_util import make_atari_env\n",
    "from stable_baselines3.common.vec_env import VecFrameStack\n",
    "from stable_baselines3 import A2C\n",
    "from stable_baselines3.common.callbacks import BaseCallback\n",
    "from stable_baselines3.common.results_plotter import load_results, ts2xy"
   ]
  },
  {
   "cell_type": "code",
   "execution_count": 7,
   "id": "117401e2-e8d5-4def-b187-89ebdbd5225e",
   "metadata": {
    "execution": {
     "iopub.execute_input": "2023-06-14T07:39:47.697827Z",
     "iopub.status.busy": "2023-06-14T07:39:47.697494Z",
     "iopub.status.idle": "2023-06-14T07:39:47.703507Z",
     "shell.execute_reply": "2023-06-14T07:39:47.702929Z"
    }
   },
   "outputs": [],
   "source": [
    "class SaveOnBestTrainingRewardCallback(BaseCallback):\n",
    "    \"\"\"\n",
    "    Callback for saving a model (the check is done every ``check_freq`` steps)\n",
    "    based on the training reward (in practice, we recommend using ``EvalCallback``).\n",
    "\n",
    "    :param check_freq: (int)\n",
    "    :param log_dir: (str) Path to the folder where the model will be saved.\n",
    "      It must contains the file created by the ``Monitor`` wrapper.\n",
    "    :param verbose: (int)\n",
    "    \"\"\"\n",
    "\n",
    "    def __init__(self, check_freq: int, log_dir: str, verbose=1):\n",
    "        super().__init__(verbose)\n",
    "        self.check_freq = check_freq\n",
    "        self.log_dir = log_dir\n",
    "        self.save_path = os.path.join(log_dir, \"best_model\")\n",
    "        self.best_mean_reward = -np.inf\n",
    "\n",
    "    def _init_callback(self) -> None:\n",
    "        # Create folder if needed\n",
    "        if self.save_path is not None:\n",
    "            os.makedirs(self.save_path, exist_ok=True)\n",
    "\n",
    "    def _on_step(self) -> bool:\n",
    "        if self.n_calls % self.check_freq == 0:\n",
    "\n",
    "            # Retrieve training reward\n",
    "            x, y = ts2xy(load_results(self.log_dir), \"timesteps\")\n",
    "            if len(x) > 0:\n",
    "                # Mean training reward over the last 100 episodes\n",
    "                mean_reward = np.mean(y[-100:])\n",
    "                if self.verbose > 0:\n",
    "                    print(f\"Num timesteps: {self.num_timesteps}\")\n",
    "                    print(\n",
    "                        f\"Best mean reward: {self.best_mean_reward:.2f} - Last mean reward per episode: {mean_reward:.2f}\"\n",
    "                    )\n",
    "\n",
    "                # New best model, you could save the agent here\n",
    "                if mean_reward > self.best_mean_reward:\n",
    "                    self.best_mean_reward = mean_reward\n",
    "                    # Example for saving best model\n",
    "                    if self.verbose > 0:\n",
    "                        print(f\"Saving new best model to {self.save_path}.zip\")\n",
    "                    self.model.save(self.save_path)\n",
    "\n",
    "        return True"
   ]
  },
  {
   "cell_type": "code",
   "execution_count": 8,
   "id": "cec5173a-e047-474d-ad32-50e10aa5389f",
   "metadata": {
    "execution": {
     "iopub.execute_input": "2023-06-14T07:39:47.705375Z",
     "iopub.status.busy": "2023-06-14T07:39:47.704950Z",
     "iopub.status.idle": "2023-06-14T07:39:47.707499Z",
     "shell.execute_reply": "2023-06-14T07:39:47.707004Z"
    }
   },
   "outputs": [],
   "source": [
    "env_id = \"BreakoutNoFrameskip-v4\"\n",
    "exp_tag = \"vanilla\"\n",
    "exp_name = f\"{env_id}--{exp_tag}\""
   ]
  },
  {
   "cell_type": "code",
   "execution_count": 9,
   "id": "167ad488-d0ba-4c60-bdf5-e4be929c7bf8",
   "metadata": {
    "execution": {
     "iopub.execute_input": "2023-06-14T07:39:47.708946Z",
     "iopub.status.busy": "2023-06-14T07:39:47.708814Z",
     "iopub.status.idle": "2023-06-14T07:39:47.712158Z",
     "shell.execute_reply": "2023-06-14T07:39:47.711634Z"
    }
   },
   "outputs": [],
   "source": [
    "logfolder_root = pathlib.Path(PROJ_ROOT_PATH / \"logging\")\n",
    "\n",
    "# Directory to save all training statistics\n",
    "log_dir = pathlib.Path(logfolder_root / exp_name)\n",
    "os.makedirs(log_dir, exist_ok=True)\n",
    "\n",
    "# Directory to save gif animations\n",
    "gif_dir = pathlib.Path(log_dir / \"gifs\" / exp_name)\n",
    "os.makedirs(gif_dir, exist_ok=True)\n",
    "\n",
    "# Directory to save models\n",
    "models_dir = pathlib.Path(PROJ_ROOT_PATH / \"models\" / exp_name)\n",
    "os.makedirs(models_dir, exist_ok=True)"
   ]
  },
  {
   "cell_type": "code",
   "execution_count": 10,
   "id": "19471b8a-750f-41d9-9748-9137cacef36b",
   "metadata": {
    "execution": {
     "iopub.execute_input": "2023-06-14T07:39:47.713546Z",
     "iopub.status.busy": "2023-06-14T07:39:47.713410Z",
     "iopub.status.idle": "2023-06-14T07:39:47.715784Z",
     "shell.execute_reply": "2023-06-14T07:39:47.715291Z"
    }
   },
   "outputs": [],
   "source": [
    "# The different number of processes that will be used\n",
    "NUM_ENVS = 16\n",
    "TRAIN_STEPS = 5E7\n",
    "# Number of episodes for evaluation\n",
    "ALGO = A2C"
   ]
  },
  {
   "cell_type": "code",
   "execution_count": 11,
   "id": "6e2add64-f00c-4951-9048-5041764ed017",
   "metadata": {
    "execution": {
     "iopub.execute_input": "2023-06-14T07:39:47.717826Z",
     "iopub.status.busy": "2023-06-14T07:39:47.717464Z",
     "iopub.status.idle": "2023-06-14T07:39:47.719953Z",
     "shell.execute_reply": "2023-06-14T07:39:47.719526Z"
    }
   },
   "outputs": [],
   "source": [
    "mother_seed = 2023"
   ]
  },
  {
   "cell_type": "code",
   "execution_count": 12,
   "id": "96fe7498-1566-4940-aacf-400493998b64",
   "metadata": {
    "execution": {
     "iopub.execute_input": "2023-06-14T07:39:47.721300Z",
     "iopub.status.busy": "2023-06-14T07:39:47.721167Z",
     "shell.execute_reply": "2023-06-14T23:35:07.759209Z"
    }
   },
   "outputs": [
    {
     "name": "stdout",
     "output_type": "stream",
     "text": [
      "-------\n",
      "RUN: 0\n"
     ]
    },
    {
     "name": "stderr",
     "output_type": "stream",
     "text": [
      "A.L.E: Arcade Learning Environment (version 0.8.1+53f58b7)\n",
      "[Powered by Stella]\n"
     ]
    },
    {
     "data": {
      "application/vnd.jupyter.widget-view+json": {
       "model_id": "8d23550592314e3e8b8ad6520c634e11",
       "version_major": 2,
       "version_minor": 0
      },
      "text/plain": [
       "Output()"
      ]
     },
     "metadata": {},
     "output_type": "display_data"
    }
   ],
   "source": [
    "# for experiment in range(NUM_EXPERIMENTS):\n",
    "for experiment in [exp_no]:\n",
    "    print(\"-------\")\n",
    "    print(f\"RUN: {experiment}\")\n",
    "    # Log directory for each run of the experiment\n",
    "    run_log_dir = f\"{log_dir}/run_{experiment}\"\n",
    "\n",
    "    # Create the callback: check every 1000 steps\n",
    "    callback = SaveOnBestTrainingRewardCallback(check_freq=1E4, \n",
    "                                                log_dir=run_log_dir,\n",
    "                                                verbose=0)\n",
    "    \n",
    "    # Make vector environment\n",
    "    env = make_atari_env(env_id,\n",
    "                         n_envs=NUM_ENVS,\n",
    "                         monitor_dir=run_log_dir,\n",
    "                         seed=mother_seed+experiment)\n",
    "    \n",
    "    # Frame-stacking with 4 frames\n",
    "    env = VecFrameStack(env, n_stack=4)\n",
    "\n",
    "    # Create RL model\n",
    "    model = A2C(\"CnnPolicy\", env, verbose=0)\n",
    "\n",
    "    # Train the agent\n",
    "    model.learn(total_timesteps=TRAIN_STEPS, \n",
    "                progress_bar=True, \n",
    "                callback=callback)\n",
    "\n",
    "    # Save the final agent\n",
    "    model.save(f\"{models_dir}/{exp_name}-run_{experiment}\")"
   ]
  },
  {
   "cell_type": "code",
   "execution_count": 13,
   "id": "28008c80-0bef-44ed-881d-6de4bdf7f3f9",
   "metadata": {
    "execution": {
     "iopub.execute_input": "2023-06-14T23:35:13.010281Z",
     "iopub.status.busy": "2023-06-14T23:35:13.010158Z",
     "iopub.status.idle": "2023-06-14T23:35:13.012860Z",
     "shell.execute_reply": "2023-06-14T23:35:13.012422Z"
    }
   },
   "outputs": [],
   "source": [
    "# Visualizing Results"
   ]
  },
  {
   "cell_type": "code",
   "execution_count": 14,
   "id": "b2fa220a-bbd4-476f-a2dd-a8f64a4569f2",
   "metadata": {
    "execution": {
     "iopub.execute_input": "2023-06-14T23:35:13.014506Z",
     "iopub.status.busy": "2023-06-14T23:35:13.014379Z",
     "iopub.status.idle": "2023-06-14T23:35:13.017041Z",
     "shell.execute_reply": "2023-06-14T23:35:13.016603Z"
    }
   },
   "outputs": [],
   "source": [
    "def moving_average(values, window):\n",
    "    \"\"\"\n",
    "    Smooth values by doing a moving average\n",
    "    :param values: (numpy array)\n",
    "    :param window: (int)\n",
    "    :return: (numpy array)\n",
    "    \"\"\"\n",
    "    weights = np.repeat(1.0, window) / window\n",
    "    return np.convolve(values, weights, \"valid\")"
   ]
  },
  {
   "cell_type": "code",
   "execution_count": 15,
   "id": "bc471f87-7359-476b-955e-aa9ee568c4fa",
   "metadata": {
    "execution": {
     "iopub.execute_input": "2023-06-14T23:35:13.018452Z",
     "iopub.status.busy": "2023-06-14T23:35:13.018321Z",
     "iopub.status.idle": "2023-06-14T23:35:13.196380Z",
     "shell.execute_reply": "2023-06-14T23:35:13.195822Z"
    }
   },
   "outputs": [
    {
     "data": {
      "image/png": "[encoded data removed]",
      "text/plain": [
       "<Figure size 640x480 with 1 Axes>"
      ]
     },
     "metadata": {},
     "output_type": "display_data"
    }
   ],
   "source": [
    "fig = plt.figure()\n",
    "plt.xlabel(\"Number of Timesteps\")\n",
    "plt.ylabel(\"Rewards\")\n",
    "title = env_id\n",
    "plt.title(title + \" (moving avg, window=50)\")\n",
    "# for experiment in range(NUM_EXPERIMENTS):\n",
    "for experiment in [exp_no]:\n",
    "    run_log_dir = f\"{log_dir}/run_{experiment}\"\n",
    "    x, y = ts2xy(load_results(run_log_dir), \"timesteps\")\n",
    "    y = moving_average(y, window=50)\n",
    "    # Truncate x\n",
    "    x = x[len(x) - len(y) :]    \n",
    "    plt.plot(x, y)  \n",
    "plt.show()    "
   ]
  }
 ],
 "metadata": {
  "kernelspec": {
   "display_name": "Python 3 (ipykernel)",
   "language": "python",
   "name": "python3"
  },
  "language_info": {
   "codemirror_mode": {
    "name": "ipython",
    "version": 3
   },
   "file_extension": ".py",
   "mimetype": "text/x-python",
   "name": "python",
   "nbconvert_exporter": "python",
   "pygments_lexer": "ipython3",
   "version": "3.10.6"
  },
  "widgets": {
   "application/vnd.jupyter.widget-state+json": {
    "state": {
     "8d23550592314e3e8b8ad6520c634e11": {
      "model_module": "@jupyter-widgets/output",
      "model_module_version": "1.0.0",
      "model_name": "OutputModel",
      "state": {
       "_dom_classes": [],
       "_model_module": "@jupyter-widgets/output",
       "_model_module_version": "1.0.0",
       "_model_name": "OutputModel",
       "_view_count": null,
       "_view_module": "@jupyter-widgets/output",
       "_view_module_version": "1.0.0",
       "_view_name": "OutputView",
       "layout": "IPY_MODEL_bdf84207e5a84b09a535c3ee8513957b",
       "msg_id": "e9d7d23b-2c3a1e59678670807e42cda6_103999_13",
       "outputs": [
        {
         "data": {
          "text/html": "<pre style=\"white-space:pre;overflow-x:auto;line-height:normal;font-family:Menlo,'DejaVu Sans Mono',consolas,'Courier New',monospace\"><span style=\"color: #800080; text-decoration-color: #800080\">   1%</span> <span style=\"color: #3a3a3a; text-decoration-color: #3a3a3a\">━━━━━━━━━━━━━━━━━━━━━━━━━━━━━━━━━━━━━━━━━━━━━━━━━━━━━━━</span> <span style=\"color: #008000; text-decoration-color: #008000\">332,688/50,000,000 </span> [ <span style=\"color: #808000; text-decoration-color: #808000\">0:06:49</span> &lt; <span style=\"color: #008080; text-decoration-color: #008080\">16:23:38</span> , <span style=\"color: #800000; text-decoration-color: #800000\">842 it/s</span> ]\n</pre>\n",
          "text/plain": "\u001b[35m   1%\u001b[0m \u001b[38;5;237m━━━━━━━━━━━━━━━━━━━━━━━━━━━━━━━━━━━━━━━━━━━━━━━━━━━━━━━\u001b[0m \u001b[32m332,688/50,000,000 \u001b[0m [ \u001b[33m0:06:49\u001b[0m < \u001b[36m16:23:38\u001b[0m , \u001b[31m842 it/s\u001b[0m ]\n"
         },
         "metadata": {},
         "output_type": "display_data"
        }
       ],
       "tabbable": null,
       "tooltip": null
      }
     },
     "bdf84207e5a84b09a535c3ee8513957b": {
      "model_module": "@jupyter-widgets/base",
      "model_module_version": "2.0.0",
      "model_name": "LayoutModel",
      "state": {
       "_model_module": "@jupyter-widgets/base",
       "_model_module_version": "2.0.0",
       "_model_name": "LayoutModel",
       "_view_count": null,
       "_view_module": "@jupyter-widgets/base",
       "_view_module_version": "2.0.0",
       "_view_name": "LayoutView",
       "align_content": null,
       "align_items": null,
       "align_self": null,
       "border_bottom": null,
       "border_left": null,
       "border_right": null,
       "border_top": null,
       "bottom": null,
       "display": null,
       "flex": null,
       "flex_flow": null,
       "grid_area": null,
       "grid_auto_columns": null,
       "grid_auto_flow": null,
       "grid_auto_rows": null,
       "grid_column": null,
       "grid_gap": null,
       "grid_row": null,
       "grid_template_areas": null,
       "grid_template_columns": null,
       "grid_template_rows": null,
       "height": null,
       "justify_content": null,
       "justify_items": null,
       "left": null,
       "margin": null,
       "max_height": null,
       "max_width": null,
       "min_height": null,
       "min_width": null,
       "object_fit": null,
       "object_position": null,
       "order": null,
       "overflow": null,
       "padding": null,
       "right": null,
       "top": null,
       "visibility": null,
       "width": null
      }
     }
    },
    "version_major": 2,
    "version_minor": 0
   }
  }
 },
 "nbformat": 4,
 "nbformat_minor": 5
}
