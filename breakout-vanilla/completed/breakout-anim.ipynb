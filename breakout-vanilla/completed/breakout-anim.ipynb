{
 "cells": [
  {
   "cell_type": "code",
   "execution_count": 1,
   "id": "9f441cd5-1c5a-4dc5-b4d6-575a8223963b",
   "metadata": {
    "jupyter": {
     "source_hidden": true
    }
   },
   "outputs": [],
   "source": [
    "import os\n",
    "import sys\n",
    "import git\n",
    "import pathlib"
   ]
  },
  {
   "cell_type": "code",
   "execution_count": 2,
   "id": "ebce788e-70a9-4269-84e4-d8357ce22b6f",
   "metadata": {
    "jupyter": {
     "source_hidden": true
    }
   },
   "outputs": [
    {
     "name": "stdout",
     "output_type": "stream",
     "text": [
      "Project Root Directory: /repos/drl_csense\n"
     ]
    }
   ],
   "source": [
    "os.environ['TF_CPP_MIN_LOG_LEVEL'] = '3' \n",
    "\n",
    "PROJ_ROOT_PATH = pathlib.Path(git.Repo('.', search_parent_directories=True).working_tree_dir)\n",
    "PROJ_ROOT =  str(PROJ_ROOT_PATH)\n",
    "if PROJ_ROOT not in sys.path:\n",
    "    sys.path.append(PROJ_ROOT)\n",
    "\n",
    "print(f\"Project Root Directory: {PROJ_ROOT}\")"
   ]
  },
  {
   "cell_type": "code",
   "execution_count": 3,
   "id": "b124f41c-c6a3-43dc-9efb-134b8d8f4e35",
   "metadata": {
    "jupyter": {
     "source_hidden": true
    }
   },
   "outputs": [],
   "source": [
    "import numpy as np\n",
    "import imageio\n",
    "import ipyplot"
   ]
  },
  {
   "cell_type": "code",
   "execution_count": 4,
   "id": "54c7bef2-2135-4eca-b5b4-e5d92abbc054",
   "metadata": {
    "jupyter": {
     "source_hidden": true
    }
   },
   "outputs": [],
   "source": [
    "import gymnasium as gym"
   ]
  },
  {
   "cell_type": "code",
   "execution_count": 5,
   "id": "4ef832e3-d8a9-48ea-9e62-967957555a0b",
   "metadata": {
    "jupyter": {
     "source_hidden": true
    }
   },
   "outputs": [],
   "source": [
    "from stable_baselines3.common.env_util import make_atari_env\n",
    "from stable_baselines3.common.vec_env import VecFrameStack\n",
    "from stable_baselines3 import A2C"
   ]
  },
  {
   "cell_type": "code",
   "execution_count": 6,
   "id": "506ebd79-324e-4399-bd24-62522047fc21",
   "metadata": {
    "jupyter": {
     "source_hidden": true
    }
   },
   "outputs": [],
   "source": [
    "from IPython.display import Image"
   ]
  },
  {
   "cell_type": "code",
   "execution_count": 7,
   "id": "a94614e4-af91-4e81-955b-8b95a35d5308",
   "metadata": {
    "jupyter": {
     "source_hidden": true
    }
   },
   "outputs": [],
   "source": [
    "env_id = \"BreakoutNoFrameskip-v4\"\n",
    "exp_tag = \"vanilla\"\n",
    "exp_name = f\"{env_id}--{exp_tag}\""
   ]
  },
  {
   "cell_type": "code",
   "execution_count": 8,
   "id": "41c3ce09-750f-41f8-bc95-53d4a51fd88e",
   "metadata": {
    "jupyter": {
     "source_hidden": true
    }
   },
   "outputs": [],
   "source": [
    "logfolder_root = pathlib.Path(PROJ_ROOT_PATH / \"logging\")\n",
    "\n",
    "# Directory to save all training statistics\n",
    "log_dir = pathlib.Path(logfolder_root / exp_name)\n",
    "os.makedirs(log_dir, exist_ok=True)\n",
    "\n",
    "# Directory to save gif animations\n",
    "gif_dir = pathlib.Path(log_dir / \"gifs\" )\n",
    "os.makedirs(gif_dir, exist_ok=True)\n",
    "\n",
    "# Directory to save models\n",
    "models_dir = pathlib.Path(PROJ_ROOT_PATH / \"models\" / exp_name)\n",
    "os.makedirs(models_dir, exist_ok=True)"
   ]
  },
  {
   "cell_type": "code",
   "execution_count": 9,
   "id": "eb49cf89-9cec-47fc-aba3-843094205bf4",
   "metadata": {
    "jupyter": {
     "source_hidden": true
    }
   },
   "outputs": [
    {
     "name": "stderr",
     "output_type": "stream",
     "text": [
      "A.L.E: Arcade Learning Environment (version 0.8.1+53f58b7)\n",
      "[Powered by Stella]\n",
      "/usr/local/lib/python3.10/dist-packages/gymnasium/utils/passive_env_checker.py:364: UserWarning: \u001b[33mWARN: No render fps was declared in the environment (env.metadata['render_fps'] is None or not defined), rendering may occur at inconsistent fps.\u001b[0m\n",
      "  logger.warn(\n"
     ]
    }
   ],
   "source": [
    "trial_mother_seed = 202306\n",
    "EXPERIMENT_NOS = [0,1,2,3,4]\n",
    "for experiment in EXPERIMENT_NOS:\n",
    "    # Make trial environment\n",
    "    trial_env = make_atari_env(env_id,\n",
    "                         n_envs=1,\n",
    "                         seed=trial_mother_seed)\n",
    "    # Frame-stacking with 4 frames\n",
    "    trial_env = VecFrameStack(trial_env, n_stack=4)\n",
    "    \n",
    "    # Load RL model\n",
    "    model_file = f\"{models_dir}/{exp_name}-run_{experiment}\"\n",
    "    model = A2C.load(model_file)\n",
    "    \n",
    "    # Create animation\n",
    "    duration = 10 #sec\n",
    "    fps = 240 #fps\n",
    "    no_of_frames = duration*fps*2 #only every other frame is used for animation\n",
    "    \n",
    "    images = []\n",
    "    obs = trial_env.reset()\n",
    "    img = trial_env.render(mode=\"rgb_array\")\n",
    "    for i in range(no_of_frames):\n",
    "        images.append(img)\n",
    "        action, _ = model.predict(obs)\n",
    "        obs, reward, done, info = trial_env.step(action)\n",
    "        img = trial_env.render(mode=\"rgb_array\")\n",
    "    \n",
    "    # Convert frames to animation\n",
    "    gif_file = f\"{gif_dir}/{exp_name}-run_{experiment}.gif\"\n",
    "    imageio.mimsave(gif_file, \n",
    "                    [np.array(img) for i, img in enumerate(images) if i%2 == 0], duration=duration)\n",
    "    trial_env.close()"
   ]
  },
  {
   "cell_type": "code",
   "execution_count": 10,
   "id": "d3ba3285-f168-40dc-b268-4799178dcac6",
   "metadata": {
    "jupyter": {
     "source_hidden": true
    }
   },
   "outputs": [
    {
     "data": {
      "text/html": [
       "\n",
       "    <style>\n",
       "        #ipyplot-html-viewer-toggle-eDZk4r7GFoLXeHuRXFM6MT {\n",
       "            position: absolute;\n",
       "            top: -9999px;\n",
       "            left: -9999px;\n",
       "            visibility: hidden;\n",
       "        }\n",
       "\n",
       "        #ipyplot-html-viewer-label-eDZk4r7GFoLXeHuRXFM6MT { \n",
       "            position: relative;\n",
       "            display: inline-block;\n",
       "            cursor: pointer;\n",
       "            color: blue;\n",
       "            text-decoration: underline;\n",
       "        }\n",
       "\n",
       "        #ipyplot-html-viewer-textarea-eDZk4r7GFoLXeHuRXFM6MT {\n",
       "            background: lightgrey;\n",
       "            width: 100%;\n",
       "            height: 0px;\n",
       "            display: none;\n",
       "        }\n",
       "\n",
       "        #ipyplot-html-viewer-toggle-eDZk4r7GFoLXeHuRXFM6MT:checked ~ #ipyplot-html-viewer-textarea-eDZk4r7GFoLXeHuRXFM6MT {\n",
       "            height: 200px;\n",
       "            display: block;\n",
       "        }\n",
       "\n",
       "        #ipyplot-html-viewer-toggle-eDZk4r7GFoLXeHuRXFM6MT:checked + #ipyplot-html-viewer-label-eDZk4r7GFoLXeHuRXFM6MT:after {\n",
       "            content: \"hide html\";\n",
       "            position: absolute;\n",
       "            top: 0;\n",
       "            left: 0;\n",
       "            right: 0;\n",
       "            bottom: 0;\n",
       "            background: white;\n",
       "            cursor: pointer;\n",
       "            color: blue;\n",
       "            text-decoration: underline;\n",
       "        }\n",
       "    </style>\n",
       "    <div>\n",
       "        <input type=\"checkbox\" id=\"ipyplot-html-viewer-toggle-eDZk4r7GFoLXeHuRXFM6MT\">\n",
       "        <label id=\"ipyplot-html-viewer-label-eDZk4r7GFoLXeHuRXFM6MT\" for=\"ipyplot-html-viewer-toggle-eDZk4r7GFoLXeHuRXFM6MT\">show html</label>\n",
       "        <textarea id=\"ipyplot-html-viewer-textarea-eDZk4r7GFoLXeHuRXFM6MT\" readonly>\n",
       "            \n",
       "        <style>\n",
       "        #ipyplot-imgs-container-div-GWiTodfniaSqisneVVBeqh {\n",
       "            width: 100%;\n",
       "            height: 100%;\n",
       "            margin: 0%;\n",
       "            overflow: auto;\n",
       "            position: relative;\n",
       "            overflow-y: scroll;\n",
       "        }\n",
       "\n",
       "        div.ipyplot-placeholder-div-GWiTodfniaSqisneVVBeqh {\n",
       "            width: 100px;\n",
       "            display: inline-block;\n",
       "            margin: 3px;\n",
       "            position: relative;\n",
       "        }\n",
       "\n",
       "        div.ipyplot-content-div-GWiTodfniaSqisneVVBeqh {\n",
       "            width: 100px;\n",
       "            background: white;\n",
       "            display: inline-block;\n",
       "            vertical-align: top;\n",
       "            text-align: center;\n",
       "            position: relative;\n",
       "            border: 2px solid #ddd;\n",
       "            top: 0;\n",
       "            left: 0;\n",
       "        }\n",
       "\n",
       "        div.ipyplot-content-div-GWiTodfniaSqisneVVBeqh span.ipyplot-img-close {\n",
       "            display: none;\n",
       "        }\n",
       "\n",
       "        div.ipyplot-content-div-GWiTodfniaSqisneVVBeqh span {\n",
       "            width: 100%;\n",
       "            height: 100%;\n",
       "            position: absolute;\n",
       "            top: 0;\n",
       "            left: 0;\n",
       "        }\n",
       "\n",
       "        div.ipyplot-content-div-GWiTodfniaSqisneVVBeqh img {\n",
       "            width: 100px;\n",
       "        }\n",
       "\n",
       "        div.ipyplot-content-div-GWiTodfniaSqisneVVBeqh span.ipyplot-img-close:hover {\n",
       "            cursor: zoom-out;\n",
       "        }\n",
       "        div.ipyplot-content-div-GWiTodfniaSqisneVVBeqh span.ipyplot-img-expand:hover {\n",
       "            cursor: zoom-in;\n",
       "        }\n",
       "\n",
       "        div[id^=ipyplot-content-div-GWiTodfniaSqisneVVBeqh]:target {\n",
       "            transform: scale(2.5);\n",
       "            transform-origin: left top;\n",
       "            z-index: 5000;\n",
       "            top: 0;\n",
       "            left: 0;\n",
       "            position: absolute;\n",
       "        }\n",
       "\n",
       "        div[id^=ipyplot-content-div-GWiTodfniaSqisneVVBeqh]:target span.ipyplot-img-close {\n",
       "            display: block;\n",
       "        }\n",
       "\n",
       "        div[id^=ipyplot-content-div-GWiTodfniaSqisneVVBeqh]:target span.ipyplot-img-expand {\n",
       "            display: none;\n",
       "        }\n",
       "        </style>\n",
       "    <div id=\"ipyplot-imgs-container-div-GWiTodfniaSqisneVVBeqh\">\n",
       "    <div class=\"ipyplot-placeholder-div-GWiTodfniaSqisneVVBeqh\">\n",
       "        <div id=\"ipyplot-content-div-GWiTodfniaSqisneVVBeqh-K4DqWnHMNB7YDHoPfVhqPg\" class=\"ipyplot-content-div-GWiTodfniaSqisneVVBeqh\">\n",
       "            <h4 style=\"font-size: 12px; word-wrap: break-word;\">run_0</h4>\n",
       "            <img src=\"../logging/BreakoutNoFrameskip-v4--vanilla/gifs/BreakoutNoFrameskip-v4--vanilla-run_0.gif\"/>\n",
       "            <a href=\"#!\">\n",
       "                <span class=\"ipyplot-img-close\"/>\n",
       "            </a>\n",
       "            <a href=\"#ipyplot-content-div-GWiTodfniaSqisneVVBeqh-K4DqWnHMNB7YDHoPfVhqPg\">\n",
       "                <span class=\"ipyplot-img-expand\"/>\n",
       "            </a>\n",
       "        </div>\n",
       "    </div>\n",
       "    \n",
       "    <div class=\"ipyplot-placeholder-div-GWiTodfniaSqisneVVBeqh\">\n",
       "        <div id=\"ipyplot-content-div-GWiTodfniaSqisneVVBeqh-RZbHGKXK5zND7szVgjosgZ\" class=\"ipyplot-content-div-GWiTodfniaSqisneVVBeqh\">\n",
       "            <h4 style=\"font-size: 12px; word-wrap: break-word;\">run_1</h4>\n",
       "            <img src=\"../logging/BreakoutNoFrameskip-v4--vanilla/gifs/BreakoutNoFrameskip-v4--vanilla-run_1.gif\"/>\n",
       "            <a href=\"#!\">\n",
       "                <span class=\"ipyplot-img-close\"/>\n",
       "            </a>\n",
       "            <a href=\"#ipyplot-content-div-GWiTodfniaSqisneVVBeqh-RZbHGKXK5zND7szVgjosgZ\">\n",
       "                <span class=\"ipyplot-img-expand\"/>\n",
       "            </a>\n",
       "        </div>\n",
       "    </div>\n",
       "    \n",
       "    <div class=\"ipyplot-placeholder-div-GWiTodfniaSqisneVVBeqh\">\n",
       "        <div id=\"ipyplot-content-div-GWiTodfniaSqisneVVBeqh-bhDw7ctUeD6MtSGMeQ9hto\" class=\"ipyplot-content-div-GWiTodfniaSqisneVVBeqh\">\n",
       "            <h4 style=\"font-size: 12px; word-wrap: break-word;\">run_2</h4>\n",
       "            <img src=\"../logging/BreakoutNoFrameskip-v4--vanilla/gifs/BreakoutNoFrameskip-v4--vanilla-run_2.gif\"/>\n",
       "            <a href=\"#!\">\n",
       "                <span class=\"ipyplot-img-close\"/>\n",
       "            </a>\n",
       "            <a href=\"#ipyplot-content-div-GWiTodfniaSqisneVVBeqh-bhDw7ctUeD6MtSGMeQ9hto\">\n",
       "                <span class=\"ipyplot-img-expand\"/>\n",
       "            </a>\n",
       "        </div>\n",
       "    </div>\n",
       "    \n",
       "    <div class=\"ipyplot-placeholder-div-GWiTodfniaSqisneVVBeqh\">\n",
       "        <div id=\"ipyplot-content-div-GWiTodfniaSqisneVVBeqh-WB5g6xzRX889DR2UCogRQf\" class=\"ipyplot-content-div-GWiTodfniaSqisneVVBeqh\">\n",
       "            <h4 style=\"font-size: 12px; word-wrap: break-word;\">run_3</h4>\n",
       "            <img src=\"../logging/BreakoutNoFrameskip-v4--vanilla/gifs/BreakoutNoFrameskip-v4--vanilla-run_3.gif\"/>\n",
       "            <a href=\"#!\">\n",
       "                <span class=\"ipyplot-img-close\"/>\n",
       "            </a>\n",
       "            <a href=\"#ipyplot-content-div-GWiTodfniaSqisneVVBeqh-WB5g6xzRX889DR2UCogRQf\">\n",
       "                <span class=\"ipyplot-img-expand\"/>\n",
       "            </a>\n",
       "        </div>\n",
       "    </div>\n",
       "    \n",
       "    <div class=\"ipyplot-placeholder-div-GWiTodfniaSqisneVVBeqh\">\n",
       "        <div id=\"ipyplot-content-div-GWiTodfniaSqisneVVBeqh-jyuE8pxDCyDGy3AXuoxwP5\" class=\"ipyplot-content-div-GWiTodfniaSqisneVVBeqh\">\n",
       "            <h4 style=\"font-size: 12px; word-wrap: break-word;\">run_4</h4>\n",
       "            <img src=\"../logging/BreakoutNoFrameskip-v4--vanilla/gifs/BreakoutNoFrameskip-v4--vanilla-run_4.gif\"/>\n",
       "            <a href=\"#!\">\n",
       "                <span class=\"ipyplot-img-close\"/>\n",
       "            </a>\n",
       "            <a href=\"#ipyplot-content-div-GWiTodfniaSqisneVVBeqh-jyuE8pxDCyDGy3AXuoxwP5\">\n",
       "                <span class=\"ipyplot-img-expand\"/>\n",
       "            </a>\n",
       "        </div>\n",
       "    </div>\n",
       "    </div>\n",
       "        </textarea>\n",
       "    </div>\n",
       "    "
      ],
      "text/plain": [
       "<IPython.core.display.HTML object>"
      ]
     },
     "metadata": {},
     "output_type": "display_data"
    },
    {
     "data": {
      "text/html": [
       "\n",
       "        <style>\n",
       "        #ipyplot-imgs-container-div-GWiTodfniaSqisneVVBeqh {\n",
       "            width: 100%;\n",
       "            height: 100%;\n",
       "            margin: 0%;\n",
       "            overflow: auto;\n",
       "            position: relative;\n",
       "            overflow-y: scroll;\n",
       "        }\n",
       "\n",
       "        div.ipyplot-placeholder-div-GWiTodfniaSqisneVVBeqh {\n",
       "            width: 100px;\n",
       "            display: inline-block;\n",
       "            margin: 3px;\n",
       "            position: relative;\n",
       "        }\n",
       "\n",
       "        div.ipyplot-content-div-GWiTodfniaSqisneVVBeqh {\n",
       "            width: 100px;\n",
       "            background: white;\n",
       "            display: inline-block;\n",
       "            vertical-align: top;\n",
       "            text-align: center;\n",
       "            position: relative;\n",
       "            border: 2px solid #ddd;\n",
       "            top: 0;\n",
       "            left: 0;\n",
       "        }\n",
       "\n",
       "        div.ipyplot-content-div-GWiTodfniaSqisneVVBeqh span.ipyplot-img-close {\n",
       "            display: none;\n",
       "        }\n",
       "\n",
       "        div.ipyplot-content-div-GWiTodfniaSqisneVVBeqh span {\n",
       "            width: 100%;\n",
       "            height: 100%;\n",
       "            position: absolute;\n",
       "            top: 0;\n",
       "            left: 0;\n",
       "        }\n",
       "\n",
       "        div.ipyplot-content-div-GWiTodfniaSqisneVVBeqh img {\n",
       "            width: 100px;\n",
       "        }\n",
       "\n",
       "        div.ipyplot-content-div-GWiTodfniaSqisneVVBeqh span.ipyplot-img-close:hover {\n",
       "            cursor: zoom-out;\n",
       "        }\n",
       "        div.ipyplot-content-div-GWiTodfniaSqisneVVBeqh span.ipyplot-img-expand:hover {\n",
       "            cursor: zoom-in;\n",
       "        }\n",
       "\n",
       "        div[id^=ipyplot-content-div-GWiTodfniaSqisneVVBeqh]:target {\n",
       "            transform: scale(2.5);\n",
       "            transform-origin: left top;\n",
       "            z-index: 5000;\n",
       "            top: 0;\n",
       "            left: 0;\n",
       "            position: absolute;\n",
       "        }\n",
       "\n",
       "        div[id^=ipyplot-content-div-GWiTodfniaSqisneVVBeqh]:target span.ipyplot-img-close {\n",
       "            display: block;\n",
       "        }\n",
       "\n",
       "        div[id^=ipyplot-content-div-GWiTodfniaSqisneVVBeqh]:target span.ipyplot-img-expand {\n",
       "            display: none;\n",
       "        }\n",
       "        </style>\n",
       "    <div id=\"ipyplot-imgs-container-div-GWiTodfniaSqisneVVBeqh\">\n",
       "    <div class=\"ipyplot-placeholder-div-GWiTodfniaSqisneVVBeqh\">\n",
       "        <div id=\"ipyplot-content-div-GWiTodfniaSqisneVVBeqh-K4DqWnHMNB7YDHoPfVhqPg\" class=\"ipyplot-content-div-GWiTodfniaSqisneVVBeqh\">\n",
       "            <h4 style=\"font-size: 12px; word-wrap: break-word;\">run_0</h4>\n",
       "            <img src=\"../logging/BreakoutNoFrameskip-v4--vanilla/gifs/BreakoutNoFrameskip-v4--vanilla-run_0.gif\"/>\n",
       "            <a href=\"#!\">\n",
       "                <span class=\"ipyplot-img-close\"/>\n",
       "            </a>\n",
       "            <a href=\"#ipyplot-content-div-GWiTodfniaSqisneVVBeqh-K4DqWnHMNB7YDHoPfVhqPg\">\n",
       "                <span class=\"ipyplot-img-expand\"/>\n",
       "            </a>\n",
       "        </div>\n",
       "    </div>\n",
       "    \n",
       "    <div class=\"ipyplot-placeholder-div-GWiTodfniaSqisneVVBeqh\">\n",
       "        <div id=\"ipyplot-content-div-GWiTodfniaSqisneVVBeqh-RZbHGKXK5zND7szVgjosgZ\" class=\"ipyplot-content-div-GWiTodfniaSqisneVVBeqh\">\n",
       "            <h4 style=\"font-size: 12px; word-wrap: break-word;\">run_1</h4>\n",
       "            <img src=\"../logging/BreakoutNoFrameskip-v4--vanilla/gifs/BreakoutNoFrameskip-v4--vanilla-run_1.gif\"/>\n",
       "            <a href=\"#!\">\n",
       "                <span class=\"ipyplot-img-close\"/>\n",
       "            </a>\n",
       "            <a href=\"#ipyplot-content-div-GWiTodfniaSqisneVVBeqh-RZbHGKXK5zND7szVgjosgZ\">\n",
       "                <span class=\"ipyplot-img-expand\"/>\n",
       "            </a>\n",
       "        </div>\n",
       "    </div>\n",
       "    \n",
       "    <div class=\"ipyplot-placeholder-div-GWiTodfniaSqisneVVBeqh\">\n",
       "        <div id=\"ipyplot-content-div-GWiTodfniaSqisneVVBeqh-bhDw7ctUeD6MtSGMeQ9hto\" class=\"ipyplot-content-div-GWiTodfniaSqisneVVBeqh\">\n",
       "            <h4 style=\"font-size: 12px; word-wrap: break-word;\">run_2</h4>\n",
       "            <img src=\"../logging/BreakoutNoFrameskip-v4--vanilla/gifs/BreakoutNoFrameskip-v4--vanilla-run_2.gif\"/>\n",
       "            <a href=\"#!\">\n",
       "                <span class=\"ipyplot-img-close\"/>\n",
       "            </a>\n",
       "            <a href=\"#ipyplot-content-div-GWiTodfniaSqisneVVBeqh-bhDw7ctUeD6MtSGMeQ9hto\">\n",
       "                <span class=\"ipyplot-img-expand\"/>\n",
       "            </a>\n",
       "        </div>\n",
       "    </div>\n",
       "    \n",
       "    <div class=\"ipyplot-placeholder-div-GWiTodfniaSqisneVVBeqh\">\n",
       "        <div id=\"ipyplot-content-div-GWiTodfniaSqisneVVBeqh-WB5g6xzRX889DR2UCogRQf\" class=\"ipyplot-content-div-GWiTodfniaSqisneVVBeqh\">\n",
       "            <h4 style=\"font-size: 12px; word-wrap: break-word;\">run_3</h4>\n",
       "            <img src=\"../logging/BreakoutNoFrameskip-v4--vanilla/gifs/BreakoutNoFrameskip-v4--vanilla-run_3.gif\"/>\n",
       "            <a href=\"#!\">\n",
       "                <span class=\"ipyplot-img-close\"/>\n",
       "            </a>\n",
       "            <a href=\"#ipyplot-content-div-GWiTodfniaSqisneVVBeqh-WB5g6xzRX889DR2UCogRQf\">\n",
       "                <span class=\"ipyplot-img-expand\"/>\n",
       "            </a>\n",
       "        </div>\n",
       "    </div>\n",
       "    \n",
       "    <div class=\"ipyplot-placeholder-div-GWiTodfniaSqisneVVBeqh\">\n",
       "        <div id=\"ipyplot-content-div-GWiTodfniaSqisneVVBeqh-jyuE8pxDCyDGy3AXuoxwP5\" class=\"ipyplot-content-div-GWiTodfniaSqisneVVBeqh\">\n",
       "            <h4 style=\"font-size: 12px; word-wrap: break-word;\">run_4</h4>\n",
       "            <img src=\"../logging/BreakoutNoFrameskip-v4--vanilla/gifs/BreakoutNoFrameskip-v4--vanilla-run_4.gif\"/>\n",
       "            <a href=\"#!\">\n",
       "                <span class=\"ipyplot-img-close\"/>\n",
       "            </a>\n",
       "            <a href=\"#ipyplot-content-div-GWiTodfniaSqisneVVBeqh-jyuE8pxDCyDGy3AXuoxwP5\">\n",
       "                <span class=\"ipyplot-img-expand\"/>\n",
       "            </a>\n",
       "        </div>\n",
       "    </div>\n",
       "    </div>"
      ],
      "text/plain": [
       "<IPython.core.display.HTML object>"
      ]
     },
     "metadata": {},
     "output_type": "display_data"
    }
   ],
   "source": [
    "# Display gifs\n",
    "gif_paths = [f\"{gif_dir}/{exp_name}-run_{experiment}.gif\" for experiment in EXPERIMENT_NOS]\n",
    "labels = [f\"run_{experiment}\" for experiment in EXPERIMENT_NOS]\n",
    "ipyplot.plot_images(gif_paths, labels, \n",
    "                    max_images=len(gif_paths), \n",
    "                    img_width=100, \n",
    "                    show_url=False)"
   ]
  },
  {
   "cell_type": "code",
   "execution_count": null,
   "id": "8a22cdc4-13df-497f-bf30-68018914f412",
   "metadata": {
    "jupyter": {
     "source_hidden": true
    }
   },
   "outputs": [],
   "source": []
  }
 ],
 "metadata": {
  "kernelspec": {
   "display_name": "Python 3 (ipykernel)",
   "language": "python",
   "name": "python3"
  },
  "language_info": {
   "codemirror_mode": {
    "name": "ipython",
    "version": 3
   },
   "file_extension": ".py",
   "mimetype": "text/x-python",
   "name": "python",
   "nbconvert_exporter": "python",
   "pygments_lexer": "ipython3",
   "version": "3.10.6"
  }
 },
 "nbformat": 4,
 "nbformat_minor": 5
}
