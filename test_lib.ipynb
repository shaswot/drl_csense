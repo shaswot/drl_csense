{
 "cells": [
  {
   "cell_type": "code",
   "execution_count": 1,
   "id": "012ae171-3f1f-48a0-b266-454c1383ed4d",
   "metadata": {},
   "outputs": [],
   "source": [
    "import os\n",
    "import sys\n",
    "import git\n",
    "import pathlib\n",
    "\n",
    "os.environ['TF_CPP_MIN_LOG_LEVEL'] = '3'\n",
    "\n",
    "PROJ_ROOT_PATH = pathlib.Path(git.Repo('.', search_parent_directories=True).working_tree_dir)\n",
    "PROJ_ROOT =  str(PROJ_ROOT_PATH)\n",
    "if PROJ_ROOT not in sys.path:\n",
    "    sys.path.append(PROJ_ROOT)"
   ]
  },
  {
   "cell_type": "code",
   "execution_count": 2,
   "id": "8f4fd9da-28d9-4c7e-bc1e-6c9e4b41ad27",
   "metadata": {},
   "outputs": [],
   "source": [
    "from stable_baselines3 import A2C\n",
    "from lib.resultsviz import eval_single_run\n",
    "\n",
    "# Specify experiment\n",
    "\n",
    "env_id = \"BreakoutNoFrameskip-v4\"\n",
    "exp_tag = f\"vanilla\"\n",
    "# sparsity = 0.2\n",
    "# exp_tag = f\"sparse_{sparsity}\"\n",
    "exp_name = f\"{env_id}--{exp_tag}\""
   ]
  },
  {
   "cell_type": "code",
   "execution_count": 4,
   "id": "4ae50b00-a465-4dbe-82ab-26f287e2f422",
   "metadata": {},
   "outputs": [
    {
     "name": "stderr",
     "output_type": "stream",
     "text": [
      "/usr/local/lib/python3.10/dist-packages/gymnasium/utils/passive_env_checker.py:364: UserWarning: \u001b[33mWARN: No render fps was declared in the environment (env.metadata['render_fps'] is None or not defined), rendering may occur at inconsistent fps.\u001b[0m\n",
      "  logger.warn(\n"
     ]
    }
   ],
   "source": [
    "from lib.resultsviz import generate_gif_single_run\n",
    "run_no=0\n",
    "model_type=\"last\"\n",
    "algorithm = A2C\n",
    "\n",
    "seed=4598\n",
    "sparsity=0.1\n",
    "\n",
    "obs_gif_file, img_gif_file = generate_gif_single_run(# model_params\n",
    "                                                        exp_name,\n",
    "                                                        run_no,\n",
    "                                                        model_type, \n",
    "                                                        algorithm,\n",
    "                                                    # env params\n",
    "                                                        seed,  \n",
    "                                                        sparsity,\n",
    "                                                    # anim params\n",
    "                                                        duration=5, \n",
    "                                                        fps=120)"
   ]
  },
  {
   "cell_type": "code",
   "execution_count": null,
   "id": "030014e5-23ae-45fd-88f7-278280a1b268",
   "metadata": {},
   "outputs": [],
   "source": [
    "# Training Statistics"
   ]
  },
  {
   "cell_type": "code",
   "execution_count": null,
   "id": "087f194d-b64c-4d22-9598-4ed454549a93",
   "metadata": {},
   "outputs": [],
   "source": [
    "# from lib.resultsviz import plot_single_run_rewards\n",
    "# plot_single_run_rewards(exp_name, run_no=4, window=50, savefig=True)"
   ]
  },
  {
   "cell_type": "code",
   "execution_count": null,
   "id": "ba213dcd-2cc0-41b6-aca2-ebdfbdf49400",
   "metadata": {},
   "outputs": [],
   "source": [
    "# from lib.resultsviz import plot_all_run_rewards\n",
    "# plot_all_run_rewards(exp_name, window=50, savefig=True)"
   ]
  },
  {
   "cell_type": "code",
   "execution_count": null,
   "id": "285dd551-4cae-461d-87ea-1b7a5e50f35f",
   "metadata": {},
   "outputs": [],
   "source": [
    "# from lib.resultsviz import plot_all_run_average_rewards\n",
    "# plot_all_run_average_rewards(exp_name, window=50, err_type=\"range\", color=\"blue\", savefig=True)"
   ]
  },
  {
   "cell_type": "code",
   "execution_count": null,
   "id": "390a8857-fd60-4433-bae0-1ffcf1842a3b",
   "metadata": {},
   "outputs": [],
   "source": [
    "from lib.resultsviz import eval_single_run, plot_eval_all_run"
   ]
  },
  {
   "cell_type": "code",
   "execution_count": null,
   "id": "49178f4b-eac1-40f3-97bc-3ee9b244f310",
   "metadata": {},
   "outputs": [],
   "source": [
    "# RUN = 0\n",
    "# mean_reward, std_reward = eval_single_run(# model_params\n",
    "#                                         exp_name=exp_name, \n",
    "#                                         run_no=RUN, \n",
    "#                                         model_type=\"best\", \n",
    "#                                         # env_params\n",
    "#                                         n_envs=3, \n",
    "#                                         seed=2345, \n",
    "#                                         sparsity=0.0, \n",
    "#                                         algorithm=A2C,\n",
    "#                                         # eval_params\n",
    "#                                         NUM_EPISODES=2)\n",
    "# print(f\"{mean_reward=}, {std_reward=}\")"
   ]
  },
  {
   "cell_type": "code",
   "execution_count": null,
   "id": "1a68a5cd-7559-476e-83c5-8bb27b6f0418",
   "metadata": {},
   "outputs": [],
   "source": [
    "# RUN = 0\n",
    "# mean_reward, std_reward = eval_single_run(# model_params\n",
    "#                                         exp_name=exp_name, \n",
    "#                                         run_no=RUN, \n",
    "#                                         model_type=\"best\", \n",
    "#                                         # env_params\n",
    "#                                         n_envs=3, \n",
    "#                                         seed=2345, \n",
    "#                                         sparsity=0.2, \n",
    "#                                         algorithm=A2C,\n",
    "#                                         # eval_params\n",
    "#                                         NUM_EPISODES=2)\n",
    "# print(f\"{mean_reward=}, {std_reward=}\")"
   ]
  },
  {
   "cell_type": "code",
   "execution_count": null,
   "id": "9e19f53e-b5db-49b6-8d9f-9d0902643130",
   "metadata": {},
   "outputs": [],
   "source": [
    "# print(exp_name)\n",
    "# plot_eval_all_run(# model_params\n",
    "#                 exp_name=exp_name, \n",
    "#                 model_type=\"best\", \n",
    "#                 # env_params\n",
    "#                 n_envs=3, \n",
    "#                 seed=34, \n",
    "#                 sparsity=0.2, \n",
    "#                 algorithm=A2C,\n",
    "#                 # eval_params\n",
    "#                 NUM_EPISODES=2, \n",
    "#                 # fig params\n",
    "#                 savefig=False)"
   ]
  },
  {
   "cell_type": "code",
   "execution_count": null,
   "id": "74363f56-4961-4c13-b21f-d61f97e6c0be",
   "metadata": {},
   "outputs": [],
   "source": [
    "# print(exp_name)\n",
    "# plot_eval_all_run(# model_params\n",
    "#                 exp_name=exp_name, \n",
    "#                 model_type=\"last\", \n",
    "#                 # env_params\n",
    "#                 n_envs=3, \n",
    "#                 seed=34, \n",
    "#                 sparsity=0.2, \n",
    "#                 algorithm=A2C,\n",
    "#                 # eval_params\n",
    "#                 NUM_EPISODES=2, \n",
    "#                 # fig params\n",
    "#                 savefig=False)"
   ]
  },
  {
   "cell_type": "code",
   "execution_count": null,
   "id": "7016d1ba-d986-42c7-9962-5e9d1bab10f1",
   "metadata": {},
   "outputs": [],
   "source": [
    "# print(exp_name)\n",
    "# plot_eval_all_run(# model_params\n",
    "#                 exp_name=exp_name, \n",
    "#                 model_type=\"last\", \n",
    "#                 # env_params\n",
    "#                 n_envs=3, \n",
    "#                 seed=34, \n",
    "#                 sparsity=0.0, \n",
    "#                 algorithm=A2C,\n",
    "#                 # eval_params\n",
    "#                 NUM_EPISODES=2, \n",
    "#                 # fig params\n",
    "#                 savefig=False)"
   ]
  },
  {
   "cell_type": "code",
   "execution_count": null,
   "id": "8557e5e5-d281-4163-8ef3-00ca0aa8173c",
   "metadata": {},
   "outputs": [],
   "source": []
  },
  {
   "cell_type": "code",
   "execution_count": null,
   "id": "abdfbf50-cb19-4d42-8ffc-91efb7d4b839",
   "metadata": {},
   "outputs": [],
   "source": []
  },
  {
   "cell_type": "code",
   "execution_count": null,
   "id": "9bab6a3f-1989-4b21-b1c5-43ba15400e44",
   "metadata": {},
   "outputs": [],
   "source": []
  },
  {
   "cell_type": "code",
   "execution_count": null,
   "id": "81f92a05-5c4f-4437-821e-f89037382906",
   "metadata": {},
   "outputs": [],
   "source": []
  }
 ],
 "metadata": {
  "kernelspec": {
   "display_name": "Python 3 (ipykernel)",
   "language": "python",
   "name": "python3"
  },
  "language_info": {
   "codemirror_mode": {
    "name": "ipython",
    "version": 3
   },
   "file_extension": ".py",
   "mimetype": "text/x-python",
   "name": "python",
   "nbconvert_exporter": "python",
   "pygments_lexer": "ipython3",
   "version": "3.10.6"
  }
 },
 "nbformat": 4,
 "nbformat_minor": 5
}
