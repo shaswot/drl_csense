{
 "cells": [
  {
   "cell_type": "code",
   "execution_count": 1,
   "id": "07ecbab1-9a2a-4681-89c5-2be7b91e5118",
   "metadata": {},
   "outputs": [],
   "source": [
    "# import argparse\n",
    "import datetime\n",
    "\n",
    "start = datetime.datetime.now()\n",
    "\n",
    "# # define arguments\n",
    "# parser = argparse.ArgumentParser()\n",
    "# parser.add_argument('--env_id', type=str)\n",
    "# parser.add_argument('--exp_param_type', type=str) # \"compress\"\n",
    "# parser.add_argument('--exp_param_value', type=float)\n",
    "# parser.add_argument('--run_no', type=int)\n",
    "# parser.add_argument('--n_envs', type=int)\n",
    "# parser.add_argument('--run_seed', type=int)\n",
    "# parser.add_argument('--trainsteps', type=int)\n",
    "# parser.add_argument('--gpu_id', type=int)\n",
    "\n",
    "# args= parser.parse_args()\n",
    "\n",
    "# env_id = args.env_id\n",
    "# exp_param_type = args.exp_param_type # \"compress\"\n",
    "# exp_param_value = args.exp_param_value # compression ratio for each frame\n",
    "# compress_ratio = exp_param_value\n",
    "# run_no = args.run_no\n",
    "# gpu_id = args.gpu_id\n",
    "# NUM_ENVS = args.n_envs # The different number of processes that will be used\n",
    "# TRAIN_STEPS = args.trainsteps # TRAIN_STEPS = 3E7 should result in 12E7 timesteps due to VecStack=4\n",
    "# run_seed = args.run_seed"
   ]
  },
  {
   "cell_type": "code",
   "execution_count": 2,
   "id": "8ea80cf9-cc9d-4a1c-826c-dc665c2ed955",
   "metadata": {},
   "outputs": [],
   "source": [
    "env_id = 'BipedalWalker-v3'\n",
    "\n",
    "agent_param_type = \"vanilla\"\n",
    "agent_param_value = 0\n",
    "agent_run_no = 0\n",
    "\n",
    "gpu_id = 0\n",
    "NUM_ENVS = 5 # The different number of processes that will be used\n",
    "# TRAIN_STEPS = 1E6 # TRAIN_STEPS = 3E7 should result in 12E7 timesteps due to VecStack=4"
   ]
  },
  {
   "cell_type": "code",
   "execution_count": 3,
   "id": "54cd0ad9-0580-4c01-b145-89fd0c6c597a",
   "metadata": {},
   "outputs": [],
   "source": [
    "import torch\n",
    "torch.cuda.set_device(gpu_id)"
   ]
  },
  {
   "cell_type": "code",
   "execution_count": 4,
   "id": "1a9631a1-c5b6-4f7f-a7c1-08516ac3321a",
   "metadata": {},
   "outputs": [
    {
     "name": "stdout",
     "output_type": "stream",
     "text": [
      "Project Root Directory: /repos/drl_csense\n"
     ]
    }
   ],
   "source": [
    "import os\n",
    "import sys\n",
    "import git\n",
    "import pathlib\n",
    "os.environ['TF_CPP_MIN_LOG_LEVEL'] = '3' \n",
    "\n",
    "PROJ_ROOT_PATH = pathlib.Path(git.Repo('.', search_parent_directories=True).working_tree_dir)\n",
    "PROJ_ROOT =  str(PROJ_ROOT_PATH)\n",
    "if PROJ_ROOT not in sys.path:\n",
    "    sys.path.append(PROJ_ROOT)\n",
    "\n",
    "print(f\"Project Root Directory: {PROJ_ROOT}\")"
   ]
  },
  {
   "cell_type": "code",
   "execution_count": 5,
   "id": "fc0d3315-0bd7-4000-888f-96683a469bfe",
   "metadata": {},
   "outputs": [],
   "source": [
    "import numpy as np\n",
    "import matplotlib.pyplot as plt\n",
    "\n",
    "import gymnasium as gym\n",
    "from stable_baselines3 import PPO, SAC\n",
    "from stable_baselines3.common.vec_env import DummyVecEnv\n",
    "from stable_baselines3.common.env_util import make_vec_env\n",
    "from stable_baselines3.common.evaluation import evaluate_policy\n",
    "\n",
    "from lib.folder_paths import get_exp_name_tag, deconstruct_exp_name, makeget_logging_dir\n",
    "# from lib.env_utils import AtariWrapper_NoisyFrame, AtariWrapper_Compressed, make_atari_env_Custom_VecFrameStack, SaveBestModelCallback\n",
    "from lib.env_utils import SaveBestModelCallback\n",
    "from lib.vizresults import plot_single_run_rewards"
   ]
  },
  {
   "cell_type": "code",
   "execution_count": 6,
   "id": "679f763e-384b-462b-90bc-b568ec51100b",
   "metadata": {},
   "outputs": [],
   "source": [
    "from collections import deque\n",
    "import scipy.fftpack as spfft\n",
    "from sklearn.linear_model import Lasso\n",
    "\n",
    "import warnings\n",
    "warnings.filterwarnings('ignore')\n",
    "# warnings.filterwarnings('default')"
   ]
  },
  {
   "cell_type": "code",
   "execution_count": 7,
   "id": "85cd0cf2-937f-494d-8fc4-cedca44dbc63",
   "metadata": {},
   "outputs": [
    {
     "name": "stdout",
     "output_type": "stream",
     "text": [
      "Agent: BipedalWalker-v3--vanilla_0\n",
      "Using device: 0\n",
      "-------\n",
      "RUN: 0\n"
     ]
    }
   ],
   "source": [
    "# Get names and tags of experiment\n",
    "exp_name, exp_metaname, exp_tag = get_exp_name_tag(env_id, agent_param_type, agent_param_value)\n",
    "\n",
    "print(f\"Agent: {exp_name}\")\n",
    "print(f\"Using device: {torch.cuda.current_device()}\")\n",
    "\n",
    "# Get directories\n",
    "models_dir, log_dir, gif_dir, image_dir = makeget_logging_dir(exp_name)\n",
    "\n",
    "# ALgorithm to use\n",
    "ALGO_TYPE = \"SAC\"\n",
    "# ALGO_TYPE = \"SAC\"\n",
    "\n",
    "ALGO_DICT = {\"SAC\": SAC, \n",
    "             \"PPO\": PPO}\n",
    "ALGO = ALGO_DICT[ALGO_TYPE]\n",
    "\n",
    "# Start Experiment\n",
    "print(\"-------\")\n",
    "print(f\"RUN: {agent_run_no}\")\n",
    "\n",
    "# Log directory for each run of the experiment\n",
    "run_log_dir = f\"{log_dir}/eval/run_{agent_run_no}\"\n",
    "eval_agent = ALGO.load(f\"{models_dir}/{exp_name}-run_{agent_run_no}-{ALGO_TYPE}\")"
   ]
  },
  {
   "cell_type": "code",
   "execution_count": 8,
   "id": "40d22af0-fe89-41db-8c96-a3d396d10316",
   "metadata": {},
   "outputs": [
    {
     "data": {
      "text/plain": [
       "'/repos/drl_csense/models/BipedalWalker-v3--vanilla/BipedalWalker-v3--vanilla_0/BipedalWalker-v3--vanilla_0-run_0-SAC'"
      ]
     },
     "execution_count": 8,
     "metadata": {},
     "output_type": "execute_result"
    }
   ],
   "source": [
    "f\"{models_dir}/{exp_name}-run_{agent_run_no}-{ALGO_TYPE}\""
   ]
  },
  {
   "cell_type": "code",
   "execution_count": 9,
   "id": "9510634e-a501-4bf9-b617-4a04b7503d13",
   "metadata": {},
   "outputs": [],
   "source": [
    "MAX_ITER = int(1000)\n",
    "alpha = 1e-3\n",
    "num_stack = 25\n",
    "A = spfft.idct(np.identity(num_stack), norm='ortho', axis=0)\n",
    "lasso = Lasso(alpha=alpha, max_iter=MAX_ITER, warm_start=False, selection=\"random\")\n",
    "\n",
    "def reconstruct(lasso, A, noisy_signal):\n",
    "    idx_nonzero = np.where(noisy_signal != 0)[0]\n",
    "    Ac = A[idx_nonzero,:]\n",
    "    b = noisy_signal[idx_nonzero]\n",
    "    lasso.fit(Ac, b)\n",
    "    Xat = np.array(lasso.coef_)\n",
    "    Xa = spfft.idct(Xat,norm='ortho', axis=0 )\n",
    "    return Xa\n",
    "\n",
    "class RemoveAndRecover(gym.ObservationWrapper):\n",
    "    def __init__(self, env: gym.Env, noise: float, num_stack: int, recover: bool):\n",
    "        super().__init__(env)\n",
    "        self.noise = noise\n",
    "        self.num_stack = num_stack\n",
    "\n",
    "        self.recover = recover\n",
    "        self.raw_observation = None\n",
    "        self.noisy_observation = None\n",
    "        \n",
    "        self.frames = deque(maxlen=self.num_stack)\n",
    "\n",
    "        self.MAX_ITER = int(1000)\n",
    "        self.alpha = 1e-5\n",
    "        self.A = spfft.idct(np.identity(self.num_stack), \n",
    "                            norm='ortho', \n",
    "                            axis=0)\n",
    "        self.lasso = Lasso(alpha=self.alpha, \n",
    "                           max_iter=self.MAX_ITER,\n",
    "                           warm_start=False, \n",
    "                           selection=\"random\")\n",
    "\n",
    "    def observation(self, observation):\n",
    "        # these dimensions are not compressible and so not corrupted by noise\n",
    "        non_CS_dims = [1,4,5,6,7,8,10,11,12,13,23]\n",
    "        # these dimensions are compressible and we shall corrupt them with noise\n",
    "        CS_dims = [0,2,3,9,14,15,16,17,18,19,20,21,22]\n",
    "\n",
    "        # add noise\n",
    "        if self.noise == 0.0: # no noise added\n",
    "            self.frames.append(observation)\n",
    "            self.noisy_observation = observation\n",
    "            return observation\n",
    "        else:\n",
    "            try:\n",
    "                0.0 <= self.noise < 1.0\n",
    "            except ValueError:\n",
    "                print(f\"Value of noise has to be in range [0,1). Got noise={noise}\")\n",
    "            noisemask = self.np_random.choice(a=[False, True], \n",
    "                                              size=observation.shape,\n",
    "                                              p=[self.noise, 1.0-self.noise])\n",
    "            dim_mask = np.zeros(shape=observation.shape)\n",
    "            # these dimensions are not corrupted by noise\n",
    "            dim_mask[non_CS_dims] = True\n",
    "            noisemask = np.logical_or(noisemask, dim_mask)\n",
    "            # print(noisemask)\n",
    "            observation = noisemask * observation\n",
    "            self.noisy_observation = observation.copy()\n",
    "\n",
    "            if not self.recover:\n",
    "                return observation\n",
    "            else:\n",
    "                # Do reconstruction\n",
    "                # if none of the CS dims are zero, pass observation as it is\n",
    "                CS_obs = observation[CS_dims]\n",
    "                if np.all(CS_obs): # if none of the observation values is zero\n",
    "                    # print(\"CS not active\")\n",
    "                    self.frames.append(observation)\n",
    "                    return observation # pass observation as it is because CS is not required\n",
    "                else: # otherwise\n",
    "                    # print(\"CS active\")\n",
    "                    frame_array = np.array(self.frames).squeeze()\n",
    "                    for dim in CS_dims: # for each dimension in observation\n",
    "                        if observation[dim] == 0.0: # if the value of the dimension is zero (i.e., missing), use CS\n",
    "                            noisy_signal = frame_array[:,dim]\n",
    "                            reconstructed_signal = reconstruct(self.lasso, self.A, noisy_signal ) + np.mean(noisy_signal)\n",
    "                            observation[dim] = reconstructed_signal[-1]\n",
    "                    self.frames.append(observation)\n",
    "                    return observation\n",
    "                \n",
    "    def step(self, action):\n",
    "        observation, reward, terminated, truncated, info = self.env.step(action)\n",
    "        self.raw_observation = observation\n",
    "        return self.observation(observation), reward, terminated, truncated, info\n",
    "    \n",
    "    def reset(self, **kwargs):\n",
    "        obs, info = self.env.reset(**kwargs)\n",
    "        [self.frames.append(obs) for _ in range(self.num_stack)]\n",
    "        return obs, info        "
   ]
  },
  {
   "cell_type": "code",
   "execution_count": 10,
   "id": "e138b63d-ce1a-4908-bbfb-8729f55d4f79",
   "metadata": {},
   "outputs": [
    {
     "name": "stdout",
     "output_type": "stream",
     "text": [
      "Run: 0\n",
      "Run: 1\n",
      "Run: 2\n",
      "Run: 3\n",
      "Run: 4\n"
     ]
    }
   ],
   "source": [
    "# Load and evaluate trained model\n",
    "wrapper = RemoveAndRecover\n",
    "noise_list = [0.0, 0.1, 0.2, 0.3, 0.4, 0.5, 0.6, 0.7, 0.8]\n",
    "run_mother_seed = 20230930\n",
    "\n",
    "non_CS_means = []\n",
    "CS_means = []\n",
    "\n",
    "for run in range(5):\n",
    "    run_seed = run_mother_seed + run\n",
    "    print(f\"Run: {run}\")\n",
    "    for noise in noise_list:\n",
    "        # Evaluation without CS recovery\n",
    "        wrapper_kwargs = {\"noise\":noise,\n",
    "                     \"num_stack\":num_stack,\n",
    "                     \"recover\": False}\n",
    "    \n",
    "        eval_env = make_vec_env(env_id, \n",
    "                               n_envs=NUM_ENVS,\n",
    "                               monitor_dir=run_log_dir,\n",
    "                               seed=run_seed,\n",
    "                                wrapper_class=wrapper,\n",
    "                                wrapper_kwargs = wrapper_kwargs,\n",
    "                               vec_env_cls=DummyVecEnv)\n",
    "        mean_reward, std_reward = evaluate_policy(eval_agent, eval_env, n_eval_episodes=5)\n",
    "        # print(f\"{noise=}, {mean_reward=}\")\n",
    "        non_CS_means.append(mean_reward)\n",
    "\n",
    "        # Evaluation with CS recovery\n",
    "        wrapper_kwargs = {\"noise\":noise,\n",
    "                         \"num_stack\":num_stack,\n",
    "                         \"recover\": True}\n",
    "    \n",
    "        eval_env = make_vec_env(env_id, \n",
    "                               n_envs=NUM_ENVS,\n",
    "                               monitor_dir=run_log_dir,\n",
    "                               seed=run_seed,\n",
    "                                wrapper_class=wrapper,\n",
    "                                wrapper_kwargs = wrapper_kwargs,\n",
    "                               vec_env_cls=DummyVecEnv)\n",
    "        mean_reward, std_reward = evaluate_policy(eval_agent, eval_env, n_eval_episodes=5)\n",
    "        # print(f\"{noise=}, {mean_reward=}\")\n",
    "        CS_means.append(mean_reward)"
   ]
  },
  {
   "cell_type": "code",
   "execution_count": 11,
   "id": "66f05f51-3be0-4049-bd3d-aed13e1004c4",
   "metadata": {},
   "outputs": [],
   "source": [
    "nonCSmeans = np.array(non_CS_means).reshape(-1, len(noise_list))\n",
    "CSmeans = np.array(CS_means).reshape(-1, len(noise_list))"
   ]
  },
  {
   "cell_type": "code",
   "execution_count": 12,
   "id": "2c972978-d115-477a-a605-c57a03eff27b",
   "metadata": {},
   "outputs": [],
   "source": [
    "np.save(f\"noncsmeans_{agent_run_no}\", nonCSmeans)\n",
    "np.save(f\"csmeans_{agent_run_no}\", CSmeans)"
   ]
  },
  {
   "cell_type": "code",
   "execution_count": 13,
   "id": "1be06d85-9380-41ee-ba51-9b01c45d8bd2",
   "metadata": {},
   "outputs": [],
   "source": [
    "nonCSmeans_mean = np.mean(nonCSmeans, axis=0)\n",
    "nonCSmeans_std = np.std(nonCSmeans, axis=0)\n",
    "\n",
    "CSmeans_mean = np.mean(CSmeans, axis=0)\n",
    "CSmeans_std = np.std(CSmeans, axis=0)"
   ]
  },
  {
   "cell_type": "code",
   "execution_count": 14,
   "id": "49af9790-1314-4456-8945-993d57d0f209",
   "metadata": {},
   "outputs": [
    {
     "data": {
      "text/plain": [
       "<BarContainer object of 9 artists>"
      ]
     },
     "execution_count": 14,
     "metadata": {},
     "output_type": "execute_result"
    },
    {
     "data": {
      "image/png": "[encoded data removed]",
      "text/plain": [
       "<Figure size 640x480 with 1 Axes>"
      ]
     },
     "metadata": {},
     "output_type": "display_data"
    }
   ],
   "source": [
    "plt.bar(np.arange(len(CSmeans_mean)), CSmeans_mean, yerr=CSmeans_std, align='center', ecolor='black', capsize=5)\n",
    "plt.bar(np.arange(len(nonCSmeans_mean)), nonCSmeans_mean, yerr=nonCSmeans_std, align='center', ecolor='black', capsize=5)"
   ]
  }
 ],
 "metadata": {
  "kernelspec": {
   "display_name": "Python 3 (ipykernel)",
   "language": "python",
   "name": "python3"
  },
  "language_info": {
   "codemirror_mode": {
    "name": "ipython",
    "version": 3
   },
   "file_extension": ".py",
   "mimetype": "text/x-python",
   "name": "python",
   "nbconvert_exporter": "python",
   "pygments_lexer": "ipython3",
   "version": "3.10.6"
  }
 },
 "nbformat": 4,
 "nbformat_minor": 5
}
