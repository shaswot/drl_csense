{
 "cells": [
  {
   "cell_type": "code",
   "execution_count": 1,
   "id": "07ecbab1-9a2a-4681-89c5-2be7b91e5118",
   "metadata": {},
   "outputs": [],
   "source": [
    "# import argparse\n",
    "import datetime\n",
    "\n",
    "start = datetime.datetime.now()\n",
    "\n",
    "# # define arguments\n",
    "# parser = argparse.ArgumentParser()\n",
    "# parser.add_argument('--env_id', type=str)\n",
    "# parser.add_argument('--exp_param_type', type=str) # \"compress\"\n",
    "# parser.add_argument('--exp_param_value', type=float)\n",
    "# parser.add_argument('--run_no', type=int)\n",
    "# parser.add_argument('--n_envs', type=int)\n",
    "# parser.add_argument('--run_seed', type=int)\n",
    "# parser.add_argument('--trainsteps', type=int)\n",
    "# parser.add_argument('--gpu_id', type=int)\n",
    "\n",
    "# args= parser.parse_args()\n",
    "\n",
    "# env_id = args.env_id\n",
    "# exp_param_type = args.exp_param_type # \"compress\"\n",
    "# exp_param_value = args.exp_param_value # compression ratio for each frame\n",
    "# compress_ratio = exp_param_value\n",
    "# run_no = args.run_no\n",
    "# gpu_id = args.gpu_id\n",
    "# NUM_ENVS = args.n_envs # The different number of processes that will be used\n",
    "# TRAIN_STEPS = args.trainsteps # TRAIN_STEPS = 3E7 should result in 12E7 timesteps due to VecStack=4\n",
    "# run_seed = args.run_seed"
   ]
  },
  {
   "cell_type": "code",
   "execution_count": 2,
   "id": "8ea80cf9-cc9d-4a1c-826c-dc665c2ed955",
   "metadata": {},
   "outputs": [],
   "source": [
    "env_id = 'BipedalWalker-v3'\n",
    "exp_param_type = \"vanilla\"\n",
    "exp_param_value = \"0\" # noise parameter\n",
    "run_no = 0\n",
    "gpu_id = 2\n",
    "NUM_ENVS = 5 # The different number of processes that will be used\n",
    "TRAIN_STEPS = 1E6 # TRAIN_STEPS = 3E7 should result in 12E7 timesteps due to VecStack=4\n",
    "# run_seed = 20230912"
   ]
  },
  {
   "cell_type": "code",
   "execution_count": 3,
   "id": "54cd0ad9-0580-4c01-b145-89fd0c6c597a",
   "metadata": {},
   "outputs": [],
   "source": [
    "import torch\n",
    "torch.cuda.set_device(gpu_id)"
   ]
  },
  {
   "cell_type": "code",
   "execution_count": 4,
   "id": "1a9631a1-c5b6-4f7f-a7c1-08516ac3321a",
   "metadata": {},
   "outputs": [
    {
     "name": "stdout",
     "output_type": "stream",
     "text": [
      "Project Root Directory: /repos/drl_csense\n"
     ]
    }
   ],
   "source": [
    "import os\n",
    "import sys\n",
    "import git\n",
    "import pathlib\n",
    "os.environ['TF_CPP_MIN_LOG_LEVEL'] = '3' \n",
    "\n",
    "PROJ_ROOT_PATH = pathlib.Path(git.Repo('.', search_parent_directories=True).working_tree_dir)\n",
    "PROJ_ROOT =  str(PROJ_ROOT_PATH)\n",
    "if PROJ_ROOT not in sys.path:\n",
    "    sys.path.append(PROJ_ROOT)\n",
    "\n",
    "print(f\"Project Root Directory: {PROJ_ROOT}\")"
   ]
  },
  {
   "cell_type": "code",
   "execution_count": 5,
   "id": "fc0d3315-0bd7-4000-888f-96683a469bfe",
   "metadata": {},
   "outputs": [],
   "source": [
    "import numpy as np\n",
    "import matplotlib.pyplot as plt\n",
    "\n",
    "import gymnasium as gym\n",
    "from stable_baselines3 import PPO, SAC\n",
    "from stable_baselines3.common.vec_env import DummyVecEnv\n",
    "from stable_baselines3.common.env_util import make_vec_env\n",
    "\n",
    "from lib.folder_paths import get_exp_name_tag, deconstruct_exp_name, makeget_logging_dir\n",
    "# from lib.env_utils import AtariWrapper_NoisyFrame, AtariWrapper_Compressed, make_atari_env_Custom_VecFrameStack, SaveBestModelCallback\n",
    "from lib.env_utils import SaveBestModelCallback\n",
    "from lib.vizresults import plot_single_run_rewards"
   ]
  },
  {
   "cell_type": "code",
   "execution_count": 6,
   "id": "0cb89bc5-72b8-467f-91c8-f91202376da7",
   "metadata": {},
   "outputs": [
    {
     "name": "stdout",
     "output_type": "stream",
     "text": [
      "Experiment: BipedalWalker-v3--vanilla_0\n",
      "Using device: 2\n",
      "-------\n",
      "RUN: 0\n"
     ]
    },
    {
     "data": {
      "application/vnd.jupyter.widget-view+json": {
       "model_id": "04e8716882874f0d9d76e9a05ae70db4",
       "version_major": 2,
       "version_minor": 0
      },
      "text/plain": [
       "Output()"
      ]
     },
     "metadata": {},
     "output_type": "display_data"
    },
    {
     "data": {
      "text/html": [
       "<pre style=\"white-space:pre;overflow-x:auto;line-height:normal;font-family:Menlo,'DejaVu Sans Mono',consolas,'Courier New',monospace\"></pre>\n"
      ],
      "text/plain": []
     },
     "metadata": {},
     "output_type": "display_data"
    },
    {
     "data": {
      "text/html": [
       "<pre style=\"white-space:pre;overflow-x:auto;line-height:normal;font-family:Menlo,'DejaVu Sans Mono',consolas,'Courier New',monospace\">\n",
       "</pre>\n"
      ],
      "text/plain": [
       "\n"
      ]
     },
     "metadata": {},
     "output_type": "display_data"
    },
    {
     "data": {
      "application/vnd.jupyter.widget-view+json": {
       "model_id": "ec473eb97bc44d9d99e07172ff0e23e3",
       "version_major": 2,
       "version_minor": 0
      },
      "text/plain": [
       "Output()"
      ]
     },
     "metadata": {},
     "output_type": "display_data"
    },
    {
     "name": "stdout",
     "output_type": "stream",
     "text": [
      "-------\n",
      "RUN: 1\n"
     ]
    },
    {
     "data": {
      "text/html": [
       "<pre style=\"white-space:pre;overflow-x:auto;line-height:normal;font-family:Menlo,'DejaVu Sans Mono',consolas,'Courier New',monospace\"></pre>\n"
      ],
      "text/plain": []
     },
     "metadata": {},
     "output_type": "display_data"
    },
    {
     "data": {
      "text/html": [
       "<pre style=\"white-space:pre;overflow-x:auto;line-height:normal;font-family:Menlo,'DejaVu Sans Mono',consolas,'Courier New',monospace\">\n",
       "</pre>\n"
      ],
      "text/plain": [
       "\n"
      ]
     },
     "metadata": {},
     "output_type": "display_data"
    },
    {
     "data": {
      "application/vnd.jupyter.widget-view+json": {
       "model_id": "f654a0dc46ea47409894b272f90fb2ad",
       "version_major": 2,
       "version_minor": 0
      },
      "text/plain": [
       "Output()"
      ]
     },
     "metadata": {},
     "output_type": "display_data"
    },
    {
     "name": "stdout",
     "output_type": "stream",
     "text": [
      "-------\n",
      "RUN: 2\n"
     ]
    },
    {
     "data": {
      "text/html": [
       "<pre style=\"white-space:pre;overflow-x:auto;line-height:normal;font-family:Menlo,'DejaVu Sans Mono',consolas,'Courier New',monospace\"></pre>\n"
      ],
      "text/plain": []
     },
     "metadata": {},
     "output_type": "display_data"
    },
    {
     "data": {
      "text/html": [
       "<pre style=\"white-space:pre;overflow-x:auto;line-height:normal;font-family:Menlo,'DejaVu Sans Mono',consolas,'Courier New',monospace\">\n",
       "</pre>\n"
      ],
      "text/plain": [
       "\n"
      ]
     },
     "metadata": {},
     "output_type": "display_data"
    },
    {
     "data": {
      "application/vnd.jupyter.widget-view+json": {
       "model_id": "25b5aed66ca9482e8509f72befbc2db4",
       "version_major": 2,
       "version_minor": 0
      },
      "text/plain": [
       "Output()"
      ]
     },
     "metadata": {},
     "output_type": "display_data"
    },
    {
     "name": "stdout",
     "output_type": "stream",
     "text": [
      "-------\n",
      "RUN: 3\n"
     ]
    },
    {
     "data": {
      "text/html": [
       "<pre style=\"white-space:pre;overflow-x:auto;line-height:normal;font-family:Menlo,'DejaVu Sans Mono',consolas,'Courier New',monospace\"></pre>\n"
      ],
      "text/plain": []
     },
     "metadata": {},
     "output_type": "display_data"
    },
    {
     "data": {
      "text/html": [
       "<pre style=\"white-space:pre;overflow-x:auto;line-height:normal;font-family:Menlo,'DejaVu Sans Mono',consolas,'Courier New',monospace\">\n",
       "</pre>\n"
      ],
      "text/plain": [
       "\n"
      ]
     },
     "metadata": {},
     "output_type": "display_data"
    },
    {
     "name": "stdout",
     "output_type": "stream",
     "text": [
      "-------\n",
      "RUN: 4\n"
     ]
    },
    {
     "data": {
      "application/vnd.jupyter.widget-view+json": {
       "model_id": "1fbbf6d6b358414886616bf701dfca48",
       "version_major": 2,
       "version_minor": 0
      },
      "text/plain": [
       "Output()"
      ]
     },
     "metadata": {},
     "output_type": "display_data"
    },
    {
     "data": {
      "text/html": [
       "<pre style=\"white-space:pre;overflow-x:auto;line-height:normal;font-family:Menlo,'DejaVu Sans Mono',consolas,'Courier New',monospace\"></pre>\n"
      ],
      "text/plain": []
     },
     "metadata": {},
     "output_type": "display_data"
    },
    {
     "data": {
      "text/html": [
       "<pre style=\"white-space:pre;overflow-x:auto;line-height:normal;font-family:Menlo,'DejaVu Sans Mono',consolas,'Courier New',monospace\">\n",
       "</pre>\n"
      ],
      "text/plain": [
       "\n"
      ]
     },
     "metadata": {},
     "output_type": "display_data"
    }
   ],
   "source": [
    "# Get names and tags of experiment\n",
    "exp_name, exp_metaname, exp_tag = get_exp_name_tag(env_id, exp_param_type, exp_param_value)\n",
    "\n",
    "print(f\"Experiment: {exp_name}\")\n",
    "print(f\"Using device: {torch.cuda.current_device()}\")\n",
    "\n",
    "# Get directories\n",
    "models_dir, log_dir, gif_dir, image_dir = makeget_logging_dir(exp_name)\n",
    "\n",
    "# ALgorithm to use\n",
    "ALGO_TYPE = \"PPO\"\n",
    "\n",
    "ALGO_DICT = {\"SAC\": SAC, \"PPO\": PPO}\n",
    "ALGO = ALGO_DICT[ALGO_TYPE]\n",
    "\n",
    "run_mother_seed = 30092023\n",
    "for run_no in range(5):\n",
    "    run_seed = run_mother_seed + run_no\n",
    "    # Start Experiment\n",
    "    print(\"-------\")\n",
    "    print(f\"RUN: {run_no}\")\n",
    "    \n",
    "    # Log directory for each run of the experiment\n",
    "    run_log_dir = f\"{log_dir}/run_{run_no}\"\n",
    "    best_model_path = f\"{models_dir}/{exp_name}-run_{run_no}-best\"\n",
    "    \n",
    "    # # Create the callback: check every 1000 steps\n",
    "    # callback = SaveBestModelCallback(check_freq=int(TRAIN_STEPS/10), \n",
    "    #                                 log_dir=run_log_dir,\n",
    "    #                                 save_path=best_model_path,\n",
    "    #                                 verbose=1) \n",
    "    \n",
    "    vec_env = make_vec_env(env_id, \n",
    "                           n_envs=NUM_ENVS,\n",
    "                           monitor_dir=run_log_dir,\n",
    "                           seed=run_seed, \n",
    "                           vec_env_cls=DummyVecEnv)\n",
    "\n",
    "    # Create RL model\n",
    "    model = ALGO(\"MlpPolicy\", vec_env, verbose=0)\n",
    "    \n",
    "    # Train the agent\n",
    "    model.learn(total_timesteps=TRAIN_STEPS, \n",
    "                progress_bar=not False, \n",
    "                callback=None)\n",
    "    \n",
    "    # Save the final agent\n",
    "    model.save(f\"{models_dir}/{exp_name}-run_{run_no}-{ALGO_TYPE}\")"
   ]
  },
  {
   "cell_type": "code",
   "execution_count": null,
   "id": "f86ced42-1242-49d2-be69-69ebf85d2ab2",
   "metadata": {},
   "outputs": [],
   "source": []
  }
 ],
 "metadata": {
  "kernelspec": {
   "display_name": "Python 3 (ipykernel)",
   "language": "python",
   "name": "python3"
  },
  "language_info": {
   "codemirror_mode": {
    "name": "ipython",
    "version": 3
   },
   "file_extension": ".py",
   "mimetype": "text/x-python",
   "name": "python",
   "nbconvert_exporter": "python",
   "pygments_lexer": "ipython3",
   "version": "3.10.6"
  }
 },
 "nbformat": 4,
 "nbformat_minor": 5
}
