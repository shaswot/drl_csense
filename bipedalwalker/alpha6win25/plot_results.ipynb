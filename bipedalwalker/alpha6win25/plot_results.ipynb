{
 "cells": [
  {
   "cell_type": "code",
   "execution_count": 1,
   "id": "8eecc5ef-1b8f-46df-90f3-98ada8f34311",
   "metadata": {},
   "outputs": [],
   "source": [
    "import matplotlib.pyplot as plt\n",
    "from matplotlib.patches import Patch\n",
    "import numpy as np\n",
    "import pandas as pd"
   ]
  },
  {
   "cell_type": "code",
   "execution_count": 2,
   "id": "2f9457db-acfe-4933-bc88-3f3dbe334aae",
   "metadata": {},
   "outputs": [],
   "source": [
    "noise_list = [0.0, 0.1, 0.2, 0.3, 0.4, 0.5, 0.6, 0.7, 0.8]"
   ]
  },
  {
   "cell_type": "code",
   "execution_count": 3,
   "id": "9786137b-3ab8-4274-b5e8-388fc484e777",
   "metadata": {},
   "outputs": [],
   "source": [
    "nonCS_means_over_runs = []\n",
    "CS_means_over_runs = []\n",
    "\n",
    "for agent_run_no in [0,1,3,4]:\n",
    "    means = np.load(f\"noncsmeans_{agent_run_no}.npy\")\n",
    "    nonCS_means_over_runs.append(means)\n",
    "\n",
    "    mean_s = np.load(f\"csmeans_{agent_run_no}.npy\")\n",
    "    CS_means_over_runs.append(mean_s)"
   ]
  },
  {
   "cell_type": "code",
   "execution_count": 4,
   "id": "133a1776-cfad-445e-b788-826f58f9b19d",
   "metadata": {},
   "outputs": [],
   "source": [
    "nonCS_means_over_runs = np.array(nonCS_means_over_runs).reshape(-1, len(noise_list))\n",
    "CS_means_over_runs = np.array(CS_means_over_runs).reshape(-1, len(noise_list))"
   ]
  },
  {
   "cell_type": "code",
   "execution_count": 5,
   "id": "958e4ddf-81be-4d48-acdd-65277198d374",
   "metadata": {},
   "outputs": [
    {
     "data": {
      "text/plain": [
       "(20, 9)"
      ]
     },
     "execution_count": 5,
     "metadata": {},
     "output_type": "execute_result"
    }
   ],
   "source": [
    "nonCS_means_over_runs.shape"
   ]
  },
  {
   "cell_type": "code",
   "execution_count": 6,
   "id": "c04d76da-db94-479a-a080-d7ced4525220",
   "metadata": {},
   "outputs": [],
   "source": [
    "nonCS_final_means = np.mean(nonCS_means_over_runs, axis=0)\n",
    "nonCS_final_stds = np.std(nonCS_means_over_runs, axis=0)\n",
    "CS_final_means = np.mean(CS_means_over_runs, axis=0)\n",
    "CS_final_stds = np.std(CS_means_over_runs, axis=0)"
   ]
  },
  {
   "cell_type": "code",
   "execution_count": 7,
   "id": "4f162747-5778-4733-b051-4ecc695da053",
   "metadata": {},
   "outputs": [
    {
     "data": {
      "text/plain": [
       "array([ 267.70542238,  219.52696068,  118.74663074,    9.63768858,\n",
       "        -43.90382869,  -88.2394022 , -107.02793287, -109.11791588,\n",
       "       -109.9982043 ])"
      ]
     },
     "execution_count": 7,
     "metadata": {},
     "output_type": "execute_result"
    }
   ],
   "source": [
    "nonCS_final_means"
   ]
  },
  {
   "cell_type": "code",
   "execution_count": 8,
   "id": "ea1946fe-227a-47a8-9d70-7fe9a32231ee",
   "metadata": {},
   "outputs": [
    {
     "data": {
      "text/plain": [
       "array([267.70542238, 261.75610108, 269.30834275, 262.14755758,\n",
       "       259.50818155, 254.38779424, 246.94776845, 198.39773576,\n",
       "       102.75561165])"
      ]
     },
     "execution_count": 8,
     "metadata": {},
     "output_type": "execute_result"
    }
   ],
   "source": [
    "CS_final_means"
   ]
  },
  {
   "cell_type": "code",
   "execution_count": 11,
   "id": "a8c0358b-2807-4981-b707-f2f8d3ab3c4e",
   "metadata": {},
   "outputs": [
    {
     "data": {
      "image/png": "[encoded data removed]",
      "text/plain": [
       "<Figure size 400x300 with 1 Axes>"
      ]
     },
     "metadata": {},
     "output_type": "display_data"
    }
   ],
   "source": [
    "fig_width = 4\n",
    "fig_height = 3\n",
    "fig, axes = plt.subplots(nrows=1, \n",
    "                         ncols=1,\n",
    "                         figsize=[fig_width,fig_height],\n",
    "                         layout='constrained',\n",
    "                         sharex=not True,\n",
    "                         sharey=not True)\n",
    "\n",
    "axes.bar(np.arange(len(noise_list)), CS_final_means, yerr=CS_final_stds, align='center', ecolor='black', capsize=5, label=\"With CS\")\n",
    "axes.bar(np.arange(len(noise_list)), nonCS_final_means, yerr=nonCS_final_stds, align='center', ecolor='black', capsize=5, label=\"Without CS\")\n",
    "\n",
    "axes.set(xlabel=\"Noise\", ylabel=\"Average Reward\")\n",
    "axes.set_xticks(np.arange(len(noise_list)), noise_list)\n",
    "\n",
    "fig.suptitle(f'alpha=1e-6, window=25', fontsize='medium');\n",
    "fig.legend(ncols=1, bbox_to_anchor=(0.17, 0.15), loc='lower left');\n"
   ]
  },
  {
   "cell_type": "code",
   "execution_count": 12,
   "id": "4e4f64d5-abf5-4cf7-84c5-8347c7156356",
   "metadata": {},
   "outputs": [],
   "source": [
    "fig.savefig(\"alpha6win25.png\")"
   ]
  },
  {
   "cell_type": "code",
   "execution_count": null,
   "id": "1e8f34e6-48e1-471d-961b-08c227fbfcb5",
   "metadata": {},
   "outputs": [],
   "source": []
  },
  {
   "cell_type": "code",
   "execution_count": null,
   "id": "53c10547-eb0f-4b8a-88c9-6301f999dfdc",
   "metadata": {},
   "outputs": [],
   "source": []
  }
 ],
 "metadata": {
  "kernelspec": {
   "display_name": "Python 3 (ipykernel)",
   "language": "python",
   "name": "python3"
  },
  "language_info": {
   "codemirror_mode": {
    "name": "ipython",
    "version": 3
   },
   "file_extension": ".py",
   "mimetype": "text/x-python",
   "name": "python",
   "nbconvert_exporter": "python",
   "pygments_lexer": "ipython3",
   "version": "3.10.6"
  }
 },
 "nbformat": 4,
 "nbformat_minor": 5
}
